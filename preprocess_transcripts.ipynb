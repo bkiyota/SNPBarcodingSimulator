{
 "cells": [
  {
   "cell_type": "markdown",
   "id": "isolated-amber",
   "metadata": {},
   "source": [
    "# Preprocess Input Transcripts\n",
    "\n",
    "We want to preprocess fasta files giving transcript information to a Python friendly file format."
   ]
  },
  {
   "cell_type": "code",
   "execution_count": 1,
   "id": "grand-friendship",
   "metadata": {
    "ExecuteTime": {
     "end_time": "2022-04-15T20:12:57.838142Z",
     "start_time": "2022-04-15T20:12:57.340193Z"
    }
   },
   "outputs": [],
   "source": [
    "from Bio import SeqIO\n",
    "import pandas as pd"
   ]
  },
  {
   "cell_type": "code",
   "execution_count": 32,
   "id": "inner-collins",
   "metadata": {
    "ExecuteTime": {
     "end_time": "2022-04-15T20:32:44.523302Z",
     "start_time": "2022-04-15T20:32:44.520557Z"
    }
   },
   "outputs": [],
   "source": [
    "DATA_PATH = '/mnt/geofflab/SNP_barcoding/Lvar_annotations_v3_Jan2021/'\n",
    "LOCATIONS_PATH = DATA_PATH + 'annotations/transcript_coords.txt'\n",
    "SEQUENCES_PATH = DATA_PATH + 'Lvar.braker.pasa.transcripts.fasta'\n",
    "SAVE_PATH = DATA_PATH + 'transcripts.csv'"
   ]
  },
  {
   "cell_type": "code",
   "execution_count": 8,
   "id": "prepared-contents",
   "metadata": {
    "ExecuteTime": {
     "end_time": "2022-04-15T20:16:02.742735Z",
     "start_time": "2022-04-15T20:16:02.712379Z"
    }
   },
   "outputs": [],
   "source": [
    "# Read transcript coords\n",
    "transcipt_coords = pd.read_csv(LOCATIONS_PATH, sep='\\t', index_col=4, header=None, \n",
    "                                names=['chromosome', 'start', 'end', 'direction', 'gene'])"
   ]
  },
  {
   "cell_type": "code",
   "execution_count": 27,
   "id": "prescription-student",
   "metadata": {
    "ExecuteTime": {
     "end_time": "2022-04-15T20:23:01.784988Z",
     "start_time": "2022-04-15T20:22:59.055046Z"
    }
   },
   "outputs": [],
   "source": [
    "# Read sequences\n",
    "fasta_sequences = SeqIO.parse(open(SEQUENCES_PATH),'fasta')\n",
    "\n",
    "transcripts = []\n",
    "sequences = []\n",
    "\n",
    "for fasta in fasta_sequences:\n",
    "    if fasta.id in transcipt_coords.index:\n",
    "        transcripts.append(fasta.id)\n",
    "        sequences.append(str(fasta.seq))\n",
    "        \n",
    "# Add the sequence data to the coords file\n",
    "transcipt_coords.loc[transcripts, 'sequence'] = sequences"
   ]
  },
  {
   "cell_type": "code",
   "execution_count": 30,
   "id": "sticky-month",
   "metadata": {
    "ExecuteTime": {
     "end_time": "2022-04-15T20:24:39.685551Z",
     "start_time": "2022-04-15T20:24:39.664565Z"
    }
   },
   "outputs": [],
   "source": [
    "# Convert chromosomes into ints for ease of use\n",
    "transcipt_coords['chromosome'] = transcipt_coords['chromosome'].apply(lambda x: int(x.split('chr')[1]))"
   ]
  },
  {
   "cell_type": "code",
   "execution_count": 35,
   "id": "accepted-bulgaria",
   "metadata": {
    "ExecuteTime": {
     "end_time": "2022-04-15T20:33:05.263170Z",
     "start_time": "2022-04-15T20:33:04.334285Z"
    }
   },
   "outputs": [],
   "source": [
    "# Save the final result\n",
    "transcipt_coords.to_csv(SAVE_PATH)"
   ]
  },
  {
   "cell_type": "code",
   "execution_count": null,
   "id": "israeli-rogers",
   "metadata": {},
   "outputs": [],
   "source": []
  }
 ],
 "metadata": {
  "hide_input": false,
  "kernelspec": {
   "display_name": "Python 3",
   "language": "python",
   "name": "python3"
  },
  "language_info": {
   "codemirror_mode": {
    "name": "ipython",
    "version": 3
   },
   "file_extension": ".py",
   "mimetype": "text/x-python",
   "name": "python",
   "nbconvert_exporter": "python",
   "pygments_lexer": "ipython3",
   "version": "3.7.9"
  }
 },
 "nbformat": 4,
 "nbformat_minor": 5
}
