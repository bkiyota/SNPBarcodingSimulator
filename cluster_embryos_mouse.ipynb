{
 "cells": [
  {
   "cell_type": "code",
   "execution_count": 1,
   "id": "taken-christian",
   "metadata": {
    "ExecuteTime": {
     "end_time": "2022-06-13T21:29:19.968742Z",
     "start_time": "2022-06-13T21:29:18.399650Z"
    }
   },
   "outputs": [],
   "source": [
    "from scipy.io import mmread\n",
    "import pandas as pd\n",
    "import anndata\n",
    "from tqdm.notebook import tqdm\n",
    "import numpy as np\n",
    "from numba import njit"
   ]
  },
  {
   "cell_type": "markdown",
   "id": "postal-brunei",
   "metadata": {},
   "source": [
    "## Read Variant Calling Data"
   ]
  },
  {
   "cell_type": "code",
   "execution_count": 2,
   "id": "eight-criterion",
   "metadata": {
    "ExecuteTime": {
     "end_time": "2022-06-13T21:29:20.133353Z",
     "start_time": "2022-06-13T21:29:20.130669Z"
    }
   },
   "outputs": [],
   "source": [
    "NUM_EMBRYOS = 3\n",
    "VARIANT_MTX_PATHS = ['data/emb1/out_mtrix.mtx', 'data/emb2/out_mtrix.mtx', 'data/emb3/out_mtrix.mtx']\n",
    "MUTATION_ANNO_PATHS = ['data/emb1/mouse_1.var', 'data/emb2/mouse_2.var', 'data/emb3/mouse_3.var']\n",
    "CELL_BARCODE_PATHS = ['data/emb1/mouse_1_cell_barcodes.tsv', 'data/emb2/mouse_2_cell_barcodes.tsv', 'data/emb3/mouse_3_cell_barcodes.tsv']"
   ]
  },
  {
   "cell_type": "code",
   "execution_count": 3,
   "id": "intense-omega",
   "metadata": {
    "ExecuteTime": {
     "end_time": "2022-06-13T21:30:41.117965Z",
     "start_time": "2022-06-13T21:29:20.134876Z"
    }
   },
   "outputs": [],
   "source": [
    "variant_mats = []\n",
    "mutation_annos = []\n",
    "cell_barcodes = []\n",
    "\n",
    "for i in range(NUM_EMBRYOS):\n",
    "    # Read variant call matrices\n",
    "    variant_mat = mmread(VARIANT_MTX_PATHS[i])\n",
    "    variant_mats.append(variant_mat)\n",
    "    \n",
    "    # Read the identifiers for the mutations\n",
    "    with open(MUTATION_ANNO_PATHS[i]) as file:\n",
    "        lines = file.readlines()\n",
    "        lines = [line.rstrip() for line in lines]\n",
    "        \n",
    "    mutation_annos.append(lines)\n",
    "    \n",
    "    # Read the barcodes for the cells\n",
    "    with open(CELL_BARCODE_PATHS[i]) as file:\n",
    "        lines = file.readlines()\n",
    "        lines = [line.rstrip() for line in lines]\n",
    "        \n",
    "    cell_barcodes.append(lines)"
   ]
  },
  {
   "cell_type": "code",
   "execution_count": 4,
   "id": "sustainable-victorian",
   "metadata": {
    "ExecuteTime": {
     "end_time": "2022-06-13T21:30:49.579712Z",
     "start_time": "2022-06-13T21:30:41.119944Z"
    }
   },
   "outputs": [],
   "source": [
    "variant_adatas = []\n",
    "\n",
    "# Convert each of the variant datasets to anndata\n",
    "for i in range(NUM_EMBRYOS):\n",
    "    obs = pd.DataFrame(index=cell_barcodes[i])\n",
    "    obs['embryo'] = i\n",
    "    var = pd.DataFrame(index=mutation_annos[i])\n",
    "    \n",
    "    adata = anndata.AnnData(obs=obs, var=var, X=variant_mats[i].T)\n",
    "    variant_adatas.append(adata)"
   ]
  },
  {
   "cell_type": "code",
   "execution_count": 5,
   "id": "capital-honolulu",
   "metadata": {
    "ExecuteTime": {
     "end_time": "2022-06-13T21:30:51.851279Z",
     "start_time": "2022-06-13T21:30:49.581743Z"
    }
   },
   "outputs": [
    {
     "name": "stderr",
     "output_type": "stream",
     "text": [
      "Observation names are not unique. To make them unique, call `.obs_names_make_unique`.\n"
     ]
    }
   ],
   "source": [
    "variants_joined = anndata.concat(variant_adatas, join='outer')"
   ]
  },
  {
   "cell_type": "markdown",
   "id": "hispanic-professor",
   "metadata": {},
   "source": [
    "## Compute Adjusted Hamming Distances and Cluster"
   ]
  },
  {
   "cell_type": "code",
   "execution_count": 12,
   "id": "silver-assault",
   "metadata": {
    "ExecuteTime": {
     "end_time": "2022-06-13T22:00:51.433836Z",
     "start_time": "2022-06-13T22:00:51.426937Z"
    },
    "code_folding": []
   },
   "outputs": [],
   "source": [
    "@njit\n",
    "def get_adj_ham_dist_dense(cell1, cell2):\n",
    "    # Find the shared mutations on which we have a call\n",
    "    shared_inds = (cell1 != 0) & (cell2 != 0)\n",
    "    num_shared = np.sum(shared_inds)\n",
    "    \n",
    "    # Find the number of variants called differently\n",
    "    dif_call = cell1[shared_inds] != cell2[shared_inds]\n",
    "    num_dif = np.sum(dif_call)\n",
    "    \n",
    "    return num_dif/num_shared\n",
    "\n",
    "# Computes the distance matrix using adjusted hamming distance\n",
    "# Assumes rows are cells\n",
    "def compute_adj_hamming_dists(mtx):\n",
    "    num_cells = mtx.shape[0]\n",
    "    \n",
    "    dists = np.zeros((num_cells, num_cells))\n",
    "    \n",
    "    for i in tqdm(range(num_cells)):   \n",
    "        for j in range(i+1, num_cells):\n",
    "            dists[i][j] = get_adj_ham_dist_dense(mtx[i], mtx[j])\n",
    "            \n",
    "    return dists + dists.T"
   ]
  },
  {
   "cell_type": "code",
   "execution_count": null,
   "id": "domestic-jumping",
   "metadata": {
    "ExecuteTime": {
     "start_time": "2022-06-13T22:00:51.118Z"
    }
   },
   "outputs": [
    {
     "data": {
      "application/vnd.jupyter.widget-view+json": {
       "model_id": "8eaec7ad4e954493b214764ebbf89c2f",
       "version_major": 2,
       "version_minor": 0
      },
      "text/plain": [
       "  0%|          | 0/39827 [00:00<?, ?it/s]"
      ]
     },
     "metadata": {},
     "output_type": "display_data"
    }
   ],
   "source": [
    "compute_adj_hamming_dists(variants_joined.X.toarray())"
   ]
  },
  {
   "cell_type": "code",
   "execution_count": null,
   "id": "later-december",
   "metadata": {},
   "outputs": [],
   "source": []
  }
 ],
 "metadata": {
  "finalized": {
   "timestamp": 1654746893541,
   "trusted": true
  },
  "hide_input": false,
  "kernelspec": {
   "display_name": "Python 3",
   "language": "python",
   "name": "python3"
  },
  "language_info": {
   "codemirror_mode": {
    "name": "ipython",
    "version": 3
   },
   "file_extension": ".py",
   "mimetype": "text/x-python",
   "name": "python",
   "nbconvert_exporter": "python",
   "pygments_lexer": "ipython3",
   "version": "3.7.9"
  }
 },
 "nbformat": 4,
 "nbformat_minor": 5
}
