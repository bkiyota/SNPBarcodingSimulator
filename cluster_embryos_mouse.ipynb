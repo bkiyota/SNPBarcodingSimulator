{
 "cells": [
  {
   "cell_type": "code",
   "execution_count": 1,
   "id": "taken-christian",
   "metadata": {
    "ExecuteTime": {
     "end_time": "2022-06-14T00:21:43.659045Z",
     "start_time": "2022-06-14T00:21:41.390011Z"
    }
   },
   "outputs": [],
   "source": [
    "from scipy.io import mmread\n",
    "import pandas as pd\n",
    "import anndata\n",
    "from tqdm.notebook import tqdm\n",
    "import numpy as np\n",
    "from numba import njit\n",
    "from multiprocessing import Pool\n",
    "from functools import partial\n",
    "import matplotlib.pyplot as plt\n",
    "from sklearn.cluster import SpectralClustering\n",
    "import gc"
   ]
  },
  {
   "cell_type": "markdown",
   "id": "postal-brunei",
   "metadata": {},
   "source": [
    "## Read Variant Calling Data"
   ]
  },
  {
   "cell_type": "code",
   "execution_count": 2,
   "id": "eight-criterion",
   "metadata": {
    "ExecuteTime": {
     "end_time": "2022-06-14T00:21:43.664372Z",
     "start_time": "2022-06-14T00:21:43.661466Z"
    }
   },
   "outputs": [],
   "source": [
    "NUM_EMBRYOS = 3\n",
    "VARIANT_MTX_PATHS = ['data/emb1/out_mtrix.mtx', 'data/emb2/out_mtrix.mtx', 'data/emb3/out_mtrix.mtx']\n",
    "MUTATION_ANNO_PATHS = ['data/emb1/mouse_1.var', 'data/emb2/mouse_2.var', 'data/emb3/mouse_3.var']\n",
    "CELL_BARCODE_PATHS = ['data/emb1/mouse_1_cell_barcodes.tsv', 'data/emb2/mouse_2_cell_barcodes.tsv', 'data/emb3/mouse_3_cell_barcodes.tsv']"
   ]
  },
  {
   "cell_type": "code",
   "execution_count": 3,
   "id": "intense-omega",
   "metadata": {
    "ExecuteTime": {
     "end_time": "2022-06-14T00:23:04.661209Z",
     "start_time": "2022-06-14T00:21:43.666396Z"
    }
   },
   "outputs": [],
   "source": [
    "variant_mats = []\n",
    "mutation_annos = []\n",
    "cell_barcodes = []\n",
    "\n",
    "for i in range(NUM_EMBRYOS):\n",
    "    # Read variant call matrices\n",
    "    variant_mat = mmread(VARIANT_MTX_PATHS[i])\n",
    "    variant_mats.append(variant_mat)\n",
    "    \n",
    "    # Read the identifiers for the mutations\n",
    "    with open(MUTATION_ANNO_PATHS[i]) as file:\n",
    "        lines = file.readlines()\n",
    "        lines = [line.rstrip() for line in lines]\n",
    "        \n",
    "    mutation_annos.append(lines)\n",
    "    \n",
    "    # Read the barcodes for the cells\n",
    "    with open(CELL_BARCODE_PATHS[i]) as file:\n",
    "        lines = file.readlines()\n",
    "        lines = [line.rstrip() for line in lines]\n",
    "        \n",
    "    cell_barcodes.append(lines)"
   ]
  },
  {
   "cell_type": "code",
   "execution_count": 4,
   "id": "sustainable-victorian",
   "metadata": {
    "ExecuteTime": {
     "end_time": "2022-06-14T00:23:12.400259Z",
     "start_time": "2022-06-14T00:23:04.663611Z"
    }
   },
   "outputs": [],
   "source": [
    "variant_adatas = []\n",
    "\n",
    "# Convert each of the variant datasets to anndata\n",
    "for i in range(NUM_EMBRYOS):\n",
    "    obs = pd.DataFrame(index=cell_barcodes[i])\n",
    "    obs['embryo'] = i\n",
    "    var = pd.DataFrame(index=mutation_annos[i])\n",
    "    \n",
    "    adata = anndata.AnnData(obs=obs, var=var, X=variant_mats[i].T)\n",
    "    variant_adatas.append(adata)"
   ]
  },
  {
   "cell_type": "code",
   "execution_count": 5,
   "id": "capital-honolulu",
   "metadata": {
    "ExecuteTime": {
     "end_time": "2022-06-14T00:23:15.084416Z",
     "start_time": "2022-06-14T00:23:12.402320Z"
    }
   },
   "outputs": [
    {
     "name": "stderr",
     "output_type": "stream",
     "text": [
      "Observation names are not unique. To make them unique, call `.obs_names_make_unique`.\n"
     ]
    }
   ],
   "source": [
    "variants_joined = anndata.concat(variant_adatas, join='outer')"
   ]
  },
  {
   "cell_type": "markdown",
   "id": "hispanic-professor",
   "metadata": {},
   "source": [
    "## Compute Adjusted Hamming Distances and Cluster"
   ]
  },
  {
   "cell_type": "code",
   "execution_count": 6,
   "id": "silver-assault",
   "metadata": {
    "ExecuteTime": {
     "end_time": "2022-06-14T00:23:15.092176Z",
     "start_time": "2022-06-14T00:23:15.086448Z"
    },
    "code_folding": []
   },
   "outputs": [],
   "source": [
    "def get_adj_ham_dist_dense(cell1, cell2):\n",
    "    # Find the shared mutations on which we have a call\n",
    "    shared_inds = (cell1 != 0) & (cell2 != 0)\n",
    "    num_shared = np.sum(shared_inds)\n",
    "    \n",
    "    # Find the number of variants called differently\n",
    "    dif_call = cell1[shared_inds] != cell2[shared_inds]\n",
    "    num_dif = np.sum(dif_call)\n",
    "    \n",
    "    return num_dif/num_shared\n",
    "\n",
    "# Computes the adj hamming distance between the given row_num and \n",
    "# all cells above the row_num\n",
    "def compute_dist_row(row_num):\n",
    "    global mtx\n",
    "    \n",
    "    num_cells = mtx.shape[0]\n",
    "    dists_row = np.zeros(num_cells)\n",
    "    \n",
    "    for i in range(row_num + 1, num_cells):\n",
    "        dists_row[i] = get_adj_ham_dist_dense(mtx[row_num], mtx[i])\n",
    "        \n",
    "    return dists_row\n",
    "\n",
    "# Computes the distance matrix using adjusted hamming distance\n",
    "# Assumes rows are cells\n",
    "def compute_adj_hamming_dists(num_cores=70):\n",
    "    global mtx\n",
    "    num_cells = mtx.shape[0]\n",
    "    \n",
    "    p = Pool(num_cores)\n",
    "    dists = list(tqdm(p.imap(compute_dist_row, range(num_cells)), total=num_cells))\n",
    "    p.close()\n",
    "    \n",
    "    dists = np.array(dists)\n",
    "    \n",
    "    return dists + dists.T"
   ]
  },
  {
   "cell_type": "code",
   "execution_count": 7,
   "id": "domestic-jumping",
   "metadata": {
    "ExecuteTime": {
     "end_time": "2022-06-14T00:48:16.561823Z",
     "start_time": "2022-06-14T00:23:15.093617Z"
    }
   },
   "outputs": [
    {
     "data": {
      "application/vnd.jupyter.widget-view+json": {
       "model_id": "1b168612b490412ab896a9b4290e9f69",
       "version_major": 2,
       "version_minor": 0
      },
      "text/plain": [
       "  0%|          | 0/39827 [00:00<?, ?it/s]"
      ]
     },
     "metadata": {},
     "output_type": "display_data"
    }
   ],
   "source": [
    "# We have to make the mtx global because partial doesn't work with\n",
    "# such big data\n",
    "mtx = variants_joined.X.toarray()\n",
    "\n",
    "dists = compute_adj_hamming_dists()\n",
    "del mtx"
   ]
  },
  {
   "cell_type": "code",
   "execution_count": 8,
   "id": "special-valuable",
   "metadata": {
    "ExecuteTime": {
     "end_time": "2022-06-14T00:48:25.047047Z",
     "start_time": "2022-06-14T00:48:16.566717Z"
    }
   },
   "outputs": [],
   "source": [
    "# Plot the distance matrix\n",
    "plt.figure(figsize=(10, 10))\n",
    "plt.matshow(dists, fignum=1)\n",
    "plt.close()"
   ]
  },
  {
   "cell_type": "code",
   "execution_count": 9,
   "id": "digital-prediction",
   "metadata": {
    "ExecuteTime": {
     "end_time": "2022-06-14T00:48:52.859477Z",
     "start_time": "2022-06-14T00:48:25.050729Z"
    }
   },
   "outputs": [
    {
     "data": {
      "text/plain": [
       "1807"
      ]
     },
     "execution_count": 9,
     "metadata": {},
     "output_type": "execute_result"
    }
   ],
   "source": [
    "# Get an affinity matrix from out dist matrix\n",
    "X = np.exp(-dists)\n",
    "del dists\n",
    "gc.collect()"
   ]
  },
  {
   "cell_type": "code",
   "execution_count": 10,
   "id": "perfect-complaint",
   "metadata": {
    "ExecuteTime": {
     "end_time": "2022-06-14T00:52:00.503821Z",
     "start_time": "2022-06-14T00:48:52.861393Z"
    }
   },
   "outputs": [],
   "source": [
    "spectral_clusters = SpectralClustering(n_clusters=3, affinity='precomputed').fit(X)"
   ]
  },
  {
   "cell_type": "code",
   "execution_count": 11,
   "id": "fatty-signal",
   "metadata": {
    "ExecuteTime": {
     "end_time": "2022-06-14T00:52:00.521757Z",
     "start_time": "2022-06-14T00:52:00.506490Z"
    }
   },
   "outputs": [
    {
     "data": {
      "text/plain": [
       "0.12953307348749946"
      ]
     },
     "execution_count": 11,
     "metadata": {},
     "output_type": "execute_result"
    }
   ],
   "source": [
    "from sklearn.metrics import adjusted_rand_score\n",
    "adjusted_rand_score(variants_joined.obs.embryo, spectral_clusters.labels_)"
   ]
  },
  {
   "cell_type": "code",
   "execution_count": null,
   "id": "bronze-richardson",
   "metadata": {},
   "outputs": [],
   "source": []
  }
 ],
 "metadata": {
  "finalized": {
   "timestamp": 1654746893541,
   "trusted": true
  },
  "hide_input": false,
  "kernelspec": {
   "display_name": "Python 3",
   "language": "python",
   "name": "python3"
  },
  "language_info": {
   "codemirror_mode": {
    "name": "ipython",
    "version": 3
   },
   "file_extension": ".py",
   "mimetype": "text/x-python",
   "name": "python",
   "nbconvert_exporter": "python",
   "pygments_lexer": "ipython3",
   "version": "3.7.9"
  }
 },
 "nbformat": 4,
 "nbformat_minor": 5
}
