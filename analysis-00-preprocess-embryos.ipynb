{
 "cells": [
  {
   "cell_type": "code",
   "execution_count": 1,
   "id": "tutorial-saskatchewan",
   "metadata": {
    "ExecuteTime": {
     "end_time": "2022-07-06T18:54:23.754827Z",
     "start_time": "2022-07-06T18:54:22.442435Z"
    }
   },
   "outputs": [],
   "source": [
    "from scipy.io import mmread\n",
    "import pandas as pd\n",
    "import anndata\n",
    "from tqdm.notebook import tqdm\n",
    "import numpy as np\n",
    "import gc"
   ]
  },
  {
   "cell_type": "markdown",
   "id": "further-virginia",
   "metadata": {},
   "source": [
    "## Preprocess Embryos\n",
    "\n",
    "Read the embryo variant calls and associated reads and create anndatas with them."
   ]
  },
  {
   "cell_type": "code",
   "execution_count": 2,
   "id": "coastal-chair",
   "metadata": {
    "ExecuteTime": {
     "end_time": "2022-07-06T18:54:23.760311Z",
     "start_time": "2022-07-06T18:54:23.757027Z"
    }
   },
   "outputs": [],
   "source": [
    "NUM_EMBRYOS = 3\n",
    "VARIANT_MTX_PATHS = ['data/emb1/out_mtrix.mtx', 'data/emb2/out_mtrix.mtx', 'data/emb3/out_mtrix.mtx']\n",
    "MUTATION_ANNO_PATHS = ['data/emb1/mouse_1.var', 'data/emb2/mouse_2.var', 'data/emb3/mouse_3.var']\n",
    "CELL_BARCODE_PATHS = ['data/emb1/mouse_1_cell_barcodes.tsv', 'data/emb2/mouse_2_cell_barcodes.tsv', 'data/emb3/mouse_3_cell_barcodes.tsv']\n",
    "REF_READS_PATHS = ['data/emb1/mouse_1_coverage.ref.mtx', 'data/emb2/mouse_2_coverage.ref.mtx', 'data/emb3/mouse_3_coverage.ref.mtx']\n",
    "VAR_READS_PATHS = ['data/emb1/mouse_1_coverage.out.mtx', 'data/emb2/mouse_2_coverage.out.mtx', 'data/emb3/mouse_3_coverage.out.mtx']\n",
    "\n",
    "CALLS_SAVE_PATH = 'data/calls_2022_07_06.h5ad'\n",
    "READS_SAVE_PATH = 'data/reads_2022_07_06.h5ad'"
   ]
  },
  {
   "cell_type": "code",
   "execution_count": 3,
   "id": "white-catch",
   "metadata": {
    "ExecuteTime": {
     "end_time": "2022-07-06T18:58:23.571436Z",
     "start_time": "2022-07-06T18:54:23.762518Z"
    }
   },
   "outputs": [],
   "source": [
    "variant_mats = []\n",
    "mutation_annos = []\n",
    "cell_barcodes = []\n",
    "ref_reads_mats = []\n",
    "var_reads_mats = []\n",
    "\n",
    "for i in range(NUM_EMBRYOS):\n",
    "    # Read variant call matrices\n",
    "    variant_mat = mmread(VARIANT_MTX_PATHS[i])\n",
    "    variant_mats.append(variant_mat)\n",
    "    \n",
    "    # Read the number of reads for ref and variants for the cells\n",
    "    ref_reads_mat = mmread(REF_READS_PATHS[i])\n",
    "    ref_reads_mats.append(ref_reads_mat)\n",
    "    \n",
    "    var_reads_mat = mmread(VAR_READS_PATHS[i])\n",
    "    var_reads_mats.append(var_reads_mat)\n",
    "    \n",
    "    # Read the identifiers for the mutations\n",
    "    with open(MUTATION_ANNO_PATHS[i]) as file:\n",
    "        lines = file.readlines()\n",
    "        lines = [line.rstrip() for line in lines]\n",
    "        \n",
    "    mutation_annos.append(lines)\n",
    "    \n",
    "    # Read the barcodes for the cells\n",
    "    with open(CELL_BARCODE_PATHS[i]) as file:\n",
    "        lines = file.readlines()\n",
    "        lines = [line.rstrip() for line in lines]\n",
    "        \n",
    "    cell_barcodes.append(lines)"
   ]
  },
  {
   "cell_type": "code",
   "execution_count": 4,
   "id": "headed-purpose",
   "metadata": {
    "ExecuteTime": {
     "end_time": "2022-07-06T18:58:31.192878Z",
     "start_time": "2022-07-06T18:58:23.573740Z"
    }
   },
   "outputs": [],
   "source": [
    "variant_adatas = []\n",
    "read_adatas = []\n",
    "\n",
    "# Convert each of the variant datasets to anndata\n",
    "for i in range(NUM_EMBRYOS):\n",
    "    obs = pd.DataFrame(index=cell_barcodes[i])\n",
    "    obs['embryo'] = i\n",
    "    var = pd.DataFrame(index=mutation_annos[i])\n",
    "    X = variant_mats[i].T.toarray()\n",
    "    \n",
    "    adata = anndata.AnnData(obs=obs, var=var, X=X)\n",
    "    variant_adatas.append(adata)\n",
    "    \n",
    "# Convert the number of reads for each cell/variant into anndata\n",
    "# Note that we add together the number of reference reads and variant reads\n",
    "for i in range(NUM_EMBRYOS):\n",
    "    obs = pd.DataFrame(index=cell_barcodes[i])\n",
    "    obs['embryo'] = i\n",
    "    var = pd.DataFrame(index=mutation_annos[i])\n",
    "    \n",
    "    # Combine both reads\n",
    "    X = ref_reads_mats[i].T + var_reads_mats[i].T\n",
    "    X = X.toarray()\n",
    "    \n",
    "    adata = anndata.AnnData(obs=obs, var=var, X=X)\n",
    "    read_adatas.append(adata)"
   ]
  },
  {
   "cell_type": "code",
   "execution_count": 5,
   "id": "visible-syndication",
   "metadata": {
    "ExecuteTime": {
     "end_time": "2022-07-06T18:58:52.648291Z",
     "start_time": "2022-07-06T18:58:31.195025Z"
    }
   },
   "outputs": [
    {
     "name": "stderr",
     "output_type": "stream",
     "text": [
      "Observation names are not unique. To make them unique, call `.obs_names_make_unique`.\n",
      "Observation names are not unique. To make them unique, call `.obs_names_make_unique`.\n"
     ]
    }
   ],
   "source": [
    "# Join the data from each embryo\n",
    "variants_joined = anndata.concat(variant_adatas, join='outer')\n",
    "reads_joined = anndata.concat(read_adatas, join='outer')\n",
    "\n",
    "# Replace any missing data with zeros\n",
    "variants_joined.X[np.isnan(variants_joined.X)] = 0\n",
    "reads_joined.X[np.isnan(reads_joined.X)] = 0\n",
    "\n",
    "# Fix dtypes\n",
    "variants_joined.X = variants_joined.X.astype('int8')\n",
    "reads_joined.X = reads_joined.X.astype('int16')"
   ]
  },
  {
   "cell_type": "code",
   "execution_count": 6,
   "id": "bored-librarian",
   "metadata": {
    "ExecuteTime": {
     "end_time": "2022-07-06T18:59:22.213915Z",
     "start_time": "2022-07-06T18:58:52.650520Z"
    }
   },
   "outputs": [],
   "source": [
    "variants_joined.write_h5ad(CALLS_SAVE_PATH, compression='gzip')\n",
    "reads_joined.write_h5ad(READS_SAVE_PATH, compression='gzip')"
   ]
  },
  {
   "cell_type": "code",
   "execution_count": null,
   "id": "attached-assumption",
   "metadata": {},
   "outputs": [],
   "source": []
  }
 ],
 "metadata": {
  "finalized": {
   "timestamp": 1657134005510,
   "trusted": true
  },
  "hide_input": false,
  "kernelspec": {
   "display_name": "Python 3",
   "language": "python",
   "name": "python3"
  },
  "language_info": {
   "codemirror_mode": {
    "name": "ipython",
    "version": 3
   },
   "file_extension": ".py",
   "mimetype": "text/x-python",
   "name": "python",
   "nbconvert_exporter": "python",
   "pygments_lexer": "ipython3",
   "version": "3.7.9"
  }
 },
 "nbformat": 4,
 "nbformat_minor": 5
}
