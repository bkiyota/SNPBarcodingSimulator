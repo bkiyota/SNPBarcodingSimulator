{
 "cells": [
  {
   "cell_type": "markdown",
   "id": "answering-preference",
   "metadata": {},
   "source": [
    "# Fitting a Transition Matrix with EM\n",
    "\n",
    "We want to cluster cells into embryos with a Bayesian Mixture Model (BMM). Before running this model, we want to fit the transition matrix using Expectation Maximization (EM). Then, we can apply the model with one less unknown."
   ]
  },
  {
   "cell_type": "code",
   "execution_count": 11,
   "id": "rocky-olympus",
   "metadata": {
    "ExecuteTime": {
     "end_time": "2022-07-18T23:28:09.791309Z",
     "start_time": "2022-07-18T23:28:09.192221Z"
    }
   },
   "outputs": [],
   "source": [
    "import pandas as pd\n",
    "import anndata\n",
    "from tqdm.notebook import tqdm\n",
    "import numpy as np\n",
    "import matplotlib.pyplot as plt\n",
    "import scipy.stats as ss"
   ]
  },
  {
   "cell_type": "markdown",
   "id": "spare-murder",
   "metadata": {},
   "source": [
    "## Load Data\n",
    "\n",
    "Load the embryos and also filter out low UMI cells."
   ]
  },
  {
   "cell_type": "code",
   "execution_count": 6,
   "id": "moved-tobago",
   "metadata": {
    "ExecuteTime": {
     "end_time": "2022-07-18T22:51:50.481123Z",
     "start_time": "2022-07-18T22:51:50.477449Z"
    }
   },
   "outputs": [],
   "source": [
    "NUM_EMBRYOS = 3\n",
    "UMI_CUTOFF = 2000\n",
    "\n",
    "CALLS_SAVE_PATH = 'data/calls_2022_07_06.h5ad'\n",
    "READS_SAVE_PATH = 'data/reads_2022_07_06.h5ad'"
   ]
  },
  {
   "cell_type": "code",
   "execution_count": 5,
   "id": "potential-interaction",
   "metadata": {
    "ExecuteTime": {
     "end_time": "2022-07-18T22:51:15.216760Z",
     "start_time": "2022-07-18T22:50:59.450539Z"
    }
   },
   "outputs": [
    {
     "name": "stderr",
     "output_type": "stream",
     "text": [
      "Observation names are not unique. To make them unique, call `.obs_names_make_unique`.\n",
      "Observation names are not unique. To make them unique, call `.obs_names_make_unique`.\n"
     ]
    }
   ],
   "source": [
    "variants_joined = anndata.read_h5ad(CALLS_SAVE_PATH)\n",
    "reads_joined = anndata.read_h5ad(READS_SAVE_PATH)"
   ]
  },
  {
   "cell_type": "code",
   "execution_count": 7,
   "id": "micro-vision",
   "metadata": {
    "ExecuteTime": {
     "end_time": "2022-07-18T22:52:04.091639Z",
     "start_time": "2022-07-18T22:52:03.043056Z"
    }
   },
   "outputs": [
    {
     "data": {
      "image/png": "[encoded data removed]",
      "text/plain": [
       "<Figure size 720x720 with 1 Axes>"
      ]
     },
     "metadata": {
      "needs_background": "light"
     },
     "output_type": "display_data"
    }
   ],
   "source": [
    "plt.figure(figsize=(10, 10))\n",
    "\n",
    "umi_sum = reads_joined.X.sum(axis=1)\n",
    "plt.hist(umi_sum, bins=range(0, 10000, 100))\n",
    "plt.show()"
   ]
  },
  {
   "cell_type": "code",
   "execution_count": 8,
   "id": "apart-paradise",
   "metadata": {
    "ExecuteTime": {
     "end_time": "2022-07-18T22:52:33.925943Z",
     "start_time": "2022-07-18T22:52:25.476552Z"
    }
   },
   "outputs": [
    {
     "name": "stderr",
     "output_type": "stream",
     "text": [
      "Observation names are not unique. To make them unique, call `.obs_names_make_unique`.\n",
      "Observation names are not unique. To make them unique, call `.obs_names_make_unique`.\n"
     ]
    }
   ],
   "source": [
    "cells_to_keep = umi_sum >= UMI_CUTOFF\n",
    "\n",
    "variants_joined = variants_joined[cells_to_keep, :].copy()\n",
    "reads_joined = reads_joined[cells_to_keep, :].copy()"
   ]
  },
  {
   "cell_type": "code",
   "execution_count": 9,
   "id": "unnecessary-richards",
   "metadata": {
    "ExecuteTime": {
     "end_time": "2022-07-18T23:22:46.591562Z",
     "start_time": "2022-07-18T23:22:46.575082Z"
    }
   },
   "outputs": [
    {
     "data": {
      "text/html": [
       "<div>\n",
       "<style scoped>\n",
       "    .dataframe tbody tr th:only-of-type {\n",
       "        vertical-align: middle;\n",
       "    }\n",
       "\n",
       "    .dataframe tbody tr th {\n",
       "        vertical-align: top;\n",
       "    }\n",
       "\n",
       "    .dataframe thead th {\n",
       "        text-align: right;\n",
       "    }\n",
       "</style>\n",
       "<table border=\"1\" class=\"dataframe\">\n",
       "  <thead>\n",
       "    <tr style=\"text-align: right;\">\n",
       "      <th></th>\n",
       "      <th>embryo</th>\n",
       "    </tr>\n",
       "  </thead>\n",
       "  <tbody>\n",
       "    <tr>\n",
       "      <th>AAACCCAAGAAGAGCA-1</th>\n",
       "      <td>0</td>\n",
       "    </tr>\n",
       "    <tr>\n",
       "      <th>AAACCCAAGAGTTGAT-1</th>\n",
       "      <td>0</td>\n",
       "    </tr>\n",
       "    <tr>\n",
       "      <th>AAACCCAAGTGTTGTC-1</th>\n",
       "      <td>0</td>\n",
       "    </tr>\n",
       "    <tr>\n",
       "      <th>AAACCCACAAGGAGTC-1</th>\n",
       "      <td>0</td>\n",
       "    </tr>\n",
       "    <tr>\n",
       "      <th>AAACCCATCTTGGAAC-1</th>\n",
       "      <td>0</td>\n",
       "    </tr>\n",
       "    <tr>\n",
       "      <th>...</th>\n",
       "      <td>...</td>\n",
       "    </tr>\n",
       "    <tr>\n",
       "      <th>TTTGTTGGTGGCTGCT-1</th>\n",
       "      <td>2</td>\n",
       "    </tr>\n",
       "    <tr>\n",
       "      <th>TTTGTTGTCACCCTCA-1</th>\n",
       "      <td>2</td>\n",
       "    </tr>\n",
       "    <tr>\n",
       "      <th>TTTGTTGTCCACTTCG-1</th>\n",
       "      <td>2</td>\n",
       "    </tr>\n",
       "    <tr>\n",
       "      <th>TTTGTTGTCCTTTGAT-1</th>\n",
       "      <td>2</td>\n",
       "    </tr>\n",
       "    <tr>\n",
       "      <th>TTTGTTGTCGGCCTTT-1</th>\n",
       "      <td>2</td>\n",
       "    </tr>\n",
       "  </tbody>\n",
       "</table>\n",
       "<p>16480 rows × 1 columns</p>\n",
       "</div>"
      ],
      "text/plain": [
       "                    embryo\n",
       "AAACCCAAGAAGAGCA-1       0\n",
       "AAACCCAAGAGTTGAT-1       0\n",
       "AAACCCAAGTGTTGTC-1       0\n",
       "AAACCCACAAGGAGTC-1       0\n",
       "AAACCCATCTTGGAAC-1       0\n",
       "...                    ...\n",
       "TTTGTTGGTGGCTGCT-1       2\n",
       "TTTGTTGTCACCCTCA-1       2\n",
       "TTTGTTGTCCACTTCG-1       2\n",
       "TTTGTTGTCCTTTGAT-1       2\n",
       "TTTGTTGTCGGCCTTT-1       2\n",
       "\n",
       "[16480 rows x 1 columns]"
      ]
     },
     "execution_count": 9,
     "metadata": {},
     "output_type": "execute_result"
    }
   ],
   "source": [
    "variants_joined.obs"
   ]
  },
  {
   "cell_type": "markdown",
   "id": "fixed-pastor",
   "metadata": {},
   "source": [
    "## Initialize Variables in the Model"
   ]
  },
  {
   "cell_type": "code",
   "execution_count": 10,
   "id": "dynamic-volume",
   "metadata": {
    "ExecuteTime": {
     "end_time": "2022-07-18T23:23:14.686080Z",
     "start_time": "2022-07-18T23:23:14.682733Z"
    }
   },
   "outputs": [],
   "source": [
    "# Our ground truth data\n",
    "C = variants_joined.X\n",
    "z = variants_joined.obs.embryo"
   ]
  },
  {
   "cell_type": "code",
   "execution_count": 16,
   "id": "relative-accident",
   "metadata": {
    "ExecuteTime": {
     "end_time": "2022-07-18T23:56:19.263007Z",
     "start_time": "2022-07-18T23:56:19.257400Z"
    }
   },
   "outputs": [],
   "source": [
    "# Initialize T according to the distributions we expect\n",
    "alpha = np.array([[9, 0.33, 0.33, 0.33],\n",
    "                  [4.5, 4.5, 0.5, 0.5],\n",
    "                  [2.5, 2.5, 2.5, 2.5],\n",
    "                  [4.5, 0.5, 0.5, 4.5]])\n",
    "\n",
    "T = np.zeros((4, 4))\n",
    "\n",
    "for k in range(T.shape[0]):\n",
    "    T[k] = ss.dirichlet.rvs(alpha[k])"
   ]
  },
  {
   "cell_type": "code",
   "execution_count": 18,
   "id": "editorial-amino",
   "metadata": {
    "ExecuteTime": {
     "end_time": "2022-07-20T18:47:52.891019Z",
     "start_time": "2022-07-20T18:00:39.128730Z"
    }
   },
   "outputs": [
    {
     "data": {
      "application/vnd.jupyter.widget-view+json": {
       "model_id": "fbb261c931ea49b39aa71e7624c6ec2f",
       "version_major": 2,
       "version_minor": 0
      },
      "text/plain": [
       "  0%|          | 0/27462 [00:00<?, ?it/s]"
      ]
     },
     "metadata": {},
     "output_type": "display_data"
    },
    {
     "data": {
      "application/vnd.jupyter.widget-view+json": {
       "model_id": "0ad90ca2c8a04ce1a27404db86be8b78",
       "version_major": 2,
       "version_minor": 0
      },
      "text/plain": [
       "  0%|          | 0/27462 [00:00<?, ?it/s]"
      ]
     },
     "metadata": {},
     "output_type": "display_data"
    },
    {
     "data": {
      "application/vnd.jupyter.widget-view+json": {
       "model_id": "85f904f5cd444712bdad3eca5c882d4d",
       "version_major": 2,
       "version_minor": 0
      },
      "text/plain": [
       "  0%|          | 0/27462 [00:00<?, ?it/s]"
      ]
     },
     "metadata": {},
     "output_type": "display_data"
    }
   ],
   "source": [
    "# Get gamma by finding the distribution of calls for each variant in each embryo\n",
    "# gamma only has weight on zero if that variant has no non-zero calls\n",
    "gamma_hists = []\n",
    "\n",
    "# First find the histogram of calls for each variant for each embryo\n",
    "for l in range(NUM_EMBRYOS):\n",
    "    # Get a restricted dataset for our embryo\n",
    "    variants_emb = variants_joined[variants_joined.obs.embryo == l, :]\n",
    "    emb_hists = []\n",
    "    \n",
    "    for j in tqdm(range(variants_joined.shape[1])):\n",
    "        variant_profile = variants_emb.X[:, j].flatten()\n",
    "        hist = [np.sum(variant_profile == i) for i in range(4)]\n",
    "        emb_hists.append(hist)\n",
    "        \n",
    "    gamma_hists.append(emb_hists)\n",
    "    \n",
    "gamma_hists = np.array(gamma_hists)"
   ]
  },
  {
   "cell_type": "code",
   "execution_count": 42,
   "id": "ambient-crest",
   "metadata": {
    "ExecuteTime": {
     "end_time": "2022-07-20T19:26:55.967805Z",
     "start_time": "2022-07-20T19:26:55.891500Z"
    }
   },
   "outputs": [],
   "source": [
    "# Use the histograms to determine the embryo ground truth\n",
    "pi = []\n",
    "\n",
    "for l in range(NUM_EMBRYOS):\n",
    "    pi_emb = []\n",
    "    \n",
    "    for hist in gamma_hists[l]:\n",
    "        if hist[2] > 0:\n",
    "            pi_emb.append(2)\n",
    "        elif (hist[1] > 0) and (hist[3] == 0):\n",
    "            pi_emb.append(1)\n",
    "        elif (hist[3] > 0) and (hist[1] == 0):\n",
    "            pi_emb.append(3)\n",
    "        elif (hist[1] > 0) and (hist[3] > 0):\n",
    "            pi_emb.append(2)\n",
    "        else:\n",
    "            pi_emb.append(0)\n",
    "            \n",
    "    pi.append(pi_emb)\n",
    "    \n",
    "pi = np.array(pi)"
   ]
  },
  {
   "cell_type": "markdown",
   "id": "indoor-harvard",
   "metadata": {},
   "source": [
    "## Run EM Iterations\n",
    "\n",
    "Due to our simplifications using the ground truth, we just need to optimize T. Since everything else is known, the optimization will finish in one step."
   ]
  },
  {
   "cell_type": "code",
   "execution_count": 68,
   "id": "special-exhaust",
   "metadata": {
    "ExecuteTime": {
     "end_time": "2022-07-20T22:16:40.071719Z",
     "start_time": "2022-07-20T22:16:40.066461Z"
    }
   },
   "outputs": [],
   "source": [
    "def get_transition_count(params):\n",
    "    k1 = params[0]\n",
    "    k2 = params[1]\n",
    "    \n",
    "    count = 0\n",
    "    \n",
    "    # Count the number of k1 -> k2 transitions\n",
    "    for i in range(C.shape[0]):\n",
    "        for j in range(C.shape[1]):\n",
    "            l = z[i]\n",
    "            \n",
    "            if pi[l][j] == k1 and C[i][j] == k2:\n",
    "                count += 1\n",
    "                \n",
    "    \n",
    "    # Add the prior\n",
    "#     count += alpha[k1][k2]\n",
    "#     count -= 1\n",
    "    \n",
    "    return count"
   ]
  },
  {
   "cell_type": "code",
   "execution_count": 69,
   "id": "ordered-shield",
   "metadata": {
    "ExecuteTime": {
     "end_time": "2022-07-20T22:16:47.700942Z",
     "start_time": "2022-07-20T22:16:47.697757Z"
    }
   },
   "outputs": [],
   "source": [
    "from multiprocessing import Pool\n",
    "from itertools import product"
   ]
  },
  {
   "cell_type": "code",
   "execution_count": 70,
   "id": "military-weapon",
   "metadata": {
    "ExecuteTime": {
     "end_time": "2022-07-20T22:46:26.459681Z",
     "start_time": "2022-07-20T22:16:49.022130Z"
    }
   },
   "outputs": [],
   "source": [
    "p = Pool(16)\n",
    "params = list(product(*[range(4), range(4)]))\n",
    "\n",
    "counts = list(p.map(get_transition_count, params))\n",
    "\n",
    "p.close()"
   ]
  },
  {
   "cell_type": "code",
   "execution_count": 73,
   "id": "intimate-basement",
   "metadata": {
    "ExecuteTime": {
     "end_time": "2022-07-20T22:49:40.788940Z",
     "start_time": "2022-07-20T22:49:40.781839Z"
    }
   },
   "outputs": [
    {
     "name": "stderr",
     "output_type": "stream",
     "text": [
      "/mnt/geofflab/jupyterhub/anaconda3/lib/python3.7/site-packages/ipykernel_launcher.py:10: RuntimeWarning: invalid value encountered in true_divide\n",
      "  # Remove the CWD from sys.path while we load stuff.\n"
     ]
    }
   ],
   "source": [
    "# Fill T with our new counts\n",
    "for i, param in enumerate(params):\n",
    "    k1 = param[0]\n",
    "    k2 = param[1]\n",
    "    \n",
    "    T[k1][k2] = counts[i]\n",
    "    \n",
    "# Row normalize T\n",
    "for i in range(T.shape[0]):\n",
    "    T[i] = T[i]/np.sum(T[i])"
   ]
  },
  {
   "cell_type": "code",
   "execution_count": 78,
   "id": "compact-lying",
   "metadata": {
    "ExecuteTime": {
     "end_time": "2022-07-20T23:24:29.248602Z",
     "start_time": "2022-07-20T23:24:29.242550Z"
    }
   },
   "outputs": [],
   "source": [
    "# Artificially set the fourth row of T based on the second\n",
    "T[3][1] = 0\n",
    "T[3][2] = 0\n",
    "T[3][0] = T[1][0]\n",
    "T[3][3] = T[1][1]"
   ]
  },
  {
   "cell_type": "code",
   "execution_count": 79,
   "id": "requested-ladder",
   "metadata": {
    "ExecuteTime": {
     "end_time": "2022-07-20T23:24:30.474583Z",
     "start_time": "2022-07-20T23:24:30.469363Z"
    }
   },
   "outputs": [
    {
     "data": {
      "text/plain": [
       "array([[1.        , 0.        , 0.        , 0.        ],\n",
       "       [0.74778739, 0.25221261, 0.        , 0.        ],\n",
       "       [0.84580846, 0.03814512, 0.10065051, 0.01539591],\n",
       "       [0.74778739, 0.        , 0.        , 0.25221261]])"
      ]
     },
     "execution_count": 79,
     "metadata": {},
     "output_type": "execute_result"
    }
   ],
   "source": [
    "T"
   ]
  },
  {
   "cell_type": "code",
   "execution_count": null,
   "id": "packed-deposit",
   "metadata": {},
   "outputs": [],
   "source": []
  }
 ],
 "metadata": {
  "hide_input": false,
  "kernelspec": {
   "display_name": "Python 3",
   "language": "python",
   "name": "python3"
  },
  "language_info": {
   "codemirror_mode": {
    "name": "ipython",
    "version": 3
   },
   "file_extension": ".py",
   "mimetype": "text/x-python",
   "name": "python",
   "nbconvert_exporter": "python",
   "pygments_lexer": "ipython3",
   "version": "3.7.9"
  }
 },
 "nbformat": 4,
 "nbformat_minor": 5
}
