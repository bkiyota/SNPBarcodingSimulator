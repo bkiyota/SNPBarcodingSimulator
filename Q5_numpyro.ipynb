{
 "cells": [
  {
   "cell_type": "code",
   "execution_count": 19,
   "id": "functioning-program",
   "metadata": {
    "ExecuteTime": {
     "end_time": "2022-04-14T17:52:17.549249Z",
     "start_time": "2022-04-14T17:52:17.543970Z"
    }
   },
   "outputs": [],
   "source": [
    "import numpy as np\n",
    "import numpyro\n",
    "import numpyro.distributions as dist\n",
    "from numpyro.ops.indexing import Vindex\n",
    "import jax.numpy as jnp\n",
    "\n",
    "assert numpyro.__version__.startswith(\"0.9.2\")\n",
    "\n",
    "import numpy as np\n",
    "import scipy.stats as ss\n",
    "import random"
   ]
  },
  {
   "cell_type": "markdown",
   "id": "wrapped-biodiversity",
   "metadata": {},
   "source": [
    "## Generate Test Data"
   ]
  },
  {
   "cell_type": "code",
   "execution_count": 2,
   "id": "single-uncertainty",
   "metadata": {
    "ExecuteTime": {
     "end_time": "2022-04-14T09:22:27.051650Z",
     "start_time": "2022-04-14T09:22:27.048187Z"
    }
   },
   "outputs": [],
   "source": [
    "N = 1000 # Rough nucleotide sequence length of gene\n",
    "heterozygosity = 0.045\n",
    "alphabet = {\"A\":0, \"C\":1, \"G\":2, \"T\":3}\n",
    "genotypes = {\n",
    "    \"AA\":0, \"AC\":1, \"AG\":2, \"AT\":3, \n",
    "    \"CA\":1, \"CC\":4, \"CG\":5, \"CT\":6,\n",
    "    \"GA\":2, \"GC\":4, \"GG\":7, \"GT\":8, \n",
    "    \"TA\":3, \"TC\":6, \"TG\":8, \"TT\":9,\n",
    "}"
   ]
  },
  {
   "cell_type": "code",
   "execution_count": 3,
   "id": "rapid-issue",
   "metadata": {
    "ExecuteTime": {
     "end_time": "2022-04-14T09:22:27.064298Z",
     "start_time": "2022-04-14T09:22:27.053468Z"
    }
   },
   "outputs": [
    {
     "name": "stdout",
     "output_type": "stream",
     "text": [
      "Uniformly selected SNP loci:\n",
      "[ 16  46  58  94 102 106 135 141 167 188 230 289 313 318 346 355 381 423\n",
      " 434 435 457 482 487 504 529 546 564 572 586 608 658 660 666 708 720 756\n",
      " 762 765 769 773 846 876 917 968 986]\n",
      "\n",
      "Reference sequence of randomly generated gene sequence:\n",
      "GTTTCCGAACCGCCTAGCGACGCCACGCCTTGATGTATGCACGTTAACCCCTTGAGGATTGCGAATCCTATATCTGCTAATCTCAATGGCGGGTGTCACTACTCAACTTTGCCCCTCAGGATCCTTGGTGCAGCATGACGCTTTTACGCCTCATCTTGGGAAAACGGCGTTGTGGAGGTGTGTCAATACATGTTACAGTAGTCTCCTCTTTTCGCACTGGTTTTCAGCTTCTTTAACGGGTGACTACCAAGCGGAACCACATGAGACCGGGATAGCTCAGGATTACGATATTAGGTAAGAGCGACTCCCGATTATAGTACTCGAGTTATAGCTTATCGATGATCCGGAAATCGGCGCCGACCGGGGAAGCATACACTCGCTAGCCGTTCAAACTCGGGCTGTGCAATCATACACACGGCCTGCCGAACGGTATCCTTCGTATGCAATACCTAGTGGGACCAGCCCATCTGTTATCCGAATCCCCTATCGATCCCGGCGAGAACCATCGACTTGATGTACATGTGTCGCAGAACGCGAAGCCGCGAGCCGTTGATGTCAATGGCCGGTAAGCCATGTGAGCCTACAGAGGCATATGCCATATGCTGAGCTTGCGGAACTGGTATGGATGATCTCACCCACGAGCTCCTGACTAAGTCCCTACAAAAAGCTCACCGCCGACACCGCCTATCATCACCGATCCGCCCAGCGGCTGCCCATAGTTTCTAGCTATAGCAGGCTCCGCTGCCTGCTTACGAACAGGCTACCGAATAAGCGTGATTTTCGTGGGATGCAAACTTAGGGCATATTCTTAACGTAGGCTACTCGACAGCCGTAAATCCAGGGTTCATCACTTAGAACGGGCTTTTCTTGACTTTGGATTTCTAAATTGGCTATGAAATTCCACATCAGGGTCCAGAGCACCATGATGACGAAAAGTATGGGGATCCTGCCGGATTAATATGACGAGGGGAATACGACCAGGGATAGTACATGTAGGGGC\n"
     ]
    }
   ],
   "source": [
    "snp_positions = np.sort(random.sample(range(N),round(N*heterozygosity))) # [loc for i in range(round(N*heterozygosity))]\n",
    "sequence = \"\".join(np.random.choice(list(alphabet.keys()), N))\n",
    "\n",
    "print(f\"Uniformly selected SNP loci:\\n{snp_positions}\")\n",
    "print(f\"\\nReference sequence of randomly generated gene sequence:\\n{sequence}\")"
   ]
  },
  {
   "cell_type": "code",
   "execution_count": 4,
   "id": "black-aruba",
   "metadata": {
    "ExecuteTime": {
     "end_time": "2022-04-14T09:22:27.078948Z",
     "start_time": "2022-04-14T09:22:27.065871Z"
    }
   },
   "outputs": [],
   "source": [
    "class EmbryoSequenceSimulator:\n",
    "    def __init__(self, reference, snp_profile, n_embryos):\n",
    "        self.reference = reference\n",
    "        self.snp_profile = snp_profile\n",
    "        self.n_embryos = n_embryos\n",
    "        \n",
    "        # Number of cells that can be harvested from embryo\n",
    "        self.n_cells = 2\n",
    "        self.alphabet = {\"A\":0, \"C\":1, \"G\":2, \"T\":3}\n",
    "\n",
    "    def embryo_sequence_simulation(self):\n",
    "        sequences = self.parental_seeding()\n",
    "\n",
    "        # TODO: check that m0 can only cross over with p0 (could it also crossver with p1?)\n",
    "        m0,p0 = self.homologous_recombination(sequences[\"m0\"],sequences[\"p0\"])\n",
    "        m1,p1 = self.homologous_recombination(sequences[\"m1\"],sequences[\"p1\"])\n",
    "\n",
    "        # Choose pairs of parental chromatids that get inherited by embryo\n",
    "        m_chromatid = m0 if random.random() <= 0.5 else m1\n",
    "        p_chromatid = p0 if random.random() <= 0.5 else p1\n",
    "\n",
    "        return self.n_cells, m_chromatid, p_chromatid\n",
    "\n",
    "    def parental_seeding(self):\n",
    "        sequences = {}\n",
    "        for parent in [\"m0\", \"m1\", \"p0\", \"p1\"]: # m = maternal; p = paternal\n",
    "            sequence = [char for char in self.reference]\n",
    "            \n",
    "            for locus,char in self.snp_profile.items():\n",
    "                sequence[locus] = char\n",
    "            sequences[parent] = \"\".join(sequence)\n",
    "        return sequences\n",
    "\n",
    "    def homologous_recombination(self, maternal, paternal):\n",
    "        chiasma_point = random.choice(range(len(self.reference)))\n",
    "\n",
    "        # Maybe not necessary, but intent is that either top or bottom half can cross over \n",
    "        if random.random() <= 0.5:\n",
    "            updated_maternal = maternal[:chiasma_point]+paternal[chiasma_point:]\n",
    "            updated_paternal = paternal[:chiasma_point]+maternal[chiasma_point:]\n",
    "        else:\n",
    "            updated_maternal = paternal[:chiasma_point]+maternal[chiasma_point:]\n",
    "            updated_paternal = maternal[:chiasma_point]+paternal[chiasma_point:]\n",
    "\n",
    "        return updated_maternal, updated_paternal        \n"
   ]
  },
  {
   "cell_type": "code",
   "execution_count": 5,
   "id": "italian-exchange",
   "metadata": {
    "ExecuteTime": {
     "end_time": "2022-04-14T09:22:27.092173Z",
     "start_time": "2022-04-14T09:22:27.080464Z"
    }
   },
   "outputs": [
    {
     "name": "stdout",
     "output_type": "stream",
     "text": [
      "(4, 45)\n",
      "[[9 9 7 9 7 7 4 4 9 0 4 9 4 9 9 4 7 4 0 0 7 9 4 4 9 7 4 9 4 0 4 4 7 0 0 0\n",
      "  9 7 7 9 9 9 7 9 9]\n",
      " [9 9 7 9 7 7 4 4 9 0 4 9 4 9 9 4 7 4 0 0 7 9 4 4 9 7 4 9 4 0 4 4 7 0 0 0\n",
      "  9 7 7 9 9 9 7 9 9]\n",
      " [4 9 7 9 0 9 7 0 9 0 9 0 4 7 9 4 7 4 0 7 7 7 4 9 0 0 9 4 0 9 0 4 7 9 4 0\n",
      "  9 7 9 0 4 7 4 4 4]\n",
      " [4 9 7 9 0 9 7 0 9 0 9 0 4 7 9 4 7 4 0 7 7 7 4 9 0 0 9 4 0 9 0 4 7 9 4 0\n",
      "  9 7 9 0 4 7 4 4 4]]\n"
     ]
    }
   ],
   "source": [
    "profile = []\n",
    "n_embryos=2\n",
    "for i in range(n_embryos):\n",
    "    snp_profile = {locus:random.choice(list(alphabet.keys())) for locus in snp_positions} # key: position; value: random nucleotide\n",
    "    embryo = EmbryoSequenceSimulator(sequence,snp_profile,1)\n",
    "    n_cells, m_chromatid, p_chromatid = embryo.embryo_sequence_simulation()\n",
    "    # print(n_cells)\n",
    "    # print(m_chromatid)\n",
    "    # print(p_chromatid)\n",
    "    loci = []\n",
    "    for locus in snp_positions:\n",
    "        genotype = \"\".join([m_chromatid[locus],p_chromatid[locus]])\n",
    "        loci.append(genotypes[genotype])\n",
    "    for j in range(n_cells):\n",
    "        profile.append(loci)\n",
    "\n",
    "X = np.array(profile)\n",
    "print(X.shape)\n",
    "print(X)"
   ]
  },
  {
   "cell_type": "markdown",
   "id": "rising-safety",
   "metadata": {},
   "source": [
    "## Implement Model"
   ]
  },
  {
   "cell_type": "code",
   "execution_count": 6,
   "id": "weekly-destiny",
   "metadata": {
    "ExecuteTime": {
     "end_time": "2022-04-14T09:22:27.159679Z",
     "start_time": "2022-04-14T09:22:27.093657Z"
    }
   },
   "outputs": [],
   "source": [
    "S = 10 # The number of possible states\n",
    "states = [['A','A'], ['A','C'], ['A','G'], ['A','T'], ['C','C'], ['C','G'], ['C','T'], ['G','G'], ['G','T'], ['T','T']]\n",
    "\n",
    "K = 2 # Number of embryos\n",
    "kappa = np.ones(K) # The prior on pi\n",
    "\n",
    "gamma = []\n",
    "\n",
    "# Set the gamma prior\n",
    "# Single allele states have most of the weight in the true state\n",
    "# Two allele states have the weight distributed between the true state and the single allele versions\n",
    "for i in range(len(states)):\n",
    "    weights = 0.1*np.ones(S)\n",
    "    \n",
    "    cur_state = states[i]\n",
    "    \n",
    "    if cur_state[0] == cur_state[1]:\n",
    "        weights[i] = 10\n",
    "    else:\n",
    "        for j in range(len(states)):\n",
    "            is_first_allele = (states[j][0] == cur_state[0] and states[j][1] == cur_state[0])\n",
    "            is_second_allele =  (states[j][0] == cur_state[1] and states[j][1] == cur_state[1])\n",
    "            \n",
    "            if  is_first_allele or is_second_allele:\n",
    "                weights[j] = 10\n",
    "        \n",
    "        weights[i] = 10\n",
    "        \n",
    "    gamma.append(weights)\n",
    "                \n",
    "gamma = jnp.array(gamma)"
   ]
  },
  {
   "cell_type": "code",
   "execution_count": 7,
   "id": "laughing-currency",
   "metadata": {
    "ExecuteTime": {
     "end_time": "2022-04-14T09:22:27.171087Z",
     "start_time": "2022-04-14T09:22:27.161817Z"
    }
   },
   "outputs": [
    {
     "data": {
      "text/plain": [
       "(4, 45)"
      ]
     },
     "execution_count": 7,
     "metadata": {},
     "output_type": "execute_result"
    }
   ],
   "source": [
    "X.shape"
   ]
  },
  {
   "cell_type": "code",
   "execution_count": 154,
   "id": "plastic-joyce",
   "metadata": {
    "ExecuteTime": {
     "end_time": "2022-04-14T19:36:53.725155Z",
     "start_time": "2022-04-14T19:36:53.722904Z"
    }
   },
   "outputs": [],
   "source": [
    "from numpyro.contrib.funsor import config_enumerate"
   ]
  },
  {
   "cell_type": "code",
   "execution_count": 192,
   "id": "apparent-forum",
   "metadata": {
    "ExecuteTime": {
     "end_time": "2022-04-14T21:54:48.783823Z",
     "start_time": "2022-04-14T21:54:48.776596Z"
    }
   },
   "outputs": [],
   "source": [
    "def sc_genotyper(S, kappa, gamma, K, X):\n",
    "    # Sample pi from prior\n",
    "    pi = numpyro.sample('pi', dist.Dirichlet(kappa))\n",
    "        \n",
    "    # Sample epsilon from prior\n",
    "    with numpyro.plate('S', S) as s:\n",
    "        epsilon = numpyro.sample('epsilon', dist.Dirichlet(gamma[s]))\n",
    "            \n",
    "    num_cells = X.shape[0]\n",
    "    num_loci = X.shape[1]\n",
    "    \n",
    "    # Sample G from prior\n",
    "    with numpyro.plate('K', K):\n",
    "        with numpyro.plate('M', num_loci):\n",
    "            G = numpyro.sample('G', dist.Categorical(1/S*jnp.ones(S)))\n",
    "        \n",
    "    with numpyro.plate('N', num_cells, dim=-2):\n",
    "        Z_n = numpyro.sample('Z_n', dist.Categorical(pi))\n",
    "        \n",
    "        with numpyro.plate('M', num_loci, dim=-1) as m:\n",
    "            v = Vindex(G)[Z_n, m]\n",
    "            e = Vindex(epsilon)[v]\n",
    "            \n",
    "            numpyro.sample('X_{nm}', dist.Categorical(e), obs=X)"
   ]
  },
  {
   "cell_type": "code",
   "execution_count": 196,
   "id": "fabulous-buddy",
   "metadata": {
    "ExecuteTime": {
     "end_time": "2022-04-14T21:59:00.708872Z",
     "start_time": "2022-04-14T21:59:00.496781Z"
    },
    "scrolled": false
   },
   "outputs": [
    {
     "data": {
      "image/svg+xml": [
       "<?xml version=\"1.0\" encoding=\"UTF-8\" standalone=\"no\"?>\n",
       "<!DOCTYPE svg PUBLIC \"-//W3C//DTD SVG 1.1//EN\"\n",
       " \"http://www.w3.org/Graphics/SVG/1.1/DTD/svg11.dtd\">\n",
       "<!-- Generated by graphviz version 2.40.1 (0)\n",
       " -->\n",
       "<!-- Title: %3 Pages: 1 -->\n",
       "<svg width=\"322pt\" height=\"269pt\"\n",
       " viewBox=\"0.00 0.00 322.00 269.00\" xmlns=\"http://www.w3.org/2000/svg\" xmlns:xlink=\"http://www.w3.org/1999/xlink\">\n",
       "<g id=\"graph0\" class=\"graph\" transform=\"scale(1 1) rotate(0) translate(4 265)\">\n",
       "<title>%3</title>\n",
       "<polygon fill=\"#ffffff\" stroke=\"transparent\" points=\"-4,4 -4,-265 318,-265 318,4 -4,4\"/>\n",
       "<g id=\"clust1\" class=\"cluster\">\n",
       "<title>cluster_S</title>\n",
       "<polygon fill=\"none\" stroke=\"#000000\" points=\"214,-122 214,-197 306,-197 306,-122 214,-122\"/>\n",
       "<text text-anchor=\"middle\" x=\"293.5\" y=\"-129.8\" font-family=\"Times,serif\" font-size=\"14.00\" fill=\"#000000\">S</text>\n",
       "</g>\n",
       "<g id=\"clust2\" class=\"cluster\">\n",
       "<title>cluster_M</title>\n",
       "<polygon fill=\"none\" stroke=\"#000000\" points=\"86,-8 86,-205 206,-205 206,-8 86,-8\"/>\n",
       "<text text-anchor=\"middle\" x=\"191.5\" y=\"-15.8\" font-family=\"Times,serif\" font-size=\"14.00\" fill=\"#000000\">M</text>\n",
       "</g>\n",
       "<g id=\"clust3\" class=\"cluster\">\n",
       "<title>cluster_K</title>\n",
       "<polygon fill=\"none\" stroke=\"#000000\" points=\"111,-122 111,-197 181,-197 181,-122 111,-122\"/>\n",
       "<text text-anchor=\"middle\" x=\"167.5\" y=\"-129.8\" font-family=\"Times,serif\" font-size=\"14.00\" fill=\"#000000\">K</text>\n",
       "</g>\n",
       "<g id=\"clust4\" class=\"cluster\">\n",
       "<title>cluster_N</title>\n",
       "<polygon fill=\"none\" stroke=\"#000000\" points=\"94,-39 94,-114 198,-114 198,-39 94,-39\"/>\n",
       "<text text-anchor=\"middle\" x=\"184.5\" y=\"-46.8\" font-family=\"Times,serif\" font-size=\"14.00\" fill=\"#000000\">N</text>\n",
       "</g>\n",
       "<g id=\"clust5\" class=\"cluster\">\n",
       "<title>cluster_N__CLONE</title>\n",
       "<polygon fill=\"none\" stroke=\"#000000\" points=\"8,-122 8,-197 78,-197 78,-122 8,-122\"/>\n",
       "<text text-anchor=\"middle\" x=\"64.5\" y=\"-129.8\" font-family=\"Times,serif\" font-size=\"14.00\" fill=\"#000000\">N</text>\n",
       "</g>\n",
       "<!-- pi -->\n",
       "<g id=\"node1\" class=\"node\">\n",
       "<title>pi</title>\n",
       "<ellipse fill=\"#ffffff\" stroke=\"#000000\" cx=\"43\" cy=\"-243\" rx=\"27\" ry=\"18\"/>\n",
       "<text text-anchor=\"middle\" x=\"43\" y=\"-239.3\" font-family=\"Times,serif\" font-size=\"14.00\" fill=\"#000000\">pi</text>\n",
       "</g>\n",
       "<!-- Z_n -->\n",
       "<g id=\"node5\" class=\"node\">\n",
       "<title>Z_n</title>\n",
       "<ellipse fill=\"#ffffff\" stroke=\"#000000\" cx=\"43\" cy=\"-171\" rx=\"27\" ry=\"18\"/>\n",
       "<text text-anchor=\"middle\" x=\"43\" y=\"-167.3\" font-family=\"Times,serif\" font-size=\"14.00\" fill=\"#000000\">Z_n</text>\n",
       "</g>\n",
       "<!-- pi&#45;&gt;Z_n -->\n",
       "<g id=\"edge1\" class=\"edge\">\n",
       "<title>pi&#45;&gt;Z_n</title>\n",
       "<path fill=\"none\" stroke=\"#000000\" d=\"M43,-224.8314C43,-217.131 43,-207.9743 43,-199.4166\"/>\n",
       "<polygon fill=\"#000000\" stroke=\"#000000\" points=\"46.5001,-199.4132 43,-189.4133 39.5001,-199.4133 46.5001,-199.4132\"/>\n",
       "</g>\n",
       "<!-- epsilon -->\n",
       "<g id=\"node2\" class=\"node\">\n",
       "<title>epsilon</title>\n",
       "<ellipse fill=\"#ffffff\" stroke=\"#000000\" cx=\"260\" cy=\"-171\" rx=\"37.8943\" ry=\"18\"/>\n",
       "<text text-anchor=\"middle\" x=\"260\" y=\"-167.3\" font-family=\"Times,serif\" font-size=\"14.00\" fill=\"#000000\">epsilon</text>\n",
       "</g>\n",
       "<!-- X_{nm} -->\n",
       "<g id=\"node4\" class=\"node\">\n",
       "<title>X_{nm}</title>\n",
       "<ellipse fill=\"#c0c0c0\" stroke=\"#000000\" cx=\"146\" cy=\"-88\" rx=\"43.5923\" ry=\"18\"/>\n",
       "<text text-anchor=\"middle\" x=\"146\" y=\"-84.3\" font-family=\"Times,serif\" font-size=\"14.00\" fill=\"#000000\">X_{nm}</text>\n",
       "</g>\n",
       "<!-- epsilon&#45;&gt;X_{nm} -->\n",
       "<g id=\"edge2\" class=\"edge\">\n",
       "<title>epsilon&#45;&gt;X_{nm}</title>\n",
       "<path fill=\"none\" stroke=\"#000000\" d=\"M239.0906,-155.7765C221.3175,-142.8364 195.5916,-124.1062 175.6859,-109.6134\"/>\n",
       "<polygon fill=\"#000000\" stroke=\"#000000\" points=\"177.6958,-106.7474 167.5514,-103.6909 173.5756,-112.4064 177.6958,-106.7474\"/>\n",
       "</g>\n",
       "<!-- G -->\n",
       "<g id=\"node3\" class=\"node\">\n",
       "<title>G</title>\n",
       "<ellipse fill=\"#ffffff\" stroke=\"#000000\" cx=\"146\" cy=\"-171\" rx=\"27\" ry=\"18\"/>\n",
       "<text text-anchor=\"middle\" x=\"146\" y=\"-167.3\" font-family=\"Times,serif\" font-size=\"14.00\" fill=\"#000000\">G</text>\n",
       "</g>\n",
       "<!-- G&#45;&gt;X_{nm} -->\n",
       "<g id=\"edge3\" class=\"edge\">\n",
       "<title>G&#45;&gt;X_{nm}</title>\n",
       "<path fill=\"none\" stroke=\"#000000\" d=\"M146,-152.9902C146,-142.2963 146,-128.4994 146,-116.3706\"/>\n",
       "<polygon fill=\"#000000\" stroke=\"#000000\" points=\"149.5001,-116.2612 146,-106.2612 142.5001,-116.2613 149.5001,-116.2612\"/>\n",
       "</g>\n",
       "<!-- Z_n&#45;&gt;X_{nm} -->\n",
       "<g id=\"edge4\" class=\"edge\">\n",
       "<title>Z_n&#45;&gt;X_{nm}</title>\n",
       "<path fill=\"none\" stroke=\"#000000\" d=\"M60.4725,-156.9202C76.2006,-144.2461 99.5928,-125.3961 117.9398,-110.6117\"/>\n",
       "<polygon fill=\"#000000\" stroke=\"#000000\" points=\"120.3783,-113.1416 125.9687,-104.1417 115.9861,-107.691 120.3783,-113.1416\"/>\n",
       "</g>\n",
       "</g>\n",
       "</svg>\n"
      ],
      "text/plain": [
       "<graphviz.graphs.Digraph at 0x7f09e72c6d10>"
      ]
     },
     "execution_count": 196,
     "metadata": {},
     "output_type": "execute_result"
    }
   ],
   "source": [
    "numpyro.render_model(sc_genotyper, model_args=(S, kappa, gamma, K, X))"
   ]
  },
  {
   "cell_type": "code",
   "execution_count": 193,
   "id": "liked-parking",
   "metadata": {
    "ExecuteTime": {
     "end_time": "2022-04-14T21:56:18.786554Z",
     "start_time": "2022-04-14T21:55:19.744011Z"
    },
    "scrolled": false
   },
   "outputs": [
    {
     "name": "stderr",
     "output_type": "stream",
     "text": [
      "sample: 100%|██████████| 12000/12000 [00:58<00:00, 204.86it/s, 63 steps of size 5.85e-02. acc. prob=0.91]\n"
     ]
    }
   ],
   "source": [
    "from jax import random\n",
    "from numpyro.infer import MCMC, NUTS\n",
    "from numpyro.infer import DiscreteHMCGibbs, MCMC, NUTS\n",
    "\n",
    "nuts_kernel = NUTS(sc_genotyper)\n",
    "kernel = DiscreteHMCGibbs(nuts_kernel)\n",
    "mcmc = MCMC(kernel, num_warmup=2000, num_samples=10000)\n",
    "rng_key = random.PRNGKey(0)\n",
    "mcmc.run(rng_key, S, kappa, gamma, K, X)"
   ]
  },
  {
   "cell_type": "code",
   "execution_count": 194,
   "id": "black-cream",
   "metadata": {
    "ExecuteTime": {
     "end_time": "2022-04-14T21:58:49.414837Z",
     "start_time": "2022-04-14T21:58:49.106334Z"
    },
    "scrolled": false
   },
   "outputs": [
    {
     "name": "stdout",
     "output_type": "stream",
     "text": [
      "\n",
      "                  mean       std    median      5.0%     95.0%     n_eff     r_hat\n",
      "      G[0,0]      6.60      2.43      7.00      2.00      9.00    406.10      1.00\n",
      "      G[0,1]      7.00      2.20      8.00      2.00      8.00    333.01      1.00\n",
      "      G[1,0]      6.55      2.55      8.00      2.00      9.00    397.84      1.00\n",
      "      G[1,1]      6.91      2.28      8.00      2.00      8.00    332.24      1.01\n",
      "      G[2,0]      4.53      2.87      5.00      1.00      9.00   9174.87      1.00\n",
      "      G[2,1]      4.50      2.89      4.00      0.00      9.00  10037.97      1.00\n",
      "      G[3,0]      4.47      2.86      4.00      0.00      8.00   9752.98      1.00\n",
      "      G[3,1]      4.55      2.89      5.00      1.00      9.00   9904.23      1.00\n",
      "      G[4,0]      4.57      2.88      5.00      1.00      9.00  10132.11      1.00\n",
      "      G[4,1]      4.49      2.86      4.00      0.00      8.00   9624.79      1.00\n",
      "      G[5,0]      4.49      2.89      4.00      0.00      9.00  10073.04      1.00\n",
      "      G[5,1]      4.49      2.86      5.00      0.00      8.00   9716.71      1.00\n",
      "      G[6,0]      4.45      2.85      4.00      0.00      8.00  10034.71      1.00\n",
      "      G[6,1]      4.46      2.86      4.00      0.00      8.00   9118.73      1.00\n",
      "      G[7,0]      4.48      2.89      4.00      0.00      9.00   9910.63      1.00\n",
      "      G[7,1]      4.50      2.88      5.00      0.00      9.00   9664.99      1.00\n",
      "      G[8,0]      4.49      2.86      4.00      0.00      8.00  10073.68      1.00\n",
      "      G[8,1]      4.52      2.86      5.00      0.00      8.00  10155.97      1.00\n",
      "      G[9,0]      4.48      2.87      4.00      1.00      9.00   9262.45      1.00\n",
      "      G[9,1]      4.48      2.85      4.00      0.00      8.00   9778.24      1.00\n",
      "     G[10,0]      4.49      2.88      5.00      0.00      8.00  10184.35      1.00\n",
      "     G[10,1]      4.45      2.89      4.00      0.00      8.00  10216.86      1.00\n",
      "     G[11,0]      4.47      2.88      4.00      0.00      9.00  10322.28      1.00\n",
      "     G[11,1]      4.48      2.86      4.00      0.00      8.00   9059.21      1.00\n",
      "     G[12,0]      4.54      2.89      5.00      0.00      9.00   9842.51      1.00\n",
      "     G[12,1]      4.52      2.88      5.00      0.00      8.00  10273.92      1.00\n",
      "     G[13,0]      4.47      2.87      4.00      0.00      8.00  10175.00      1.00\n",
      "     G[13,1]      4.54      2.87      5.00      1.00      9.00  10178.56      1.00\n",
      "     G[14,0]      4.52      2.86      5.00      0.00      8.00  10007.44      1.00\n",
      "     G[14,1]      4.49      2.88      4.00      0.00      9.00   9993.78      1.00\n",
      "     G[15,0]      4.50      2.88      4.00      0.00      9.00   9857.92      1.00\n",
      "     G[15,1]      4.49      2.85      4.00      0.00      8.00   9446.77      1.00\n",
      "     G[16,0]      4.50      2.89      4.00      1.00      9.00   9873.86      1.00\n",
      "     G[16,1]      4.52      2.86      5.00      1.00      9.00  10530.57      1.00\n",
      "     G[17,0]      4.51      2.86      5.00      0.00      8.00  10224.30      1.00\n",
      "     G[17,1]      4.50      2.88      4.00      1.00      9.00   9633.64      1.00\n",
      "     G[18,0]      4.52      2.88      5.00      0.00      8.00   9660.84      1.00\n",
      "     G[18,1]      4.52      2.87      5.00      1.00      9.00   9932.76      1.00\n",
      "     G[19,0]      4.49      2.88      5.00      0.00      8.00   9669.79      1.00\n",
      "     G[19,1]      4.46      2.86      4.00      0.00      8.00   9312.75      1.00\n",
      "     G[20,0]      4.50      2.88      4.00      1.00      9.00   9889.06      1.00\n",
      "     G[20,1]      4.48      2.88      4.00      0.00      8.00   9494.37      1.00\n",
      "     G[21,0]      4.47      2.86      4.00      0.00      8.00   9818.54      1.00\n",
      "     G[21,1]      4.51      2.88      4.00      1.00      9.00   9920.86      1.00\n",
      "     G[22,0]      4.51      2.88      5.00      0.00      9.00   9902.11      1.00\n",
      "     G[22,1]      4.52      2.86      5.00      1.00      9.00  10181.66      1.00\n",
      "     G[23,0]      4.49      2.86      4.00      0.00      8.00   9507.66      1.00\n",
      "     G[23,1]      4.50      2.87      4.00      0.00      9.00  10138.97      1.00\n",
      "     G[24,0]      4.54      2.88      5.00      0.00      9.00   9859.41      1.00\n",
      "     G[24,1]      4.48      2.87      4.00      0.00      8.00   9156.38      1.00\n",
      "     G[25,0]      4.45      2.88      4.00      0.00      8.00   9822.27      1.00\n",
      "     G[25,1]      4.49      2.86      4.00      0.00      8.00   9570.81      1.00\n",
      "     G[26,0]      4.42      2.84      4.00      0.00      8.00   9940.40      1.00\n",
      "     G[26,1]      4.54      2.87      5.00      1.00      9.00   9785.75      1.00\n",
      "     G[27,0]      4.50      2.87      4.00      1.00      9.00   9857.02      1.00\n",
      "     G[27,1]      4.44      2.89      4.00      0.00      9.00  10030.41      1.00\n",
      "     G[28,0]      4.52      2.87      5.00      1.00      9.00   9251.90      1.00\n",
      "     G[28,1]      4.51      2.86      4.00      1.00      9.00   9822.29      1.00\n",
      "     G[29,0]      4.54      2.87      5.00      1.00      9.00  10022.48      1.00\n",
      "     G[29,1]      4.51      2.86      4.00      1.00      9.00   9993.02      1.00\n",
      "     G[30,0]      4.53      2.87      5.00      1.00      9.00  10170.33      1.00\n",
      "     G[30,1]      4.52      2.88      5.00      0.00      8.00   9587.46      1.00\n",
      "     G[31,0]      4.49      2.87      4.00      0.00      8.00  10198.43      1.00\n",
      "     G[31,1]      4.54      2.86      5.00      1.00      9.00   9941.68      1.00\n",
      "     G[32,0]      4.52      2.90      5.00      0.00      9.00  10305.50      1.00\n",
      "     G[32,1]      4.52      2.88      5.00      1.00      9.00   9549.23      1.00\n",
      "     G[33,0]      4.50      2.88      5.00      0.00      8.00  10289.92      1.00\n",
      "     G[33,1]      4.49      2.87      4.00      0.00      8.00   9792.95      1.00\n",
      "     G[34,0]      4.50      2.89      5.00      0.00      9.00   9981.40      1.00\n",
      "     G[34,1]      4.50      2.89      4.00      1.00      9.00   9653.79      1.00\n",
      "     G[35,0]      4.50      2.86      5.00      0.00      8.00   9990.69      1.00\n",
      "     G[35,1]      4.47      2.84      4.00      0.00      8.00  10103.16      1.00\n",
      "     G[36,0]      4.52      2.86      5.00      0.00      8.00   9889.25      1.00\n",
      "     G[36,1]      4.54      2.87      5.00      0.00      8.00  10321.63      1.00\n",
      "     G[37,0]      4.46      2.87      4.00      0.00      9.00   9776.78      1.00\n",
      "     G[37,1]      4.51      2.88      5.00      0.00      9.00   9729.53      1.00\n",
      "     G[38,0]      4.54      2.87      5.00      1.00      9.00  10002.78      1.00\n",
      "     G[38,1]      4.46      2.86      5.00      0.00      8.00   9710.98      1.00\n",
      "     G[39,0]      4.52      2.87      5.00      1.00      9.00   9359.31      1.00\n",
      "     G[39,1]      4.53      2.88      5.00      0.00      9.00  10017.49      1.00\n",
      "     G[40,0]      4.50      2.88      4.00      0.00      9.00   9881.18      1.00\n",
      "     G[40,1]      4.49      2.88      4.00      0.00      9.00  10120.97      1.00\n",
      "     G[41,0]      4.51      2.87      5.00      1.00      9.00   9367.50      1.00\n",
      "     G[41,1]      4.50      2.88      4.00      0.00      8.00   9142.03      1.00\n",
      "     G[42,0]      4.51      2.89      4.00      1.00      9.00   9871.55      1.00\n",
      "     G[42,1]      4.50      2.86      4.00      0.00      8.00  10084.57      1.00\n",
      "     G[43,0]      4.51      2.86      5.00      0.00      8.00  10169.01      1.00\n",
      "     G[43,1]      4.51      2.87      5.00      0.00      8.00  10096.98      1.00\n",
      "     G[44,0]      4.54      2.86      5.00      1.00      9.00   9968.33      1.00\n",
      "     G[44,1]      4.48      2.89      4.00      0.00      9.00   9339.91      1.00\n",
      "    Z_n[0,0]      0.51      0.50      1.00      0.00      1.00    176.37      1.00\n",
      "    Z_n[1,0]      0.51      0.50      1.00      0.00      1.00    172.56      1.00\n",
      "    Z_n[2,0]      0.46      0.50      0.00      0.00      1.00    172.84      1.01\n",
      "    Z_n[3,0]      0.46      0.50      0.00      0.00      1.00    173.72      1.01\n",
      "epsilon[0,0]      0.92      0.08      0.94      0.80      1.00  13740.76      1.00\n",
      "epsilon[0,1]      0.01      0.03      0.00      0.00      0.02  10453.94      1.00\n",
      "epsilon[0,2]      0.01      0.03      0.00      0.00      0.02  10647.23      1.00\n",
      "epsilon[0,3]      0.01      0.03      0.00      0.00      0.03   9164.32      1.00\n",
      "epsilon[0,4]      0.01      0.03      0.00      0.00      0.02   9424.47      1.00\n",
      "epsilon[0,5]      0.01      0.03      0.00      0.00      0.02   9802.09      1.00\n",
      "epsilon[0,6]      0.01      0.03      0.00      0.00      0.02   9215.01      1.00\n",
      "epsilon[0,7]      0.01      0.03      0.00      0.00      0.03   9009.62      1.00\n",
      "epsilon[0,8]      0.01      0.03      0.00      0.00      0.02   9625.07      1.00\n",
      "epsilon[0,9]      0.01      0.03      0.00      0.00      0.03   9582.48      1.00\n",
      "epsilon[1,0]      0.32      0.08      0.32      0.19      0.46  13163.17      1.00\n",
      "epsilon[1,1]      0.33      0.08      0.32      0.18      0.46  10964.31      1.00\n",
      "epsilon[1,2]      0.00      0.01      0.00      0.00      0.01  10702.76      1.00\n",
      "epsilon[1,3]      0.00      0.01      0.00      0.00      0.01   9906.40      1.00\n",
      "epsilon[1,4]      0.33      0.09      0.32      0.18      0.46  11544.60      1.00\n",
      "epsilon[1,5]      0.00      0.01      0.00      0.00      0.01  10481.28      1.00\n",
      "epsilon[1,6]      0.00      0.01      0.00      0.00      0.01   9473.44      1.00\n",
      "epsilon[1,7]      0.00      0.01      0.00      0.00      0.01   9982.75      1.00\n",
      "epsilon[1,8]      0.00      0.01      0.00      0.00      0.01   8972.53      1.00\n",
      "epsilon[1,9]      0.00      0.01      0.00      0.00      0.01   9447.44      1.00\n",
      "epsilon[2,0]      0.32      0.08      0.32      0.19      0.46  11329.09      1.00\n",
      "epsilon[2,1]      0.00      0.01      0.00      0.00      0.01  11579.99      1.00\n",
      "epsilon[2,2]      0.33      0.08      0.32      0.19      0.46  13632.32      1.00\n",
      "epsilon[2,3]      0.00      0.01      0.00      0.00      0.01  10823.67      1.00\n",
      "epsilon[2,4]      0.00      0.01      0.00      0.00      0.01  11262.26      1.00\n",
      "epsilon[2,5]      0.00      0.01      0.00      0.00      0.01  11008.27      1.00\n",
      "epsilon[2,6]      0.00      0.01      0.00      0.00      0.01  11001.09      1.00\n",
      "epsilon[2,7]      0.33      0.08      0.32      0.19      0.46  13741.66      1.00\n",
      "epsilon[2,8]      0.00      0.01      0.00      0.00      0.01   9784.98      1.00\n",
      "epsilon[2,9]      0.00      0.01      0.00      0.00      0.01   8228.94      1.00\n",
      "epsilon[3,0]      0.32      0.08      0.32      0.19      0.46  12777.93      1.00\n",
      "epsilon[3,1]      0.00      0.01      0.00      0.00      0.01  11299.96      1.00\n",
      "epsilon[3,2]      0.00      0.01      0.00      0.00      0.01  11414.19      1.00\n",
      "epsilon[3,3]      0.32      0.08      0.32      0.19      0.46  12485.45      1.00\n",
      "epsilon[3,4]      0.00      0.01      0.00      0.00      0.01  10203.73      1.00\n",
      "epsilon[3,5]      0.00      0.01      0.00      0.00      0.01  11254.46      1.00\n",
      "epsilon[3,6]      0.00      0.01      0.00      0.00      0.01  11181.36      1.00\n",
      "epsilon[3,7]      0.00      0.01      0.00      0.00      0.01   9431.77      1.00\n",
      "epsilon[3,8]      0.00      0.01      0.00      0.00      0.01  10753.64      1.00\n",
      "epsilon[3,9]      0.33      0.08      0.32      0.19      0.46  12517.78      1.00\n",
      "epsilon[4,0]      0.01      0.03      0.00      0.00      0.03  11114.09      1.00\n",
      "epsilon[4,1]      0.01      0.03      0.00      0.00      0.03  11123.71      1.00\n",
      "epsilon[4,2]      0.01      0.03      0.00      0.00      0.03  11458.96      1.00\n",
      "epsilon[4,3]      0.01      0.03      0.00      0.00      0.03  11261.34      1.00\n",
      "epsilon[4,4]      0.92      0.08      0.94      0.81      1.00  13100.39      1.00\n",
      "epsilon[4,5]      0.01      0.03      0.00      0.00      0.02  10402.22      1.00\n",
      "epsilon[4,6]      0.01      0.03      0.00      0.00      0.02  10017.37      1.00\n",
      "epsilon[4,7]      0.01      0.03      0.00      0.00      0.03   9058.58      1.00\n",
      "epsilon[4,8]      0.01      0.02      0.00      0.00      0.02   9342.72      1.00\n",
      "epsilon[4,9]      0.01      0.03      0.00      0.00      0.03   9204.93      1.00\n",
      "epsilon[5,0]      0.00      0.01      0.00      0.00      0.01  10523.40      1.00\n",
      "epsilon[5,1]      0.00      0.01      0.00      0.00      0.01  10413.40      1.00\n",
      "epsilon[5,2]      0.00      0.01      0.00      0.00      0.01  11249.06      1.00\n",
      "epsilon[5,3]      0.00      0.01      0.00      0.00      0.01  10746.56      1.00\n",
      "epsilon[5,4]      0.32      0.08      0.32      0.18      0.45  11436.79      1.00\n",
      "epsilon[5,5]      0.32      0.08      0.32      0.19      0.45  13281.93      1.00\n",
      "epsilon[5,6]      0.00      0.01      0.00      0.00      0.01   9518.33      1.00\n",
      "epsilon[5,7]      0.33      0.08      0.33      0.19      0.47  13116.68      1.00\n",
      "epsilon[5,8]      0.00      0.01      0.00      0.00      0.01   8916.26      1.00\n",
      "epsilon[5,9]      0.00      0.01      0.00      0.00      0.01   9241.31      1.00\n",
      "epsilon[6,0]      0.00      0.01      0.00      0.00      0.01  10761.82      1.00\n",
      "epsilon[6,1]      0.00      0.01      0.00      0.00      0.01  10779.79      1.00\n",
      "epsilon[6,2]      0.00      0.01      0.00      0.00      0.01  11232.62      1.00\n",
      "epsilon[6,3]      0.00      0.01      0.00      0.00      0.01  10355.57      1.00\n",
      "epsilon[6,4]      0.33      0.08      0.32      0.19      0.46  12403.38      1.00\n",
      "epsilon[6,5]      0.00      0.01      0.00      0.00      0.01  11288.27      1.00\n",
      "epsilon[6,6]      0.32      0.08      0.32      0.19      0.46  12718.01      1.00\n",
      "epsilon[6,7]      0.00      0.01      0.00      0.00      0.01   9282.01      1.00\n",
      "epsilon[6,8]      0.00      0.01      0.00      0.00      0.01  11184.52      1.00\n",
      "epsilon[6,9]      0.33      0.08      0.32      0.19      0.47  11342.93      1.00\n",
      "epsilon[7,0]      0.01      0.03      0.00      0.00      0.02  11273.53      1.00\n",
      "epsilon[7,1]      0.01      0.03      0.00      0.00      0.02  10305.23      1.00\n",
      "epsilon[7,2]      0.01      0.03      0.00      0.00      0.02  11104.44      1.00\n",
      "epsilon[7,3]      0.01      0.03      0.00      0.00      0.02  10951.59      1.00\n",
      "epsilon[7,4]      0.01      0.02      0.00      0.00      0.02  10843.77      1.00\n",
      "epsilon[7,5]      0.01      0.03      0.00      0.00      0.02  10958.84      1.00\n",
      "epsilon[7,6]      0.01      0.03      0.00      0.00      0.02  11326.33      1.00\n",
      "epsilon[7,7]      0.91      0.09      0.93      0.79      1.00   5791.31      1.00\n",
      "epsilon[7,8]      0.01      0.02      0.00      0.00      0.02  10838.90      1.00\n",
      "epsilon[7,9]      0.02      0.05      0.00      0.00      0.08   2499.08      1.00\n",
      "epsilon[8,0]      0.22      0.03      0.22      0.17      0.27  13289.07      1.00\n",
      "epsilon[8,1]      0.00      0.00      0.00      0.00      0.00  10871.56      1.00\n",
      "epsilon[8,2]      0.00      0.00      0.00      0.00      0.00   9690.98      1.00\n",
      "epsilon[8,3]      0.00      0.00      0.00      0.00      0.00  11155.32      1.00\n",
      "epsilon[8,4]      0.25      0.03      0.25      0.20      0.30  11716.42      1.00\n",
      "epsilon[8,5]      0.00      0.00      0.00      0.00      0.00  10787.27      1.00\n",
      "epsilon[8,6]      0.00      0.00      0.00      0.00      0.00  11090.60      1.00\n",
      "epsilon[8,7]      0.22      0.03      0.21      0.17      0.26  12234.16      1.00\n",
      "epsilon[8,8]      0.05      0.01      0.05      0.02      0.07  12957.15      1.00\n",
      "epsilon[8,9]      0.26      0.03      0.26      0.21      0.31  11371.41      1.00\n",
      "epsilon[9,0]      0.01      0.03      0.00      0.00      0.02  10763.24      1.00\n",
      "epsilon[9,1]      0.01      0.03      0.00      0.00      0.02  10256.18      1.00\n",
      "epsilon[9,2]      0.01      0.03      0.00      0.00      0.02  10522.22      1.00\n",
      "epsilon[9,3]      0.01      0.03      0.00      0.00      0.02  10586.80      1.00\n",
      "epsilon[9,4]      0.01      0.03      0.00      0.00      0.02  10648.45      1.00\n",
      "epsilon[9,5]      0.01      0.03      0.00      0.00      0.02  10178.88      1.00\n",
      "epsilon[9,6]      0.01      0.03      0.00      0.00      0.02  11191.65      1.00\n",
      "epsilon[9,7]      0.02      0.05      0.00      0.00      0.07   2650.40      1.00\n",
      "epsilon[9,8]      0.01      0.03      0.00      0.00      0.02   9874.85      1.00\n",
      "epsilon[9,9]      0.91      0.09      0.94      0.79      1.00   5443.67      1.00\n",
      "       pi[0]      0.51      0.31      0.52      0.08      1.00    200.30      1.00\n",
      "       pi[1]      0.49      0.31      0.48      0.00      0.92    200.30      1.00\n",
      "\n"
     ]
    }
   ],
   "source": [
    "mcmc.print_summary()  "
   ]
  },
  {
   "cell_type": "code",
   "execution_count": 195,
   "id": "painful-matthew",
   "metadata": {
    "ExecuteTime": {
     "end_time": "2022-04-14T21:58:54.145833Z",
     "start_time": "2022-04-14T21:58:54.141097Z"
    }
   },
   "outputs": [
    {
     "data": {
      "text/plain": [
       "DeviceArray([[[1],\n",
       "              [1],\n",
       "              [0],\n",
       "              [0]],\n",
       "\n",
       "             [[1],\n",
       "              [1],\n",
       "              [0],\n",
       "              [0]],\n",
       "\n",
       "             [[1],\n",
       "              [1],\n",
       "              [0],\n",
       "              [0]],\n",
       "\n",
       "             ...,\n",
       "\n",
       "             [[0],\n",
       "              [0],\n",
       "              [1],\n",
       "              [1]],\n",
       "\n",
       "             [[0],\n",
       "              [0],\n",
       "              [1],\n",
       "              [1]],\n",
       "\n",
       "             [[0],\n",
       "              [0],\n",
       "              [1],\n",
       "              [1]]], dtype=int32)"
      ]
     },
     "execution_count": 195,
     "metadata": {},
     "output_type": "execute_result"
    }
   ],
   "source": [
    "mcmc.get_samples()['Z_n']"
   ]
  },
  {
   "cell_type": "code",
   "execution_count": null,
   "id": "opened-profile",
   "metadata": {},
   "outputs": [],
   "source": []
  }
 ],
 "metadata": {
  "finalized": {
   "timestamp": 1649903287190,
   "trusted": true
  },
  "hide_input": false,
  "kernelspec": {
   "display_name": "Python 3",
   "language": "python",
   "name": "python3"
  },
  "language_info": {
   "codemirror_mode": {
    "name": "ipython",
    "version": 3
   },
   "file_extension": ".py",
   "mimetype": "text/x-python",
   "name": "python",
   "nbconvert_exporter": "python",
   "pygments_lexer": "ipython3",
   "version": "3.7.9"
  }
 },
 "nbformat": 4,
 "nbformat_minor": 5
}
