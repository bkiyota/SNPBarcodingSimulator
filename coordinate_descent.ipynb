{
 "cells": [
  {
   "cell_type": "markdown",
   "id": "educational-figure",
   "metadata": {},
   "source": [
    "# Coordinate Descent to Cluster Cells\n",
    "\n",
    "We want to perform coordinate descent to cluster cells. We will initialize a clustering using a common method, such as spectral clustering. Then, we will use that clustering to fit maximum likelihood embryo centers. Next, we will set the cluster of each cell according to maximum likelihood. This will be repeated until convergence."
   ]
  },
  {
   "cell_type": "code",
   "execution_count": 1,
   "id": "italian-small",
   "metadata": {
    "ExecuteTime": {
     "end_time": "2022-07-28T00:00:41.503962Z",
     "start_time": "2022-07-28T00:00:39.520559Z"
    }
   },
   "outputs": [],
   "source": [
    "import pandas as pd\n",
    "import anndata\n",
    "from tqdm.notebook import tqdm\n",
    "import numpy as np\n",
    "import matplotlib.pyplot as plt\n",
    "import scipy.stats as ss\n",
    "from functools import partial\n",
    "from multiprocessing import Pool\n",
    "from sklearn.metrics import adjusted_rand_score"
   ]
  },
  {
   "cell_type": "markdown",
   "id": "compressed-radius",
   "metadata": {},
   "source": [
    "## Load Data"
   ]
  },
  {
   "cell_type": "code",
   "execution_count": 2,
   "id": "brave-insider",
   "metadata": {
    "ExecuteTime": {
     "end_time": "2022-07-28T00:00:41.508824Z",
     "start_time": "2022-07-28T00:00:41.506209Z"
    }
   },
   "outputs": [],
   "source": [
    "NUM_EMBRYOS = 3\n",
    "UMI_CUTOFF = 2000\n",
    "\n",
    "CALLS_SAVE_PATH = 'data/calls_2022_07_06.h5ad'\n",
    "READS_SAVE_PATH = 'data/reads_2022_07_06.h5ad'"
   ]
  },
  {
   "cell_type": "code",
   "execution_count": 3,
   "id": "living-tiger",
   "metadata": {
    "ExecuteTime": {
     "end_time": "2022-07-28T00:00:51.484465Z",
     "start_time": "2022-07-28T00:00:41.510884Z"
    }
   },
   "outputs": [
    {
     "name": "stderr",
     "output_type": "stream",
     "text": [
      "Observation names are not unique. To make them unique, call `.obs_names_make_unique`.\n",
      "Observation names are not unique. To make them unique, call `.obs_names_make_unique`.\n"
     ]
    }
   ],
   "source": [
    "variants_joined = anndata.read_h5ad(CALLS_SAVE_PATH)\n",
    "reads_joined = anndata.read_h5ad(READS_SAVE_PATH)"
   ]
  },
  {
   "cell_type": "code",
   "execution_count": 4,
   "id": "academic-calibration",
   "metadata": {
    "ExecuteTime": {
     "end_time": "2022-07-28T00:00:53.530586Z",
     "start_time": "2022-07-28T00:00:51.486707Z"
    }
   },
   "outputs": [
    {
     "name": "stderr",
     "output_type": "stream",
     "text": [
      "Observation names are not unique. To make them unique, call `.obs_names_make_unique`.\n",
      "Observation names are not unique. To make them unique, call `.obs_names_make_unique`.\n"
     ]
    }
   ],
   "source": [
    "umi_sum = reads_joined.X.sum(axis=1)\n",
    "cells_to_keep = umi_sum >= UMI_CUTOFF\n",
    "\n",
    "variants_joined = variants_joined[cells_to_keep, :].copy()\n",
    "reads_joined = reads_joined[cells_to_keep, :].copy()"
   ]
  },
  {
   "cell_type": "markdown",
   "id": "horizontal-amino",
   "metadata": {},
   "source": [
    "## Run Descent"
   ]
  },
  {
   "cell_type": "code",
   "execution_count": 5,
   "id": "compressed-sugar",
   "metadata": {
    "ExecuteTime": {
     "end_time": "2022-07-28T00:00:53.541648Z",
     "start_time": "2022-07-28T00:00:53.532736Z"
    }
   },
   "outputs": [],
   "source": [
    "# Computes the log probability of each value of\n",
    "# variant j in cluster i\n",
    "def compute_best_log_prob_pi(j, i=None):\n",
    "    # Get the calls for the variant for each cell in the cluster\n",
    "    cell_calls = C[z == i, j]\n",
    "    \n",
    "    probs = []\n",
    "    \n",
    "    for pi_call in range(4):\n",
    "        prob = 0\n",
    "        \n",
    "        for cell_call in cell_calls:\n",
    "            if T[pi_call, cell_call] == 0:\n",
    "                prob = -np.inf\n",
    "                break\n",
    "            \n",
    "            prob += np.log(T[pi_call, cell_call])\n",
    "            \n",
    "        probs.append(prob)\n",
    "        \n",
    "    return np.argmax(probs)\n",
    "\n",
    "# Sets pi by computing choosing the best log probability variant\n",
    "# call for each cluster\n",
    "def set_pi():\n",
    "    pi = np.zeros((NUM_EMBRYOS, C.shape[1]), dtype=np.int8)\n",
    "    \n",
    "    for i in range(NUM_EMBRYOS):\n",
    "        emb_prob_fun = partial(compute_best_log_prob_pi, i=i)\n",
    "        \n",
    "        p = Pool(NUM_THREADS)\n",
    "        calls = list(tqdm(p.imap(emb_prob_fun, range(C.shape[1])), total=C.shape[1]))\n",
    "        p.close()\n",
    "                \n",
    "        pi[i, :] = calls\n",
    "            \n",
    "    return pi\n",
    "\n",
    "# Computes the log probabilities accross the possible clusters for\n",
    "# C[i]\n",
    "def compute_best_log_prob_C(i):\n",
    "    probs = []\n",
    "    \n",
    "    for l in range(NUM_EMBRYOS):\n",
    "        prob = 0\n",
    "        \n",
    "        for j in range(C.shape[1]):\n",
    "            if T[pi[l, j], C[i, j]] == 0:\n",
    "                prob = -np.inf\n",
    "                break\n",
    "                \n",
    "            prob += np.log(T[pi[l, j], C[i, j]])\n",
    "            \n",
    "        probs.append(prob)\n",
    "        \n",
    "    return np.argmax(probs)\n",
    "\n",
    "def set_z():    \n",
    "    p = Pool(NUM_THREADS)\n",
    "    z = np.array(list(tqdm(p.imap(compute_best_log_prob_C, range(C.shape[0])), total=C.shape[0])))\n",
    "    p.close()\n",
    "                            \n",
    "    return z"
   ]
  },
  {
   "cell_type": "code",
   "execution_count": 8,
   "id": "parental-tonight",
   "metadata": {
    "ExecuteTime": {
     "end_time": "2022-07-28T00:21:24.341867Z",
     "start_time": "2022-07-28T00:21:24.336008Z"
    }
   },
   "outputs": [],
   "source": [
    "NUM_THREADS = 90\n",
    "\n",
    "# Our ground truth data\n",
    "C = variants_joined.X\n",
    "#z = np.random.randint(0, NUM_EMBRYOS, size=C.shape[0])\n",
    "z = np.array(variants_joined.obs.embryo)\n",
    "T = np.array([[1.        , 0.        , 0.        , 0.        ],\n",
    "       [0.74778739, 0.25221261, 0.        , 0.        ],\n",
    "       [0.84580846, 0.03814512, 0.10065051, 0.01539591],\n",
    "       [0.74778739, 0.        , 0.        , 0.25221261]])"
   ]
  },
  {
   "cell_type": "code",
   "execution_count": 9,
   "id": "particular-facial",
   "metadata": {
    "ExecuteTime": {
     "end_time": "2022-07-28T00:23:20.567855Z",
     "start_time": "2022-07-28T00:21:25.748817Z"
    },
    "scrolled": false
   },
   "outputs": [
    {
     "name": "stdout",
     "output_type": "stream",
     "text": [
      "Setting pi\n"
     ]
    },
    {
     "data": {
      "application/vnd.jupyter.widget-view+json": {
       "model_id": "5abd8768281a4a80915eb6138d707052",
       "version_major": 2,
       "version_minor": 0
      },
      "text/plain": [
       "  0%|          | 0/27462 [00:00<?, ?it/s]"
      ]
     },
     "metadata": {},
     "output_type": "display_data"
    },
    {
     "data": {
      "application/vnd.jupyter.widget-view+json": {
       "model_id": "92fa521227704e5d9a7d5ba93ecdd537",
       "version_major": 2,
       "version_minor": 0
      },
      "text/plain": [
       "  0%|          | 0/27462 [00:00<?, ?it/s]"
      ]
     },
     "metadata": {},
     "output_type": "display_data"
    },
    {
     "data": {
      "application/vnd.jupyter.widget-view+json": {
       "model_id": "9df0b28f0bbe4f34b3b8e331304b5556",
       "version_major": 2,
       "version_minor": 0
      },
      "text/plain": [
       "  0%|          | 0/27462 [00:00<?, ?it/s]"
      ]
     },
     "metadata": {},
     "output_type": "display_data"
    },
    {
     "name": "stdout",
     "output_type": "stream",
     "text": [
      "Setting z\n"
     ]
    },
    {
     "data": {
      "application/vnd.jupyter.widget-view+json": {
       "model_id": "3d16457339e94cb7a50c3407e21ad4b4",
       "version_major": 2,
       "version_minor": 0
      },
      "text/plain": [
       "  0%|          | 0/16480 [00:00<?, ?it/s]"
      ]
     },
     "metadata": {},
     "output_type": "display_data"
    },
    {
     "name": "stdout",
     "output_type": "stream",
     "text": [
      "ARI is:  1.0\n",
      "Setting pi\n"
     ]
    },
    {
     "data": {
      "application/vnd.jupyter.widget-view+json": {
       "model_id": "dd979a0a71954a239620c5f7f5c4acf2",
       "version_major": 2,
       "version_minor": 0
      },
      "text/plain": [
       "  0%|          | 0/27462 [00:00<?, ?it/s]"
      ]
     },
     "metadata": {},
     "output_type": "display_data"
    },
    {
     "data": {
      "application/vnd.jupyter.widget-view+json": {
       "model_id": "228053500b264af5abde4a91540a88e2",
       "version_major": 2,
       "version_minor": 0
      },
      "text/plain": [
       "  0%|          | 0/27462 [00:00<?, ?it/s]"
      ]
     },
     "metadata": {},
     "output_type": "display_data"
    },
    {
     "data": {
      "application/vnd.jupyter.widget-view+json": {
       "model_id": "1f97e2d314e74920ad6837416f4d7122",
       "version_major": 2,
       "version_minor": 0
      },
      "text/plain": [
       "  0%|          | 0/27462 [00:00<?, ?it/s]"
      ]
     },
     "metadata": {},
     "output_type": "display_data"
    },
    {
     "name": "stdout",
     "output_type": "stream",
     "text": [
      "Setting z\n"
     ]
    },
    {
     "data": {
      "application/vnd.jupyter.widget-view+json": {
       "model_id": "45fd70f09a33493fa6944d8bc643e1f5",
       "version_major": 2,
       "version_minor": 0
      },
      "text/plain": [
       "  0%|          | 0/16480 [00:00<?, ?it/s]"
      ]
     },
     "metadata": {},
     "output_type": "display_data"
    },
    {
     "name": "stdout",
     "output_type": "stream",
     "text": [
      "ARI is:  1.0\n"
     ]
    }
   ],
   "source": [
    "score_prev = -1\n",
    "\n",
    "while 1:\n",
    "    print('Setting pi')\n",
    "    pi = set_pi()\n",
    "    \n",
    "    print('Setting z')\n",
    "    z = set_z()\n",
    "    \n",
    "    score = adjusted_rand_score(variants_joined.obs.embryo, z)\n",
    "    print('ARI is: ', score)\n",
    "    \n",
    "    if score-score_prev == 0:\n",
    "        break\n",
    "        \n",
    "    score_prev=score"
   ]
  },
  {
   "cell_type": "code",
   "execution_count": null,
   "id": "neither-database",
   "metadata": {},
   "outputs": [],
   "source": []
  }
 ],
 "metadata": {
  "hide_input": false,
  "kernelspec": {
   "display_name": "Python 3",
   "language": "python",
   "name": "python3"
  },
  "language_info": {
   "codemirror_mode": {
    "name": "ipython",
    "version": 3
   },
   "file_extension": ".py",
   "mimetype": "text/x-python",
   "name": "python",
   "nbconvert_exporter": "python",
   "pygments_lexer": "ipython3",
   "version": "3.7.9"
  }
 },
 "nbformat": 4,
 "nbformat_minor": 5
}
