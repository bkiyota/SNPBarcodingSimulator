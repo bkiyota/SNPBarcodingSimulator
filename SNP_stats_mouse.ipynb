{
 "cells": [
  {
   "cell_type": "markdown",
   "id": "pretty-premiere",
   "metadata": {},
   "source": [
    "# Mutation Statistics\n",
    "\n",
    "We want to look which types of mutations occur in our data. Specifically, we want to count how many of the mutations are actually SNPs, and how many SNPs overlap on the same position."
   ]
  },
  {
   "cell_type": "code",
   "execution_count": 2,
   "id": "equal-banking",
   "metadata": {
    "ExecuteTime": {
     "end_time": "2022-09-28T20:20:41.656493Z",
     "start_time": "2022-09-28T20:20:41.651624Z"
    }
   },
   "outputs": [],
   "source": [
    "import pandas as pd\n",
    "import anndata\n",
    "from tqdm.notebook import tqdm\n",
    "import numpy as np\n",
    "import matplotlib.pyplot as plt\n",
    "import scipy.stats as ss\n",
    "from functools import partial\n",
    "from multiprocessing import Pool"
   ]
  },
  {
   "cell_type": "code",
   "execution_count": 3,
   "id": "varied-burning",
   "metadata": {
    "ExecuteTime": {
     "end_time": "2022-09-28T20:21:02.369374Z",
     "start_time": "2022-09-28T20:21:02.360558Z"
    }
   },
   "outputs": [],
   "source": [
    "NUM_EMBRYOS = 3\n",
    "\n",
    "CALLS_SAVE_PATH = 'data/calls_2022_07_28_umi_filtered.h5ad'\n",
    "READS_SAVE_PATH = 'data/reads_2022_07_28_umi_filtered.h5ad'"
   ]
  },
  {
   "cell_type": "code",
   "execution_count": 4,
   "id": "buried-maine",
   "metadata": {
    "ExecuteTime": {
     "end_time": "2022-09-28T20:21:11.206305Z",
     "start_time": "2022-09-28T20:21:06.550419Z"
    }
   },
   "outputs": [
    {
     "name": "stderr",
     "output_type": "stream",
     "text": [
      "Observation names are not unique. To make them unique, call `.obs_names_make_unique`.\n",
      "Observation names are not unique. To make them unique, call `.obs_names_make_unique`.\n"
     ]
    }
   ],
   "source": [
    "variants_joined = anndata.read_h5ad(CALLS_SAVE_PATH)\n",
    "reads_joined = anndata.read_h5ad(READS_SAVE_PATH)"
   ]
  },
  {
   "cell_type": "code",
   "execution_count": 14,
   "id": "living-jason",
   "metadata": {
    "ExecuteTime": {
     "end_time": "2022-09-28T20:34:00.972048Z",
     "start_time": "2022-09-28T20:34:00.852553Z"
    }
   },
   "outputs": [],
   "source": [
    "# Grab the list of variants\n",
    "variant_dat = list(variants_joined.var.index)\n",
    "\n",
    "variant_chrom = []\n",
    "variant_pos = []\n",
    "variant_types = []\n",
    "\n",
    "for variant in variant_dat:\n",
    "    # Split the string to get each piece of info about the variant\n",
    "    split = variant.split(':')\n",
    "    \n",
    "    variant_chrom.append(split[0])\n",
    "    variant_pos.append(split[1])\n",
    "    variant_types.append(split[2])\n",
    "    \n",
    "# Make a dataframe\n",
    "variant_df = pd.DataFrame(columns=['chromosome', 'position', 'type'], \n",
    "                          data=np.array([variant_chrom, variant_pos, variant_types]).T)"
   ]
  },
  {
   "cell_type": "code",
   "execution_count": 26,
   "id": "located-rendering",
   "metadata": {
    "ExecuteTime": {
     "end_time": "2022-09-28T20:42:49.339940Z",
     "start_time": "2022-09-28T20:42:49.083829Z"
    }
   },
   "outputs": [],
   "source": [
    "# Find which bases we begin with and what we end with in each variant\n",
    "variant_df['start_bases'] = variant_df['type'].apply(lambda x: x.split('>')[0])\n",
    "variant_df['end_bases'] = variant_df['type'].apply(lambda x: x.split('>')[1])\n",
    "\n",
    "# If both the start base and end base are just a single base, we have a SNP\n",
    "variant_df['is_SNP'] = variant_df[['start_bases', 'end_bases']].apply(lambda row: (len(row[0]) == 1) and (len(row[1]) == 1), axis=1)"
   ]
  },
  {
   "cell_type": "code",
   "execution_count": 57,
   "id": "hindu-humanitarian",
   "metadata": {
    "ExecuteTime": {
     "end_time": "2022-09-28T21:11:33.538214Z",
     "start_time": "2022-09-28T21:11:33.532087Z"
    }
   },
   "outputs": [
    {
     "name": "stdout",
     "output_type": "stream",
     "text": [
      "There are 23950 SNPS out of 27462 variants\n"
     ]
    }
   ],
   "source": [
    "num_SNPS = variant_df['is_SNP'].sum()\n",
    "num_variants = variant_df.shape[0]\n",
    "\n",
    "print(f'There are {num_SNPS} SNPS out of {num_variants} variants')"
   ]
  },
  {
   "cell_type": "code",
   "execution_count": 52,
   "id": "written-requirement",
   "metadata": {
    "ExecuteTime": {
     "end_time": "2022-09-28T21:07:45.652478Z",
     "start_time": "2022-09-28T21:07:45.577443Z"
    }
   },
   "outputs": [
    {
     "name": "stdout",
     "output_type": "stream",
     "text": [
      "There are 34 overlapping SNPs in the dataset\n"
     ]
    }
   ],
   "source": [
    "# Restrict to SNPs and see how many variants share the same position\n",
    "snps_df = variant_df.loc[variant_df.is_SNP, :].copy()\n",
    "\n",
    "total_overlaps = 0\n",
    "\n",
    "# Go by each chromosome and see how many overlapping SNPs there are\n",
    "for chrom in snps_df.chromosome.unique():\n",
    "    snps_df_chrom = snps_df.loc[snps_df.chromosome == chrom, :]\n",
    "    \n",
    "    # Count how many positions overlap on the chromosome\n",
    "    position_counts = snps_df_chrom['position'].value_counts()\n",
    "    overlaps = np.sum(position_counts > 1)\n",
    "    total_overlaps += overlaps\n",
    "    \n",
    "print(f'There are {total_overlaps} overlapping SNPs in the dataset')"
   ]
  },
  {
   "cell_type": "code",
   "execution_count": 56,
   "id": "european-farmer",
   "metadata": {
    "ExecuteTime": {
     "end_time": "2022-09-28T21:09:47.346254Z",
     "start_time": "2022-09-28T21:09:47.264142Z"
    }
   },
   "outputs": [
    {
     "name": "stdout",
     "output_type": "stream",
     "text": [
      "There are 190 overlapping variants in the dataset\n"
     ]
    }
   ],
   "source": [
    "total_overlaps = 0\n",
    "\n",
    "# Go by each chromosome and see how many overlapping variants there are\n",
    "for chrom in variant_df.chromosome.unique():\n",
    "    variants_df_chrom = variant_df.loc[variant_df.chromosome == chrom, :]\n",
    "    \n",
    "    # Count how many positions overlap on the chromosome\n",
    "    position_counts = variants_df_chrom['position'].value_counts()\n",
    "    overlaps = np.sum(position_counts > 1)\n",
    "    total_overlaps += overlaps\n",
    "    \n",
    "print(f'There are {total_overlaps} overlapping variants in the dataset')"
   ]
  },
  {
   "cell_type": "code",
   "execution_count": null,
   "id": "traditional-superintendent",
   "metadata": {},
   "outputs": [],
   "source": []
  }
 ],
 "metadata": {
  "finalized": {
   "timestamp": 1664396353396,
   "trusted": true
  },
  "hide_input": false,
  "kernelspec": {
   "display_name": "Python 3",
   "language": "python",
   "name": "python3"
  },
  "language_info": {
   "codemirror_mode": {
    "name": "ipython",
    "version": 3
   },
   "file_extension": ".py",
   "mimetype": "text/x-python",
   "name": "python",
   "nbconvert_exporter": "python",
   "pygments_lexer": "ipython3",
   "version": "3.7.9"
  }
 },
 "nbformat": 4,
 "nbformat_minor": 5
}
