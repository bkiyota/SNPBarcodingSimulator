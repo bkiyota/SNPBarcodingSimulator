{
 "cells": [
  {
   "cell_type": "code",
   "execution_count": 2,
   "id": "85496e17-373d-4308-b782-0d083d208b09",
   "metadata": {
    "execution": {
     "iopub.execute_input": "2022-04-27T19:39:50.225639Z",
     "iopub.status.busy": "2022-04-27T19:39:50.225348Z",
     "iopub.status.idle": "2022-04-27T19:39:54.060516Z",
     "shell.execute_reply": "2022-04-27T19:39:54.059934Z",
     "shell.execute_reply.started": "2022-04-27T19:39:50.225617Z"
    },
    "tags": []
   },
   "outputs": [],
   "source": [
    "import pandas as pd\n",
    "import numpy as np\n",
    "import matplotlib.pyplot as plt"
   ]
  },
  {
   "cell_type": "code",
   "execution_count": 3,
   "id": "49dbc2f5-8833-4569-8150-36bbb96187fd",
   "metadata": {
    "execution": {
     "iopub.execute_input": "2022-04-27T19:39:56.086573Z",
     "iopub.status.busy": "2022-04-27T19:39:56.086219Z",
     "iopub.status.idle": "2022-04-27T19:39:56.089171Z",
     "shell.execute_reply": "2022-04-27T19:39:56.088758Z",
     "shell.execute_reply.started": "2022-04-27T19:39:56.086545Z"
    },
    "tags": []
   },
   "outputs": [],
   "source": [
    "runtime_analysis_path = \"/home/brett/work/TrajectoryInference/SNPBarcodingSimulator/simulation/analysis/qsub_outfiles/simulation_runtime.csv\""
   ]
  },
  {
   "cell_type": "code",
   "execution_count": 4,
   "id": "4baf3655-713d-44d9-948b-12f066fb9987",
   "metadata": {
    "execution": {
     "iopub.execute_input": "2022-04-27T19:39:57.608098Z",
     "iopub.status.busy": "2022-04-27T19:39:57.607807Z",
     "iopub.status.idle": "2022-04-27T19:39:57.624257Z",
     "shell.execute_reply": "2022-04-27T19:39:57.623765Z",
     "shell.execute_reply.started": "2022-04-27T19:39:57.608079Z"
    },
    "tags": []
   },
   "outputs": [
    {
     "name": "stdout",
     "output_type": "stream",
     "text": [
      "         label        id         start_time           end_time\n",
      "0  bkSNP_Lv100  51152027  20220425-15:23:23  20220425-23:21:54\n",
      "1  bkSNP_Lv100  51152028  20220425-15:23:23  20220425-21:48:42\n",
      "2  bkSNP_Lv100  51152029  20220425-15:23:23  20220425-22:13:55\n",
      "3   bkSNP_Lv10  51151881  20220425-15:20:16  20220425-15:32:19\n",
      "4   bkSNP_Lv10  51151882  20220425-15:20:16  20220425-15:30:24\n"
     ]
    }
   ],
   "source": [
    "df = pd.read_csv(runtime_analysis_path)\n",
    "print(df.head())"
   ]
  },
  {
   "cell_type": "code",
   "execution_count": 5,
   "id": "2d637f9a-830e-4308-9302-6919d290f528",
   "metadata": {
    "execution": {
     "iopub.execute_input": "2022-04-27T19:39:58.943008Z",
     "iopub.status.busy": "2022-04-27T19:39:58.942759Z",
     "iopub.status.idle": "2022-04-27T19:39:58.958731Z",
     "shell.execute_reply": "2022-04-27T19:39:58.958340Z",
     "shell.execute_reply.started": "2022-04-27T19:39:58.942988Z"
    },
    "tags": []
   },
   "outputs": [
    {
     "data": {
      "text/html": [
       "<div>\n",
       "<style scoped>\n",
       "    .dataframe tbody tr th:only-of-type {\n",
       "        vertical-align: middle;\n",
       "    }\n",
       "\n",
       "    .dataframe tbody tr th {\n",
       "        vertical-align: top;\n",
       "    }\n",
       "\n",
       "    .dataframe thead th {\n",
       "        text-align: right;\n",
       "    }\n",
       "</style>\n",
       "<table border=\"1\" class=\"dataframe\">\n",
       "  <thead>\n",
       "    <tr style=\"text-align: right;\">\n",
       "      <th></th>\n",
       "      <th>label</th>\n",
       "      <th>id</th>\n",
       "      <th>start_time</th>\n",
       "      <th>end_time</th>\n",
       "    </tr>\n",
       "  </thead>\n",
       "  <tbody>\n",
       "    <tr>\n",
       "      <th>18</th>\n",
       "      <td>bkSNP_Lv200</td>\n",
       "      <td>51159016</td>\n",
       "      <td>20220426-04:02:02</td>\n",
       "      <td>20220427-06:58:40</td>\n",
       "    </tr>\n",
       "    <tr>\n",
       "      <th>19</th>\n",
       "      <td>bkSNP_Lv200</td>\n",
       "      <td>51159026</td>\n",
       "      <td>20220426-04:02:33</td>\n",
       "      <td>20220427-06:14:33</td>\n",
       "    </tr>\n",
       "    <tr>\n",
       "      <th>20</th>\n",
       "      <td>bkSNP_Lv200</td>\n",
       "      <td>51159035</td>\n",
       "      <td>20220426-04:02:33</td>\n",
       "      <td>20220427-06:05:07</td>\n",
       "    </tr>\n",
       "  </tbody>\n",
       "</table>\n",
       "</div>"
      ],
      "text/plain": [
       "          label        id         start_time           end_time\n",
       "18  bkSNP_Lv200  51159016  20220426-04:02:02  20220427-06:58:40\n",
       "19  bkSNP_Lv200  51159026  20220426-04:02:33  20220427-06:14:33\n",
       "20  bkSNP_Lv200  51159035  20220426-04:02:33  20220427-06:05:07"
      ]
     },
     "execution_count": 5,
     "metadata": {},
     "output_type": "execute_result"
    }
   ],
   "source": [
    "df[df[\"label\"] == \"bkSNP_Lv200\"]"
   ]
  },
  {
   "cell_type": "code",
   "execution_count": 7,
   "id": "42f15421-eeb8-44bf-914c-5371e66f1d15",
   "metadata": {
    "execution": {
     "iopub.execute_input": "2022-04-27T19:42:07.981034Z",
     "iopub.status.busy": "2022-04-27T19:42:07.980744Z",
     "iopub.status.idle": "2022-04-27T19:42:07.989949Z",
     "shell.execute_reply": "2022-04-27T19:42:07.989471Z",
     "shell.execute_reply.started": "2022-04-27T19:42:07.981014Z"
    },
    "tags": []
   },
   "outputs": [
    {
     "name": "stdout",
     "output_type": "stream",
     "text": [
      "153 153\n",
      "153 153\n"
     ]
    }
   ],
   "source": [
    "num_embryos = np.array([int(label.split(\"bkSNP_Lv\")[1]) for label in df[\"label\"]])\n",
    "start_times = []\n",
    "for entry in df[\"start_time\"]:\n",
    "    date,time = entry.split(\"-\")\n",
    "    day = date.split(\"202204\")[1]\n",
    "    hour,minute,seconds = time.split(\":\")\n",
    "    seconds = int(seconds)\n",
    "    seconds += int(minute)*60\n",
    "    seconds += int(hour)*60*60\n",
    "    seconds += int(day)*24*60*60\n",
    "    start_times.append(seconds)\n",
    "    \n",
    "    \n",
    "end_times = []\n",
    "for entry in df[\"end_time\"]:\n",
    "    date,time = entry.split(\"-\")\n",
    "    day = date.split(\"202204\")[1]\n",
    "    hour,minute,seconds = time.split(\":\")\n",
    "    seconds = int(seconds)\n",
    "    seconds += int(minute)*60\n",
    "    seconds += int(hour)*60*60\n",
    "    seconds += int(day)*24*60*60\n",
    "    end_times.append(seconds)\n",
    "\n",
    "time_elapsed = np.subtract(end_times,start_times)/60/60 # in hours\n",
    "\n",
    "print(len(num_embryos),len(time_elapsed))\n",
    "idx_to_filter = [i for i in range(len(time_elapsed)) if time_elapsed[i] < 0]\n",
    "num_embryos = np.delete(num_embryos,idx_to_filter)\n",
    "time_elapsed = np.delete(time_elapsed,idx_to_filter)\n",
    "print(len(num_embryos),len(time_elapsed))"
   ]
  },
  {
   "cell_type": "code",
   "execution_count": 9,
   "id": "c7660666-3516-4d7f-b681-00ac21da8f7f",
   "metadata": {
    "execution": {
     "iopub.execute_input": "2022-04-27T19:42:40.265899Z",
     "iopub.status.busy": "2022-04-27T19:42:40.265616Z",
     "iopub.status.idle": "2022-04-27T19:42:40.269452Z",
     "shell.execute_reply": "2022-04-27T19:42:40.268971Z",
     "shell.execute_reply.started": "2022-04-27T19:42:40.265879Z"
    },
    "tags": []
   },
   "outputs": [
    {
     "name": "stdout",
     "output_type": "stream",
     "text": [
      "26.395555555555557\n"
     ]
    }
   ],
   "source": [
    "runtime_200embryos = []\n",
    "for i in range(len(num_embryos)):\n",
    "    if num_embryos[i] == 200:\n",
    "        runtime_200embryos.append(time_elapsed[i])\n",
    "print(np.mean(runtime_200embryos))"
   ]
  },
  {
   "cell_type": "code",
   "execution_count": 11,
   "id": "460dcc2e-4228-43e5-9090-cf8d510cb49e",
   "metadata": {
    "execution": {
     "iopub.execute_input": "2022-04-27T17:37:10.206088Z",
     "iopub.status.busy": "2022-04-27T17:37:10.205818Z",
     "iopub.status.idle": "2022-04-27T17:37:10.296591Z",
     "shell.execute_reply": "2022-04-27T17:37:10.296240Z",
     "shell.execute_reply.started": "2022-04-27T17:37:10.206068Z"
    },
    "tags": []
   },
   "outputs": [
    {
     "data": {
      "image/png": "[encoded data removed]",
      "text/plain": [
       "<Figure size 288x288 with 1 Axes>"
      ]
     },
     "metadata": {
      "needs_background": "light"
     },
     "output_type": "display_data"
    }
   ],
   "source": [
    "fig,ax = plt.subplots(figsize=(4,4))\n",
    "plt.tight_layout()\n",
    "plt.plot(num_embryos, time_elapsed, 'o', alpha = 0.5)\n",
    "plt.xlabel(\"Number of embryos\", fontsize=12)\n",
    "plt.ylabel(\"Runtime (hours)\", fontsize=12)\n",
    "# fig.savefig(\"/home/brett/work/TrajectoryInference/SNPBarcodingSimulator/figs/simulation_runtime.eps\", format='eps', bbox_inches='tight')\n",
    "plt.show()"
   ]
  }
 ],
 "metadata": {
  "kernelspec": {
   "display_name": "Python 3 (ipykernel)",
   "language": "python",
   "name": "python3"
  },
  "language_info": {
   "codemirror_mode": {
    "name": "ipython",
    "version": 3
   },
   "file_extension": ".py",
   "mimetype": "text/x-python",
   "name": "python",
   "nbconvert_exporter": "python",
   "pygments_lexer": "ipython3",
   "version": "3.7.12"
  }
 },
 "nbformat": 4,
 "nbformat_minor": 5
}
