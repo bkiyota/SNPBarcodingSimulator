{
 "cells": [
  {
   "cell_type": "markdown",
   "id": "pretty-premiere",
   "metadata": {},
   "source": [
    "# Mutation Statistics\n",
    "\n",
    "We want to look which types of mutations occur in our data. Specifically, we want to count how many of the mutations are actually SNPs, and how many SNPs overlap on the same position."
   ]
  },
  {
   "cell_type": "code",
   "execution_count": 8,
   "id": "equal-banking",
   "metadata": {
    "ExecuteTime": {
     "end_time": "2022-10-04T01:18:04.969904Z",
     "start_time": "2022-10-04T01:18:04.963921Z"
    }
   },
   "outputs": [],
   "source": [
    "import pandas as pd\n",
    "import anndata\n",
    "from tqdm.notebook import tqdm\n",
    "import numpy as np\n",
    "import matplotlib.pyplot as plt\n",
    "import scipy.stats as ss\n",
    "from functools import partial\n",
    "from multiprocessing import Pool"
   ]
  },
  {
   "cell_type": "code",
   "execution_count": 9,
   "id": "varied-burning",
   "metadata": {
    "ExecuteTime": {
     "end_time": "2022-10-04T01:18:04.987475Z",
     "start_time": "2022-10-04T01:18:04.971582Z"
    }
   },
   "outputs": [],
   "source": [
    "NUM_EMBRYOS = 3\n",
    "\n",
    "CALLS_SAVE_PATH = 'data/calls_2022_07_28_umi_filtered.h5ad'\n",
    "READS_SAVE_PATH = 'data/reads_2022_07_28_umi_filtered.h5ad'"
   ]
  },
  {
   "cell_type": "code",
   "execution_count": 10,
   "id": "buried-maine",
   "metadata": {
    "ExecuteTime": {
     "end_time": "2022-10-04T01:18:10.349720Z",
     "start_time": "2022-10-04T01:18:08.887209Z"
    }
   },
   "outputs": [
    {
     "name": "stderr",
     "output_type": "stream",
     "text": [
      "Observation names are not unique. To make them unique, call `.obs_names_make_unique`.\n",
      "Observation names are not unique. To make them unique, call `.obs_names_make_unique`.\n"
     ]
    }
   ],
   "source": [
    "variants_joined = anndata.read_h5ad(CALLS_SAVE_PATH)\n",
    "reads_joined = anndata.read_h5ad(READS_SAVE_PATH)"
   ]
  },
  {
   "cell_type": "code",
   "execution_count": 4,
   "id": "descending-treaty",
   "metadata": {
    "ExecuteTime": {
     "end_time": "2022-10-03T23:52:47.619505Z",
     "start_time": "2022-10-03T23:52:47.609712Z"
    }
   },
   "outputs": [
    {
     "data": {
      "text/plain": [
       "ArrayView([ 8, 27,  8], dtype=int16)"
      ]
     },
     "execution_count": 4,
     "metadata": {},
     "output_type": "execute_result"
    }
   ],
   "source": [
    "reads_joined[:, ['chr17:39847607:T>A', 'chr17:39847607:T>C', 'chr17:39847607:T>G']].X[11]"
   ]
  },
  {
   "cell_type": "code",
   "execution_count": 5,
   "id": "regulated-thailand",
   "metadata": {
    "ExecuteTime": {
     "end_time": "2022-10-03T23:52:58.559939Z",
     "start_time": "2022-10-03T23:52:58.554423Z"
    }
   },
   "outputs": [],
   "source": [
    "xx = variants_joined[:, ['chr17:39847607:T>A', 'chr17:39847607:T>C', 'chr17:39847607:T>G']].X"
   ]
  },
  {
   "cell_type": "code",
   "execution_count": 7,
   "id": "discrete-seafood",
   "metadata": {
    "ExecuteTime": {
     "end_time": "2022-10-03T23:53:15.862547Z",
     "start_time": "2022-10-03T23:53:15.857824Z"
    }
   },
   "outputs": [
    {
     "data": {
      "text/plain": [
       "ArrayView([3, 3, 3], dtype=int8)"
      ]
     },
     "execution_count": 7,
     "metadata": {},
     "output_type": "execute_result"
    }
   ],
   "source": [
    "xx[11]"
   ]
  },
  {
   "cell_type": "code",
   "execution_count": 15,
   "id": "living-jason",
   "metadata": {
    "ExecuteTime": {
     "end_time": "2022-10-04T01:20:01.468822Z",
     "start_time": "2022-10-04T01:20:01.397102Z"
    }
   },
   "outputs": [],
   "source": [
    "# Grab the list of variants\n",
    "variant_dat = list(variants_joined.var.index)\n",
    "\n",
    "variant_chrom = []\n",
    "variant_pos = []\n",
    "abs_pos = []\n",
    "variant_types = []\n",
    "\n",
    "for variant in variant_dat:\n",
    "    # Split the string to get each piece of info about the variant\n",
    "    split = variant.split(':')\n",
    "    \n",
    "    variant_chrom.append(split[0])\n",
    "    variant_pos.append(split[1])\n",
    "    variant_types.append(split[2])\n",
    "    abs_pos.append(split[0] + ':' + split[1])\n",
    "    \n",
    "# Make a dataframe\n",
    "variant_df = pd.DataFrame(columns=['chromosome', 'position', 'abs_pos', 'type'], \n",
    "                          data=np.array([variant_chrom, variant_pos, abs_pos, variant_types]).T)"
   ]
  },
  {
   "cell_type": "code",
   "execution_count": 16,
   "id": "located-rendering",
   "metadata": {
    "ExecuteTime": {
     "end_time": "2022-10-04T01:20:02.845895Z",
     "start_time": "2022-10-04T01:20:02.520986Z"
    }
   },
   "outputs": [],
   "source": [
    "# Find which bases we begin with and what we end with in each variant\n",
    "variant_df['start_bases'] = variant_df['type'].apply(lambda x: x.split('>')[0])\n",
    "variant_df['end_bases'] = variant_df['type'].apply(lambda x: x.split('>')[1])\n",
    "\n",
    "# If both the start base and end base are just a single base, we have a SNP\n",
    "variant_df['is_SNP'] = variant_df[['start_bases', 'end_bases']].apply(lambda row: (len(row[0]) == 1) and (len(row[1]) == 1), axis=1)"
   ]
  },
  {
   "cell_type": "code",
   "execution_count": 26,
   "id": "framed-leeds",
   "metadata": {
    "ExecuteTime": {
     "end_time": "2022-10-04T01:24:11.965875Z",
     "start_time": "2022-10-04T01:24:11.937026Z"
    }
   },
   "outputs": [
    {
     "data": {
      "text/html": [
       "<div>\n",
       "<style scoped>\n",
       "    .dataframe tbody tr th:only-of-type {\n",
       "        vertical-align: middle;\n",
       "    }\n",
       "\n",
       "    .dataframe tbody tr th {\n",
       "        vertical-align: top;\n",
       "    }\n",
       "\n",
       "    .dataframe thead th {\n",
       "        text-align: right;\n",
       "    }\n",
       "</style>\n",
       "<table border=\"1\" class=\"dataframe\">\n",
       "  <thead>\n",
       "    <tr style=\"text-align: right;\">\n",
       "      <th></th>\n",
       "      <th>chromosome</th>\n",
       "      <th>position</th>\n",
       "      <th>abs_pos</th>\n",
       "      <th>type</th>\n",
       "      <th>start_bases</th>\n",
       "      <th>end_bases</th>\n",
       "      <th>is_SNP</th>\n",
       "    </tr>\n",
       "  </thead>\n",
       "  <tbody>\n",
       "    <tr>\n",
       "      <th>9762</th>\n",
       "      <td>chr17</td>\n",
       "      <td>39847607</td>\n",
       "      <td>chr17:39847607</td>\n",
       "      <td>T&gt;A</td>\n",
       "      <td>T</td>\n",
       "      <td>A</td>\n",
       "      <td>True</td>\n",
       "    </tr>\n",
       "    <tr>\n",
       "      <th>9763</th>\n",
       "      <td>chr17</td>\n",
       "      <td>39847607</td>\n",
       "      <td>chr17:39847607</td>\n",
       "      <td>T&gt;A,C</td>\n",
       "      <td>T</td>\n",
       "      <td>A,C</td>\n",
       "      <td>False</td>\n",
       "    </tr>\n",
       "    <tr>\n",
       "      <th>9764</th>\n",
       "      <td>chr17</td>\n",
       "      <td>39847607</td>\n",
       "      <td>chr17:39847607</td>\n",
       "      <td>T&gt;C</td>\n",
       "      <td>T</td>\n",
       "      <td>C</td>\n",
       "      <td>True</td>\n",
       "    </tr>\n",
       "    <tr>\n",
       "      <th>9765</th>\n",
       "      <td>chr17</td>\n",
       "      <td>39847607</td>\n",
       "      <td>chr17:39847607</td>\n",
       "      <td>T&gt;C,G</td>\n",
       "      <td>T</td>\n",
       "      <td>C,G</td>\n",
       "      <td>False</td>\n",
       "    </tr>\n",
       "    <tr>\n",
       "      <th>9766</th>\n",
       "      <td>chr17</td>\n",
       "      <td>39847607</td>\n",
       "      <td>chr17:39847607</td>\n",
       "      <td>T&gt;G</td>\n",
       "      <td>T</td>\n",
       "      <td>G</td>\n",
       "      <td>True</td>\n",
       "    </tr>\n",
       "  </tbody>\n",
       "</table>\n",
       "</div>"
      ],
      "text/plain": [
       "     chromosome  position         abs_pos   type start_bases end_bases  is_SNP\n",
       "9762      chr17  39847607  chr17:39847607    T>A           T         A    True\n",
       "9763      chr17  39847607  chr17:39847607  T>A,C           T       A,C   False\n",
       "9764      chr17  39847607  chr17:39847607    T>C           T         C    True\n",
       "9765      chr17  39847607  chr17:39847607  T>C,G           T       C,G   False\n",
       "9766      chr17  39847607  chr17:39847607    T>G           T         G    True"
      ]
     },
     "execution_count": 26,
     "metadata": {},
     "output_type": "execute_result"
    }
   ],
   "source": [
    "val_counts = variant_df.abs_pos.value_counts()\n",
    "val_counts = val_counts[val_counts > 1]\n",
    "ex = val_counts.index[4]\n",
    "variant_df.loc[variant_df['abs_pos'] == ex, :]"
   ]
  },
  {
   "cell_type": "code",
   "execution_count": 25,
   "id": "provincial-survey",
   "metadata": {
    "ExecuteTime": {
     "end_time": "2022-10-04T01:23:57.838981Z",
     "start_time": "2022-10-04T01:23:57.786842Z"
    }
   },
   "outputs": [
    {
     "data": {
      "text/plain": [
       "chr5:142903500    9\n",
       "chr9:109078158    7\n",
       "chr1:171358045    6\n",
       "chr7:13035460     5\n",
       "chr17:39847607    5\n",
       "                 ..\n",
       "chr5:149047419    2\n",
       "chr12:96922293    2\n",
       "chr7:28822170     2\n",
       "chr7:84615215     2\n",
       "chr8:70700320     2\n",
       "Name: abs_pos, Length: 190, dtype: int64"
      ]
     },
     "execution_count": 25,
     "metadata": {},
     "output_type": "execute_result"
    }
   ],
   "source": [
    "val_counts"
   ]
  },
  {
   "cell_type": "code",
   "execution_count": 57,
   "id": "hindu-humanitarian",
   "metadata": {
    "ExecuteTime": {
     "end_time": "2022-09-28T21:11:33.538214Z",
     "start_time": "2022-09-28T21:11:33.532087Z"
    }
   },
   "outputs": [
    {
     "name": "stdout",
     "output_type": "stream",
     "text": [
      "There are 23950 SNPS out of 27462 variants\n"
     ]
    }
   ],
   "source": [
    "num_SNPS = variant_df['is_SNP'].sum()\n",
    "num_variants = variant_df.shape[0]\n",
    "\n",
    "print(f'There are {num_SNPS} SNPS out of {num_variants} variants')"
   ]
  },
  {
   "cell_type": "code",
   "execution_count": 52,
   "id": "written-requirement",
   "metadata": {
    "ExecuteTime": {
     "end_time": "2022-09-28T21:07:45.652478Z",
     "start_time": "2022-09-28T21:07:45.577443Z"
    }
   },
   "outputs": [
    {
     "name": "stdout",
     "output_type": "stream",
     "text": [
      "There are 34 overlapping SNPs in the dataset\n"
     ]
    }
   ],
   "source": [
    "# Restrict to SNPs and see how many variants share the same position\n",
    "snps_df = variant_df.loc[variant_df.is_SNP, :].copy()\n",
    "\n",
    "total_overlaps = 0\n",
    "\n",
    "# Go by each chromosome and see how many overlapping SNPs there are\n",
    "for chrom in snps_df.chromosome.unique():\n",
    "    snps_df_chrom = snps_df.loc[snps_df.chromosome == chrom, :]\n",
    "    \n",
    "    # Count how many positions overlap on the chromosome\n",
    "    position_counts = snps_df_chrom['position'].value_counts()\n",
    "    overlaps = np.sum(position_counts > 1)\n",
    "    total_overlaps += overlaps\n",
    "    \n",
    "print(f'There are {total_overlaps} overlapping SNPs in the dataset')"
   ]
  },
  {
   "cell_type": "code",
   "execution_count": 13,
   "id": "european-farmer",
   "metadata": {
    "ExecuteTime": {
     "end_time": "2022-10-04T01:18:28.753021Z",
     "start_time": "2022-10-04T01:18:28.650230Z"
    }
   },
   "outputs": [
    {
     "name": "stdout",
     "output_type": "stream",
     "text": [
      "There are 190 overlapping variants in the dataset\n"
     ]
    }
   ],
   "source": [
    "total_overlaps = 0\n",
    "\n",
    "# Go by each chromosome and see how many overlapping variants there are\n",
    "for chrom in variant_df.chromosome.unique():\n",
    "    variants_df_chrom = variant_df.loc[variant_df.chromosome == chrom, :]\n",
    "    \n",
    "    # Count how many positions overlap on the chromosome\n",
    "    position_counts = variants_df_chrom['position'].value_counts()\n",
    "    overlaps = np.sum(position_counts > 1)\n",
    "    total_overlaps += overlaps\n",
    "    \n",
    "print(f'There are {total_overlaps} overlapping variants in the dataset')"
   ]
  },
  {
   "cell_type": "code",
   "execution_count": null,
   "id": "traditional-superintendent",
   "metadata": {},
   "outputs": [],
   "source": []
  }
 ],
 "metadata": {
  "finalized": {
   "timestamp": 1664396353396,
   "trusted": true
  },
  "hide_input": false,
  "kernelspec": {
   "display_name": "Python 3",
   "language": "python",
   "name": "python3"
  },
  "language_info": {
   "codemirror_mode": {
    "name": "ipython",
    "version": 3
   },
   "file_extension": ".py",
   "mimetype": "text/x-python",
   "name": "python",
   "nbconvert_exporter": "python",
   "pygments_lexer": "ipython3",
   "version": "3.7.9"
  }
 },
 "nbformat": 4,
 "nbformat_minor": 5
}
