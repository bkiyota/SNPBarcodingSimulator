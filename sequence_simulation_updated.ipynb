{
 "cells": [
  {
   "cell_type": "code",
   "execution_count": 1,
   "id": "mighty-mobile",
   "metadata": {
    "ExecuteTime": {
     "end_time": "2022-09-08T04:37:57.809348Z",
     "start_time": "2022-09-08T04:37:55.556896Z"
    }
   },
   "outputs": [],
   "source": [
    "import numpy as np\n",
    "# import scipy.stats as ss\n",
    "# from scipy.spatial import distance_matrix\n",
    "import random\n",
    "import matplotlib.pyplot as plt\n",
    "import pandas as pd\n",
    "from sklearn.cluster import SpectralClustering\n",
    "from sklearn.metrics.cluster import adjusted_rand_score\n",
    "from tqdm.notebook import tqdm\n",
    "from collections import defaultdict\n",
    "from multiprocessing import Pool"
   ]
  },
  {
   "cell_type": "code",
   "execution_count": 2,
   "id": "spoken-stylus",
   "metadata": {
    "ExecuteTime": {
     "end_time": "2022-09-08T04:37:57.814657Z",
     "start_time": "2022-09-08T04:37:57.811898Z"
    }
   },
   "outputs": [],
   "source": [
    "INPUT_PATH=\"/mnt/geofflab/SNP_barcoding/Lvar_annotations_v3_Jan2021/transcripts.csv\"\n",
    "COUNTS_PATH=\"/mnt/geofflab/SNP_barcoding/LV_counts_10hpf.csv\""
   ]
  },
  {
   "cell_type": "code",
   "execution_count": 3,
   "id": "dietary-minutes",
   "metadata": {
    "ExecuteTime": {
     "end_time": "2022-09-08T04:37:57.826941Z",
     "start_time": "2022-09-08T04:37:57.816940Z"
    }
   },
   "outputs": [],
   "source": [
    "heterozygosity = 0.001 # This is the rate of SNPs per base\n",
    "alphabet = {\"A\":0, \"C\":1, \"G\":2, \"T\":3}\n",
    "\n",
    "# genotypes where chromosome order matters (used internally during generation)\n",
    "genotypes_internal = {\n",
    "    \"AA\":0, \"AC\":1, \"AG\":2, \"AT\":3, \n",
    "    \"CA\":4, \"CC\":5, \"CG\":6, \"CT\":7,\n",
    "    \"GA\":8, \"GC\":9, \"GG\":10, \"GT\":11, \n",
    "    \"TA\":12, \"TC\":13, \"TG\":14, \"TT\":15,\n",
    "}\n",
    "\n",
    "# genotypes where chromosome order doesn't matter (what we see)\n",
    "genotypes_external = {\n",
    "\"AA\":0, \"AC\":1, \"AG\":2, \"AT\":3, \n",
    "\"CA\":1, \"CC\":4, \"CG\":5, \"CT\":6,\n",
    "\"GA\":2, \"GC\":4, \"GG\":7, \"GT\":8, \n",
    "\"TA\":3, \"TC\":6, \"TG\":8, \"TT\":9,\n",
    "}"
   ]
  },
  {
   "cell_type": "code",
   "execution_count": 12,
   "id": "revolutionary-sally",
   "metadata": {
    "ExecuteTime": {
     "end_time": "2022-09-08T04:42:52.952246Z",
     "start_time": "2022-09-08T04:42:52.917474Z"
    }
   },
   "outputs": [],
   "source": [
    "def sample_dropout_profile(args):\n",
    "    \"\"\"\n",
    "    Sample a dropout profile from single-cell transcript read count df, and \n",
    "    introduce dropout over the snp_profile according to the dropout profile.\n",
    "    \"\"\"\n",
    "    global count_df\n",
    "    snps = args[0].copy()\n",
    "    loci_map = args[1]\n",
    "    \n",
    "    np.random.seed()\n",
    "    \n",
    "    # Sample a cell's counts\n",
    "    sampled_dprofile = np.random.choice(count_df.columns.tolist()[2:])\n",
    "\n",
    "    for idx,row in count_df[[\"Lv_name\",sampled_dprofile]].iterrows():\n",
    "        gene,count = row\n",
    "\n",
    "        # If we have no counts, then we have can't detect the genotype\n",
    "        if count <= 1:\n",
    "            for locus in loci_map[gene]:\n",
    "                snps[locus] = -1 # -1 genotype -> undetected\n",
    "        else:\n",
    "            # Otherwise compute the probability of only seeing one of the chromosomes, or both\n",
    "            prob_one = 0.5**count\n",
    "            prob_both = 1 - 2*prob_one\n",
    "\n",
    "            # Now choose whether we only see the first chromosome, second chromosome, or both\n",
    "            seen = np.random.choice([0, 1, 2], p=[prob_one, prob_one, prob_both])\n",
    "\n",
    "            if seen == 0:\n",
    "                # Convert internal to external genotypes on the first chromosome\n",
    "                first_mapping = {0:0, 1:0, 2:0, 3:0,\n",
    "                                 4:4, 5:4, 6:4, 7:4,\n",
    "                                 8:7, 9:7, 10:7, 11:7,\n",
    "                                 12:9, 13:9, 14:9, 15:9}\n",
    "\n",
    "                # Convert the SNP read to it's value on one of the chromosomes\n",
    "                for snp_loc in loci_map[gene]:\n",
    "                    snps[snp_loc] = first_mapping[snps[snp_loc]]\n",
    "\n",
    "            elif seen == 1:\n",
    "                # Convert internal to external genotypes on the first chromosome\n",
    "                second_mapping = {0:0, 1:4, 2:7, 3:9,\n",
    "                                 4:0, 5:4, 6:7, 7:9,\n",
    "                                 8:0, 9:4, 10:7, 11:9,\n",
    "                                 12:0, 13:4, 14:7, 15:9}\n",
    "\n",
    "                # Convert the SNP read to it's value on one of the chromosomes\n",
    "                for snp_loc in loci_map[gene]:\n",
    "                    snps[snp_loc] = second_mapping[snps[snp_loc]]\n",
    "\n",
    "            else:\n",
    "\n",
    "                # Convert internal to external genotypes on both chromosomes\n",
    "                both_mapping = {0:0, 1:1, 2:2, 3:3,\n",
    "                                 4:1, 5:4, 6:5, 7:6,\n",
    "                                 8:2, 9:4, 10:7, 11:8,\n",
    "                                 12:3, 13:6, 14:8, 15:9}\n",
    "\n",
    "                # Convert the SNP read to it's value on one of the chromosomes\n",
    "                for snp_loc in loci_map[gene]:\n",
    "                    snps[snp_loc] = both_mapping[snps[snp_loc]]\n",
    "\n",
    "    return snps\n",
    "\n",
    "class EmbryoSequenceSimulator:\n",
    "    def __init__(self, input_df, n_embryos):\n",
    "        \n",
    "        # pd data frame\n",
    "        self.input_df = input_df # cols: gene,chromosome,start,end,direction,sequence\n",
    "        self.n_embryos = n_embryos\n",
    "        \n",
    "        # Number of cells that can be harvested from embryo\n",
    "        self.avg_harvested_cells = 20\n",
    "        self.sd_harvested_cells = 3\n",
    "        self.alphabet = {\"A\":0, \"C\":1, \"G\":2, \"T\":3}\n",
    "        \n",
    "        # Global parental chromatid maps\n",
    "        self.m0_chromatid = None\n",
    "        self.m1_chromatid = None\n",
    "        self.p0_chromatid = None\n",
    "        self.p1_chromatid = None\n",
    "        \n",
    "    def global_seeding(self, heterozygosity):\n",
    "        \"\"\"\n",
    "        Uniform seeding of SNP locations for each gene with frequency according to heterozygosity.\n",
    "        Parental chromatid seeding (2 chromatids from mother, 2 chromatids from father)\n",
    "        \"\"\"\n",
    "        \n",
    "        # All the SNPs present in the parents\n",
    "        snp_map_overall = None\n",
    "        \n",
    "        # Setting parental chromatid maps\n",
    "        for parent in [\"m0\",\"m1\",\"p0\",\"p1\"]:\n",
    "            \n",
    "            # Create a profile of SNPs for each parent chromosome\n",
    "            snp_map = defaultdict(dict)\n",
    "            sequence_map = defaultdict(dict)\n",
    "            \n",
    "            for idx,transcript_entry in self.input_df.iterrows():\n",
    "                gene,chrom,start,end,direction,sequence = transcript_entry\n",
    "                N = len(sequence)\n",
    "                num_snps = round(N*heterozygosity)\n",
    "                snp_positions = list(np.sort(random.sample(range(N),num_snps)))\n",
    "                snp_map[chrom][gene] = snp_positions\n",
    "                sequence_map[chrom][gene] = sequence\n",
    "                \n",
    "            # Add the snp map we just made to the global collection of SNPs\n",
    "            if snp_map_overall is None:\n",
    "                snp_map_overall = snp_map\n",
    "            else:\n",
    "                for idx,transcript_entry in self.input_df.iterrows():\n",
    "                    gene,chrom,start,end,direction,sequence = transcript_entry\n",
    "                    snp_map_overall[chrom][gene].extend(snp_map[chrom][gene])\n",
    "            \n",
    "            chromatid = defaultdict(dict)\n",
    "            # If we have a SNP, this is the probability of going reference to \n",
    "            transition_probs = np.array([[0, 1/3, 1/3, 1/3],\n",
    "                                         [1/3, 0, 1/3, 1/3],\n",
    "                                         [1/3, 1/3, 0, 1/3],\n",
    "                                         [1/3, 1/3, 1/3, 0]])\n",
    "            \n",
    "            for chrom,genes in snp_map.items():            \n",
    "                for gene,snp_positions in genes.items():\n",
    "                    sequence_list = [char for char in sequence_map[chrom][gene]]\n",
    "                    snp_profile = {locus:np.random.choice(list(self.alphabet.keys()), \n",
    "                                                          p=transition_probs[alphabet[sequence_list[locus]]]) for locus in snp_positions}\n",
    "                    \n",
    "                    for locus,char in snp_profile.items():\n",
    "                        sequence_list[locus] = char\n",
    "                    \n",
    "                    chromatid[chrom][gene] = \"\".join(sequence_list)\n",
    "                \n",
    "            # Assign seeded parental chromatid to its class field (global over all embryos)\n",
    "            if parent == \"m0\":\n",
    "                self.m0_chromatid = chromatid\n",
    "            elif parent == \"m1\":\n",
    "                self.m1_chromatid = chromatid\n",
    "            elif parent == \"p0\":\n",
    "                self.p0_chromatid = chromatid\n",
    "            elif parent == \"p1\":\n",
    "                self.p1_chromatid = chromatid\n",
    "                \n",
    "        return snp_map_overall\n",
    "    \n",
    "    def embryo_population_simulation(self, count_df=None):\n",
    "        \"\"\"\n",
    "        Simulating SNP profile for each embryo across all transcript entries in input_df.\n",
    "        For this simulator, not explicitly generating scRNA-seq reads for each embryo (reduces space)\n",
    "        \"\"\"\n",
    "\n",
    "        # map: idx of transcript entry -> list of snp positions\n",
    "        snp_map = self.global_seeding(heterozygosity)\n",
    "        true_clusters = []\n",
    "        cluster_label = 0\n",
    "        \n",
    "        population_profile = [] # The variant calls for the cells\n",
    "        \n",
    "        p = Pool(NUM_PROC)\n",
    "        \n",
    "        for embryo in range(self.n_embryos):\n",
    "            \n",
    "            # Each entry a list of genotypes for an embryo across all transcripts\n",
    "            snp_profile,gene_locus_map = self.determine_embryo_genotype(snp_map)\n",
    "\n",
    "            # Harvest some number of cells, which will theoretically have identical SNP profiles\n",
    "            n_harvested_cells = round(np.random.normal(self.avg_harvested_cells,self.sd_harvested_cells))\n",
    "            \n",
    "            # Parallelize making the cells\n",
    "            new_cells = list(tqdm(p.imap(sample_dropout_profile, \n",
    "                                    zip([snp_profile]*n_harvested_cells, \n",
    "                                        [gene_locus_map]*n_harvested_cells)), \n",
    "                                  total=n_harvested_cells, desc=f'Embryo {embryo}'))\n",
    "                \n",
    "            population_profile.extend(new_cells)\n",
    "\n",
    "            \n",
    "            # Mark the cluster of the cells we just created\n",
    "            for _ in range(n_harvested_cells):\n",
    "                true_clusters.append(cluster_label)\n",
    "            \n",
    "            cluster_label += 1\n",
    "            \n",
    "        p.close()\n",
    "                \n",
    "        return np.array(population_profile),true_clusters, gene_locus_map\n",
    "        \n",
    "    \n",
    "    def determine_embryo_genotype(self, snp_map):\n",
    "        \"\"\"\n",
    "        Simulate array containing genotypes over all transcripts \n",
    "        (concatenated into single list)\n",
    "        \"\"\"\n",
    "                \n",
    "        # state (genotype) across all transcripts\n",
    "        snp_genotypes,idx = [],0\n",
    "        gene_locus_map = defaultdict(list)\n",
    "                \n",
    "        # map: idx of transcript entry -> sequence after homologous recombination\n",
    "        m_chromatid,p_chromatid = self.simulate_embryo_sequence()\n",
    "        for chrom,genes in snp_map.items():\n",
    "            for gene,snp_positions in genes.items():                \n",
    "                m_sequence = m_chromatid[chrom][gene]\n",
    "                p_sequence = p_chromatid[chrom][gene]\n",
    "                for locus in snp_positions:\n",
    "                    snp_genotype = \"\".join([m_sequence[locus],p_sequence[locus]])\n",
    "                    snp_genotypes.append(genotypes_internal[snp_genotype])\n",
    "                    gene_locus_map[gene].append(idx)\n",
    "                    idx += 1\n",
    "                \n",
    "        return snp_genotypes,gene_locus_map\n",
    "                \n",
    "    def simulate_embryo_sequence(self):\n",
    "        \"\"\"\n",
    "        Given seeded parental chromatids and a map of SNP locations for each transcript,\n",
    "        simulate embryo sequences\n",
    "        \"\"\"\n",
    "        \n",
    "        updated_m0,updated_m1 = defaultdict(dict),defaultdict(dict)\n",
    "        updated_p0,updated_p1 = defaultdict(dict),defaultdict(dict)\n",
    "        \n",
    "        for parent in [\"mother\",\"father\"]:\n",
    "            \n",
    "            # Consider homologous recombination with respect to each chromosome\n",
    "            for chr_num in np.sort(np.unique(df[\"chromosome\"])):\n",
    "                \n",
    "                # Subset df for specific chr, sorted by start position \n",
    "                chr_df = self.input_df[self.input_df[\"chromosome\"] == chr_num].sort_values(by=[\"start\"])\n",
    "                \n",
    "                # Chiasma point chosen over range of transcripts reads\n",
    "                transcript_range = range(chr_df[\"start\"].iloc[0], chr_df[\"start\"].iloc[-1]+len(chr_df[\"sequence\"].iloc[-1])) \n",
    "                chiasma = random.choice(transcript_range)\n",
    "                chiasma_flag = 1 # 1 means chiasma has not been reached; 0 means passed chiasma\n",
    "                for idx,transcript_entry in chr_df.iterrows():\n",
    "                    if parent == \"mother\":\n",
    "                        chiasma_flag = self.homologous_recombination(\n",
    "                            transcript_entry = transcript_entry,\n",
    "                            updated_c0 = updated_m0,\n",
    "                            updated_c1 = updated_m1,\n",
    "                            c0 = self.m0_chromatid,\n",
    "                            c1 = self.m1_chromatid,\n",
    "                            chiasma = chiasma,\n",
    "                            flag = chiasma_flag\n",
    "                        )\n",
    "                    else:\n",
    "                        chiasma_flag = self.homologous_recombination(\n",
    "                            transcript_entry = transcript_entry,\n",
    "                            updated_c0 = updated_p0,\n",
    "                            updated_c1 = updated_p1,\n",
    "                            c0 = self.p0_chromatid,\n",
    "                            c1 = self.p1_chromatid,\n",
    "                            chiasma = chiasma,\n",
    "                            flag = chiasma_flag\n",
    "                        )\n",
    "\n",
    "        m_chromatid = self.chromosome_inheritance(updated_m0, updated_m1)\n",
    "        p_chromatid = self.chromosome_inheritance(updated_p0, updated_p1)\n",
    "        \n",
    "        return m_chromatid,p_chromatid\n",
    "    \n",
    "    def homologous_recombination(self,transcript_entry,updated_c0,updated_c1,c0,c1,chiasma,flag):\n",
    "        \"\"\"\n",
    "        for a given transcript entry, simulate process of homologous recombination, given\n",
    "        a uniformly selected chiasma point. \n",
    "        \"\"\"\n",
    "        \n",
    "        gene,chrom,start,end,direction,sequence = transcript_entry\n",
    "        \n",
    "        # 1 means chiasma has not been reached; 0 means passed chiasma\n",
    "        if flag <= start and flag == 1:\n",
    "            flag = 0\n",
    "            \n",
    "            # Case where chiasma point lies within a gene\n",
    "            if chiasma in range(start,start+len(sequence)):\n",
    "                updated_c0[chrom][gene] = c0[chrom][gene][:chiasma]+c1[chrom][gene][chiasma:]\n",
    "                updated_c1[chrom][gene] = c1[chrom][gene][:chiasma]+c0[chrom][gene][chiasma:]\n",
    "                return flag\n",
    "\n",
    "        if flag == 1: # Before chiasma point has been reached\n",
    "            updated_c0[chrom][gene] = c0[chrom][gene]\n",
    "            updated_c1[chrom][gene] = c1[chrom][gene]\n",
    "        else: # After chiasma point has been reached\n",
    "            updated_c0[chrom][gene] = c1[chrom][gene]\n",
    "            updated_c1[chrom][gene] = c0[chrom][gene]\n",
    "        \n",
    "        return flag\n",
    "    \n",
    "    def chromosome_inheritance(self,c0,c1):\n",
    "        \"\"\"\n",
    "        Given homologous chromosomes, randomly select one to be inherited by embryo\n",
    "        \"\"\"\n",
    "        \n",
    "        chromatid = defaultdict(dict)\n",
    "        for chrom in c0:\n",
    "            chromatid[chrom] = c0[chrom] if random.random() <= 0.5 else c1[chrom]\n",
    "        \n",
    "        return chromatid\n",
    "                  \n",
    "    "
   ]
  },
  {
   "cell_type": "code",
   "execution_count": 13,
   "id": "mediterranean-ireland",
   "metadata": {
    "ExecuteTime": {
     "end_time": "2022-09-08T04:42:54.579391Z",
     "start_time": "2022-09-08T04:42:54.575567Z"
    }
   },
   "outputs": [],
   "source": [
    "n_embryos = 10\n",
    "NUM_PROC = 10"
   ]
  },
  {
   "cell_type": "code",
   "execution_count": 6,
   "id": "according-circular",
   "metadata": {
    "ExecuteTime": {
     "end_time": "2022-09-08T04:38:30.150866Z",
     "start_time": "2022-09-08T04:37:57.990281Z"
    }
   },
   "outputs": [],
   "source": [
    "df = pd.read_csv(INPUT_PATH)\n",
    "df = df.dropna()\n",
    "\n",
    "count_df = pd.read_csv(COUNTS_PATH)\n",
    "count_df = count_df[count_df[\"Lv_name\"] != \"LVA_m28240.t1\"]"
   ]
  },
  {
   "cell_type": "code",
   "execution_count": 7,
   "id": "distributed-briefing",
   "metadata": {
    "ExecuteTime": {
     "end_time": "2022-09-08T04:39:23.866256Z",
     "start_time": "2022-09-08T04:38:30.153123Z"
    }
   },
   "outputs": [
    {
     "data": {
      "application/vnd.jupyter.widget-view+json": {
       "model_id": "760759f4c1c34431a8856a9210614f99",
       "version_major": 2,
       "version_minor": 0
      },
      "text/plain": [
       "  0%|          | 0/29836 [00:00<?, ?it/s]"
      ]
     },
     "metadata": {},
     "output_type": "display_data"
    }
   ],
   "source": [
    "# Dowsample all sequences to max 150 bp\n",
    "for ind in tqdm(df.index):\n",
    "    start = df.loc[ind, 'start']\n",
    "    end = df.loc[ind, 'end']\n",
    "    sequence = df.loc[ind, 'sequence']\n",
    "    \n",
    "    # If a sequence is longer than 150, trim it\n",
    "    if np.absolute(end-start) > 150:\n",
    "        df.loc[ind, 'end'] = start + 150\n",
    "        df.loc[ind, 'sequence'] = sequence[:150]"
   ]
  },
  {
   "cell_type": "code",
   "execution_count": 14,
   "id": "bound-cruise",
   "metadata": {
    "ExecuteTime": {
     "end_time": "2022-09-08T04:45:06.751203Z",
     "start_time": "2022-09-08T04:42:59.674521Z"
    },
    "scrolled": false
   },
   "outputs": [
    {
     "data": {
      "application/vnd.jupyter.widget-view+json": {
       "model_id": "655c24d230964b2082136d4212d6894d",
       "version_major": 2,
       "version_minor": 0
      },
      "text/plain": [
       "Embryo 0:   0%|          | 0/20 [00:00<?, ?it/s]"
      ]
     },
     "metadata": {},
     "output_type": "display_data"
    },
    {
     "data": {
      "application/vnd.jupyter.widget-view+json": {
       "model_id": "137c2382db734edda007eb5d055c961f",
       "version_major": 2,
       "version_minor": 0
      },
      "text/plain": [
       "Embryo 1:   0%|          | 0/22 [00:00<?, ?it/s]"
      ]
     },
     "metadata": {},
     "output_type": "display_data"
    },
    {
     "data": {
      "application/vnd.jupyter.widget-view+json": {
       "model_id": "dd82c2153fe7418a8ca82df2a25ff8b2",
       "version_major": 2,
       "version_minor": 0
      },
      "text/plain": [
       "Embryo 2:   0%|          | 0/23 [00:00<?, ?it/s]"
      ]
     },
     "metadata": {},
     "output_type": "display_data"
    },
    {
     "data": {
      "application/vnd.jupyter.widget-view+json": {
       "model_id": "ad3607371b94452ab879abfe2cbf89f6",
       "version_major": 2,
       "version_minor": 0
      },
      "text/plain": [
       "Embryo 3:   0%|          | 0/17 [00:00<?, ?it/s]"
      ]
     },
     "metadata": {},
     "output_type": "display_data"
    },
    {
     "data": {
      "application/vnd.jupyter.widget-view+json": {
       "model_id": "a1bd9234d8ab4b5e9b6c25cc43fc93aa",
       "version_major": 2,
       "version_minor": 0
      },
      "text/plain": [
       "Embryo 4:   0%|          | 0/21 [00:00<?, ?it/s]"
      ]
     },
     "metadata": {},
     "output_type": "display_data"
    },
    {
     "data": {
      "application/vnd.jupyter.widget-view+json": {
       "model_id": "93372445cfb2459ab6fab8fb4b458e13",
       "version_major": 2,
       "version_minor": 0
      },
      "text/plain": [
       "Embryo 5:   0%|          | 0/22 [00:00<?, ?it/s]"
      ]
     },
     "metadata": {},
     "output_type": "display_data"
    },
    {
     "data": {
      "application/vnd.jupyter.widget-view+json": {
       "model_id": "07327c633f434c02bfda0be69e22aff2",
       "version_major": 2,
       "version_minor": 0
      },
      "text/plain": [
       "Embryo 6:   0%|          | 0/17 [00:00<?, ?it/s]"
      ]
     },
     "metadata": {},
     "output_type": "display_data"
    },
    {
     "data": {
      "application/vnd.jupyter.widget-view+json": {
       "model_id": "be3661989a8f432791fba2c33aaeffac",
       "version_major": 2,
       "version_minor": 0
      },
      "text/plain": [
       "Embryo 7:   0%|          | 0/21 [00:00<?, ?it/s]"
      ]
     },
     "metadata": {},
     "output_type": "display_data"
    },
    {
     "data": {
      "application/vnd.jupyter.widget-view+json": {
       "model_id": "5d815f2a3858457f86b7182276592bf1",
       "version_major": 2,
       "version_minor": 0
      },
      "text/plain": [
       "Embryo 8:   0%|          | 0/20 [00:00<?, ?it/s]"
      ]
     },
     "metadata": {},
     "output_type": "display_data"
    },
    {
     "data": {
      "application/vnd.jupyter.widget-view+json": {
       "model_id": "3fe441e615214b2fa9aec53ffde04077",
       "version_major": 2,
       "version_minor": 0
      },
      "text/plain": [
       "Embryo 9:   0%|          | 0/19 [00:00<?, ?it/s]"
      ]
     },
     "metadata": {},
     "output_type": "display_data"
    },
    {
     "name": "stdout",
     "output_type": "stream",
     "text": [
      "(202, 0)\n",
      "[]\n"
     ]
    }
   ],
   "source": [
    "simulator = EmbryoSequenceSimulator(df, n_embryos)\n",
    "X,true_clusters,gene_locus_map = simulator.embryo_population_simulation(count_df)\n",
    "print(X.shape)\n",
    "print(X)"
   ]
  },
  {
   "cell_type": "code",
   "execution_count": 9,
   "id": "elder-definition",
   "metadata": {
    "ExecuteTime": {
     "end_time": "2022-09-08T04:41:44.861530Z",
     "start_time": "2022-09-08T04:41:43.649685Z"
    }
   },
   "outputs": [
    {
     "data": {
      "application/vnd.jupyter.widget-view+json": {
       "model_id": "97c268b5d6334d3fa2765dfeb765cade",
       "version_major": 2,
       "version_minor": 0
      },
      "text/plain": [
       "  0%|          | 0/207 [00:00<?, ?it/s]"
      ]
     },
     "metadata": {},
     "output_type": "display_data"
    }
   ],
   "source": [
    "n = X.shape[0]\n",
    "\n",
    "def adjustedHamming(g0, g1):\n",
    "# Computes a hamming distance normalized by where we have\n",
    "# data. ie. entries are not -1.\n",
    "    if len(g0) != len(g1):\n",
    "        raise ValueError(\"Sequence lengths unequal.\")\n",
    "    else:\n",
    "        hd,adjlen = 0, 0\n",
    "        for i, j in zip(g0, g1):\n",
    "            if i == -1 or j == -1: \n",
    "                continue\n",
    "            \n",
    "            adjlen += 1\n",
    "            \n",
    "            if i != j: \n",
    "                hd += 1\n",
    "                \n",
    "        if adjlen == 0:\n",
    "            return np.inf\n",
    "        else:\n",
    "            return hd/adjlen\n",
    "\n",
    "def compute_row_ham_dists(i):\n",
    "# Compute a row of hamming dists\n",
    "    row_hd = np.zeros(n-i)\n",
    "    \n",
    "    for j in range(i, n):\n",
    "        hd = adjustedHamming(X[i,:], X[j,:])\n",
    "        row_hd[j-i] = hd\n",
    "        \n",
    "    return row_hd\n",
    "\n",
    "\n",
    "with Pool(NUM_PROC) as p:\n",
    "    ham_dists = list(tqdm(p.imap(compute_row_ham_dists, range(n)), total=n))\n",
    "\n",
    "hd = np.zeros((n, n))\n",
    "\n",
    "for i in range(n):\n",
    "    hd[i, i:] = ham_dists[i]\n",
    "\n",
    "hd = hd + hd.T"
   ]
  },
  {
   "cell_type": "code",
   "execution_count": 10,
   "id": "significant-portsmouth",
   "metadata": {
    "ExecuteTime": {
     "end_time": "2022-09-08T04:41:45.123045Z",
     "start_time": "2022-09-08T04:41:44.864007Z"
    }
   },
   "outputs": [
    {
     "data": {
      "image/png": "[encoded data removed]",
      "text/plain": [
       "<Figure size 648x504 with 2 Axes>"
      ]
     },
     "metadata": {
      "needs_background": "light"
     },
     "output_type": "display_data"
    }
   ],
   "source": [
    "fig,ax = plt.subplots(figsize=(9,7))\n",
    "h1 = ax.imshow(hd, aspect='auto')\n",
    "fig.colorbar(h1, ax=ax)\n",
    "plt.show()"
   ]
  },
  {
   "cell_type": "code",
   "execution_count": 11,
   "id": "environmental-wallace",
   "metadata": {
    "ExecuteTime": {
     "end_time": "2022-09-08T04:41:45.470629Z",
     "start_time": "2022-09-08T04:41:45.124883Z"
    }
   },
   "outputs": [
    {
     "ename": "ValueError",
     "evalue": "Input contains NaN, infinity or a value too large for dtype('float64').",
     "output_type": "error",
     "traceback": [
      "\u001b[0;31m---------------------------------------------------------------------------\u001b[0m",
      "\u001b[0;31mValueError\u001b[0m                                Traceback (most recent call last)",
      "\u001b[0;32m<ipython-input-11-6980d89c75ed>\u001b[0m in \u001b[0;36m<module>\u001b[0;34m\u001b[0m\n\u001b[0;32m----> 1\u001b[0;31m \u001b[0mclusters\u001b[0m \u001b[0;34m=\u001b[0m \u001b[0mSpectralClustering\u001b[0m\u001b[0;34m(\u001b[0m\u001b[0mn_clusters\u001b[0m\u001b[0;34m=\u001b[0m\u001b[0mn_embryos\u001b[0m\u001b[0;34m,\u001b[0m\u001b[0massign_labels\u001b[0m\u001b[0;34m=\u001b[0m\u001b[0;34m\"discretize\"\u001b[0m\u001b[0;34m)\u001b[0m\u001b[0;34m.\u001b[0m\u001b[0mfit\u001b[0m\u001b[0;34m(\u001b[0m\u001b[0mhd\u001b[0m\u001b[0;34m)\u001b[0m\u001b[0;34m\u001b[0m\u001b[0;34m\u001b[0m\u001b[0m\n\u001b[0m\u001b[1;32m      2\u001b[0m \u001b[0mprint\u001b[0m\u001b[0;34m(\u001b[0m\u001b[0mclusters\u001b[0m\u001b[0;34m.\u001b[0m\u001b[0mlabels_\u001b[0m\u001b[0;34m)\u001b[0m\u001b[0;34m\u001b[0m\u001b[0;34m\u001b[0m\u001b[0m\n",
      "\u001b[0;32m/mnt/geofflab/jupyterhub/anaconda3/lib/python3.7/site-packages/sklearn/cluster/_spectral.py\u001b[0m in \u001b[0;36mfit\u001b[0;34m(self, X, y)\u001b[0m\n\u001b[1;32m    478\u001b[0m         \"\"\"\n\u001b[1;32m    479\u001b[0m         X = self._validate_data(X, accept_sparse=['csr', 'csc', 'coo'],\n\u001b[0;32m--> 480\u001b[0;31m                                 dtype=np.float64, ensure_min_samples=2)\n\u001b[0m\u001b[1;32m    481\u001b[0m         allow_squared = self.affinity in [\"precomputed\",\n\u001b[1;32m    482\u001b[0m                                           \"precomputed_nearest_neighbors\"]\n",
      "\u001b[0;32m/mnt/geofflab/jupyterhub/anaconda3/lib/python3.7/site-packages/sklearn/base.py\u001b[0m in \u001b[0;36m_validate_data\u001b[0;34m(self, X, y, reset, validate_separately, **check_params)\u001b[0m\n\u001b[1;32m    418\u001b[0m                     \u001b[0;34mf\"requires y to be passed, but the target y is None.\"\u001b[0m\u001b[0;34m\u001b[0m\u001b[0;34m\u001b[0m\u001b[0m\n\u001b[1;32m    419\u001b[0m                 )\n\u001b[0;32m--> 420\u001b[0;31m             \u001b[0mX\u001b[0m \u001b[0;34m=\u001b[0m \u001b[0mcheck_array\u001b[0m\u001b[0;34m(\u001b[0m\u001b[0mX\u001b[0m\u001b[0;34m,\u001b[0m \u001b[0;34m**\u001b[0m\u001b[0mcheck_params\u001b[0m\u001b[0;34m)\u001b[0m\u001b[0;34m\u001b[0m\u001b[0;34m\u001b[0m\u001b[0m\n\u001b[0m\u001b[1;32m    421\u001b[0m             \u001b[0mout\u001b[0m \u001b[0;34m=\u001b[0m \u001b[0mX\u001b[0m\u001b[0;34m\u001b[0m\u001b[0;34m\u001b[0m\u001b[0m\n\u001b[1;32m    422\u001b[0m         \u001b[0;32melse\u001b[0m\u001b[0;34m:\u001b[0m\u001b[0;34m\u001b[0m\u001b[0;34m\u001b[0m\u001b[0m\n",
      "\u001b[0;32m/mnt/geofflab/jupyterhub/anaconda3/lib/python3.7/site-packages/sklearn/utils/validation.py\u001b[0m in \u001b[0;36minner_f\u001b[0;34m(*args, **kwargs)\u001b[0m\n\u001b[1;32m     70\u001b[0m                           FutureWarning)\n\u001b[1;32m     71\u001b[0m         \u001b[0mkwargs\u001b[0m\u001b[0;34m.\u001b[0m\u001b[0mupdate\u001b[0m\u001b[0;34m(\u001b[0m\u001b[0;34m{\u001b[0m\u001b[0mk\u001b[0m\u001b[0;34m:\u001b[0m \u001b[0marg\u001b[0m \u001b[0;32mfor\u001b[0m \u001b[0mk\u001b[0m\u001b[0;34m,\u001b[0m \u001b[0marg\u001b[0m \u001b[0;32min\u001b[0m \u001b[0mzip\u001b[0m\u001b[0;34m(\u001b[0m\u001b[0msig\u001b[0m\u001b[0;34m.\u001b[0m\u001b[0mparameters\u001b[0m\u001b[0;34m,\u001b[0m \u001b[0margs\u001b[0m\u001b[0;34m)\u001b[0m\u001b[0;34m}\u001b[0m\u001b[0;34m)\u001b[0m\u001b[0;34m\u001b[0m\u001b[0;34m\u001b[0m\u001b[0m\n\u001b[0;32m---> 72\u001b[0;31m         \u001b[0;32mreturn\u001b[0m \u001b[0mf\u001b[0m\u001b[0;34m(\u001b[0m\u001b[0;34m**\u001b[0m\u001b[0mkwargs\u001b[0m\u001b[0;34m)\u001b[0m\u001b[0;34m\u001b[0m\u001b[0;34m\u001b[0m\u001b[0m\n\u001b[0m\u001b[1;32m     73\u001b[0m     \u001b[0;32mreturn\u001b[0m \u001b[0minner_f\u001b[0m\u001b[0;34m\u001b[0m\u001b[0;34m\u001b[0m\u001b[0m\n\u001b[1;32m     74\u001b[0m \u001b[0;34m\u001b[0m\u001b[0m\n",
      "\u001b[0;32m/mnt/geofflab/jupyterhub/anaconda3/lib/python3.7/site-packages/sklearn/utils/validation.py\u001b[0m in \u001b[0;36mcheck_array\u001b[0;34m(array, accept_sparse, accept_large_sparse, dtype, order, copy, force_all_finite, ensure_2d, allow_nd, ensure_min_samples, ensure_min_features, estimator)\u001b[0m\n\u001b[1;32m    643\u001b[0m         \u001b[0;32mif\u001b[0m \u001b[0mforce_all_finite\u001b[0m\u001b[0;34m:\u001b[0m\u001b[0;34m\u001b[0m\u001b[0;34m\u001b[0m\u001b[0m\n\u001b[1;32m    644\u001b[0m             _assert_all_finite(array,\n\u001b[0;32m--> 645\u001b[0;31m                                allow_nan=force_all_finite == 'allow-nan')\n\u001b[0m\u001b[1;32m    646\u001b[0m \u001b[0;34m\u001b[0m\u001b[0m\n\u001b[1;32m    647\u001b[0m     \u001b[0;32mif\u001b[0m \u001b[0mensure_min_samples\u001b[0m \u001b[0;34m>\u001b[0m \u001b[0;36m0\u001b[0m\u001b[0;34m:\u001b[0m\u001b[0;34m\u001b[0m\u001b[0;34m\u001b[0m\u001b[0m\n",
      "\u001b[0;32m/mnt/geofflab/jupyterhub/anaconda3/lib/python3.7/site-packages/sklearn/utils/validation.py\u001b[0m in \u001b[0;36m_assert_all_finite\u001b[0;34m(X, allow_nan, msg_dtype)\u001b[0m\n\u001b[1;32m     97\u001b[0m                     \u001b[0mmsg_err\u001b[0m\u001b[0;34m.\u001b[0m\u001b[0mformat\u001b[0m\u001b[0;34m\u001b[0m\u001b[0;34m\u001b[0m\u001b[0m\n\u001b[1;32m     98\u001b[0m                     (type_err,\n\u001b[0;32m---> 99\u001b[0;31m                      msg_dtype if msg_dtype is not None else X.dtype)\n\u001b[0m\u001b[1;32m    100\u001b[0m             )\n\u001b[1;32m    101\u001b[0m     \u001b[0;31m# for object dtype data, we only check for NaNs (GH-13254)\u001b[0m\u001b[0;34m\u001b[0m\u001b[0;34m\u001b[0m\u001b[0;34m\u001b[0m\u001b[0m\n",
      "\u001b[0;31mValueError\u001b[0m: Input contains NaN, infinity or a value too large for dtype('float64')."
     ]
    }
   ],
   "source": [
    "clusters = SpectralClustering(n_clusters=n_embryos,assign_labels=\"discretize\").fit(hd)\n",
    "print(clusters.labels_)"
   ]
  },
  {
   "cell_type": "code",
   "execution_count": null,
   "id": "equipped-tribute",
   "metadata": {
    "ExecuteTime": {
     "end_time": "2022-09-08T04:41:45.472760Z",
     "start_time": "2022-09-08T04:37:54.974Z"
    }
   },
   "outputs": [],
   "source": [
    "print(adjusted_rand_score(true_clusters,clusters.labels_))"
   ]
  },
  {
   "cell_type": "code",
   "execution_count": null,
   "id": "equal-cliff",
   "metadata": {},
   "outputs": [],
   "source": []
  }
 ],
 "metadata": {
  "hide_input": false,
  "kernelspec": {
   "display_name": "Python 3",
   "language": "python",
   "name": "python3"
  }
 },
 "nbformat": 4,
 "nbformat_minor": 5
}
