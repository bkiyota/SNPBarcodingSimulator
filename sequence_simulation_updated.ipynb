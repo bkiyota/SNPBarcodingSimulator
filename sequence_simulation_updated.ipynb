{
 "cells": [
  {
   "cell_type": "code",
   "execution_count": 1,
   "id": "mighty-mobile",
   "metadata": {
    "ExecuteTime": {
     "end_time": "2022-09-08T04:53:21.141521Z",
     "start_time": "2022-09-08T04:53:19.482299Z"
    }
   },
   "outputs": [],
   "source": [
    "import numpy as np\n",
    "# import scipy.stats as ss\n",
    "# from scipy.spatial import distance_matrix\n",
    "import random\n",
    "import matplotlib.pyplot as plt\n",
    "import pandas as pd\n",
    "from sklearn.cluster import SpectralClustering\n",
    "from sklearn.metrics.cluster import adjusted_rand_score\n",
    "from tqdm.notebook import tqdm\n",
    "from collections import defaultdict\n",
    "from multiprocessing import Pool"
   ]
  },
  {
   "cell_type": "code",
   "execution_count": 2,
   "id": "spoken-stylus",
   "metadata": {
    "ExecuteTime": {
     "end_time": "2022-09-08T04:53:21.145912Z",
     "start_time": "2022-09-08T04:53:21.143654Z"
    }
   },
   "outputs": [],
   "source": [
    "INPUT_PATH=\"/mnt/geofflab/SNP_barcoding/Lvar_annotations_v3_Jan2021/transcripts.csv\"\n",
    "COUNTS_PATH=\"/mnt/geofflab/SNP_barcoding/LV_counts_10hpf.csv\""
   ]
  },
  {
   "cell_type": "code",
   "execution_count": 3,
   "id": "dietary-minutes",
   "metadata": {
    "ExecuteTime": {
     "end_time": "2022-09-08T04:53:21.158063Z",
     "start_time": "2022-09-08T04:53:21.147915Z"
    }
   },
   "outputs": [],
   "source": [
    "heterozygosity = 0.001 # This is the rate of SNPs per base\n",
    "alphabet = {\"A\":0, \"C\":1, \"G\":2, \"T\":3}\n",
    "\n",
    "# genotypes where chromosome order matters (used internally during generation)\n",
    "genotypes_internal = {\n",
    "    \"AA\":0, \"AC\":1, \"AG\":2, \"AT\":3, \n",
    "    \"CA\":4, \"CC\":5, \"CG\":6, \"CT\":7,\n",
    "    \"GA\":8, \"GC\":9, \"GG\":10, \"GT\":11, \n",
    "    \"TA\":12, \"TC\":13, \"TG\":14, \"TT\":15,\n",
    "}\n",
    "\n",
    "# genotypes where chromosome order doesn't matter (what we see)\n",
    "genotypes_external = {\n",
    "\"AA\":0, \"AC\":1, \"AG\":2, \"AT\":3, \n",
    "\"CA\":1, \"CC\":4, \"CG\":5, \"CT\":6,\n",
    "\"GA\":2, \"GC\":4, \"GG\":7, \"GT\":8, \n",
    "\"TA\":3, \"TC\":6, \"TG\":8, \"TT\":9,\n",
    "}"
   ]
  },
  {
   "cell_type": "code",
   "execution_count": 4,
   "id": "revolutionary-sally",
   "metadata": {
    "ExecuteTime": {
     "end_time": "2022-09-08T04:53:21.300712Z",
     "start_time": "2022-09-08T04:53:21.159797Z"
    }
   },
   "outputs": [],
   "source": [
    "def sample_dropout_profile(args):\n",
    "    \"\"\"\n",
    "    Sample a dropout profile from single-cell transcript read count df, and \n",
    "    introduce dropout over the snp_profile according to the dropout profile.\n",
    "    \"\"\"\n",
    "    global count_df\n",
    "    snps = args[0].copy()\n",
    "    loci_map = args[1]\n",
    "    \n",
    "    np.random.seed()\n",
    "    \n",
    "    # Sample a cell's counts\n",
    "    sampled_dprofile = np.random.choice(count_df.columns.tolist()[2:])\n",
    "\n",
    "    for idx,row in count_df[[\"Lv_name\",sampled_dprofile]].iterrows():\n",
    "        gene,count = row\n",
    "\n",
    "        # If we have no counts, then we have can't detect the genotype\n",
    "        if count <= 1:\n",
    "            for locus in loci_map[gene]:\n",
    "                snps[locus] = -1 # -1 genotype -> undetected\n",
    "        else:\n",
    "            # Otherwise compute the probability of only seeing one of the chromosomes, or both\n",
    "            prob_one = 0.5**count\n",
    "            prob_both = 1 - 2*prob_one\n",
    "\n",
    "            # Now choose whether we only see the first chromosome, second chromosome, or both\n",
    "            seen = np.random.choice([0, 1, 2], p=[prob_one, prob_one, prob_both])\n",
    "\n",
    "            if seen == 0:\n",
    "                # Convert internal to external genotypes on the first chromosome\n",
    "                first_mapping = {0:0, 1:0, 2:0, 3:0,\n",
    "                                 4:4, 5:4, 6:4, 7:4,\n",
    "                                 8:7, 9:7, 10:7, 11:7,\n",
    "                                 12:9, 13:9, 14:9, 15:9}\n",
    "\n",
    "                # Convert the SNP read to it's value on one of the chromosomes\n",
    "                for snp_loc in loci_map[gene]:\n",
    "                    snps[snp_loc] = first_mapping[snps[snp_loc]]\n",
    "\n",
    "            elif seen == 1:\n",
    "                # Convert internal to external genotypes on the first chromosome\n",
    "                second_mapping = {0:0, 1:4, 2:7, 3:9,\n",
    "                                 4:0, 5:4, 6:7, 7:9,\n",
    "                                 8:0, 9:4, 10:7, 11:9,\n",
    "                                 12:0, 13:4, 14:7, 15:9}\n",
    "\n",
    "                # Convert the SNP read to it's value on one of the chromosomes\n",
    "                for snp_loc in loci_map[gene]:\n",
    "                    snps[snp_loc] = second_mapping[snps[snp_loc]]\n",
    "\n",
    "            else:\n",
    "\n",
    "                # Convert internal to external genotypes on both chromosomes\n",
    "                both_mapping = {0:0, 1:1, 2:2, 3:3,\n",
    "                                 4:1, 5:4, 6:5, 7:6,\n",
    "                                 8:2, 9:4, 10:7, 11:8,\n",
    "                                 12:3, 13:6, 14:8, 15:9}\n",
    "\n",
    "                # Convert the SNP read to it's value on one of the chromosomes\n",
    "                for snp_loc in loci_map[gene]:\n",
    "                    snps[snp_loc] = both_mapping[snps[snp_loc]]\n",
    "\n",
    "    return snps\n",
    "\n",
    "class EmbryoSequenceSimulator:\n",
    "    def __init__(self, input_df, n_embryos):\n",
    "        \n",
    "        # pd data frame\n",
    "        self.input_df = input_df # cols: gene,chromosome,start,end,direction,sequence\n",
    "        self.n_embryos = n_embryos\n",
    "        \n",
    "        # Number of cells that can be harvested from embryo\n",
    "        self.avg_harvested_cells = 20\n",
    "        self.sd_harvested_cells = 3\n",
    "        self.alphabet = {\"A\":0, \"C\":1, \"G\":2, \"T\":3}\n",
    "        \n",
    "        # Global parental chromatid maps\n",
    "        self.m0_chromatid = None\n",
    "        self.m1_chromatid = None\n",
    "        self.p0_chromatid = None\n",
    "        self.p1_chromatid = None\n",
    "        \n",
    "    def global_seeding(self, heterozygosity):\n",
    "        \"\"\"\n",
    "        Uniform seeding of SNP locations for each gene with frequency according to heterozygosity.\n",
    "        Parental chromatid seeding (2 chromatids from mother, 2 chromatids from father)\n",
    "        \"\"\"\n",
    "        \n",
    "        # All the SNPs present in the parents\n",
    "        snp_map_overall = None\n",
    "        \n",
    "        # Setting parental chromatid maps\n",
    "        for parent in [\"m0\",\"m1\",\"p0\",\"p1\"]:\n",
    "            \n",
    "            # Create a profile of SNPs for each parent chromosome\n",
    "            snp_map = defaultdict(dict)\n",
    "            sequence_map = defaultdict(dict)\n",
    "            \n",
    "            for idx,transcript_entry in self.input_df.iterrows():\n",
    "                gene,chrom,start,end,direction,sequence = transcript_entry\n",
    "                N = len(sequence)\n",
    "                num_snps = np.random.binomial(N, p=heterozygosity)\n",
    "                snp_positions = list(np.sort(random.sample(range(N),num_snps)))\n",
    "                snp_map[chrom][gene] = snp_positions\n",
    "                sequence_map[chrom][gene] = sequence\n",
    "                \n",
    "            # Add the snp map we just made to the global collection of SNPs\n",
    "            if snp_map_overall is None:\n",
    "                snp_map_overall = snp_map\n",
    "            else:\n",
    "                for idx,transcript_entry in self.input_df.iterrows():\n",
    "                    gene,chrom,start,end,direction,sequence = transcript_entry\n",
    "                    snp_map_overall[chrom][gene].extend(snp_map[chrom][gene])\n",
    "            \n",
    "            chromatid = defaultdict(dict)\n",
    "            # If we have a SNP, this is the probability of going reference to \n",
    "            transition_probs = np.array([[0, 1/3, 1/3, 1/3],\n",
    "                                         [1/3, 0, 1/3, 1/3],\n",
    "                                         [1/3, 1/3, 0, 1/3],\n",
    "                                         [1/3, 1/3, 1/3, 0]])\n",
    "            \n",
    "            for chrom,genes in snp_map.items():            \n",
    "                for gene,snp_positions in genes.items():\n",
    "                    sequence_list = [char for char in sequence_map[chrom][gene]]\n",
    "                    snp_profile = {locus:np.random.choice(list(self.alphabet.keys()), \n",
    "                                                          p=transition_probs[alphabet[sequence_list[locus]]]) for locus in snp_positions}\n",
    "                    \n",
    "                    for locus,char in snp_profile.items():\n",
    "                        sequence_list[locus] = char\n",
    "                    \n",
    "                    chromatid[chrom][gene] = \"\".join(sequence_list)\n",
    "                \n",
    "            # Assign seeded parental chromatid to its class field (global over all embryos)\n",
    "            if parent == \"m0\":\n",
    "                self.m0_chromatid = chromatid\n",
    "            elif parent == \"m1\":\n",
    "                self.m1_chromatid = chromatid\n",
    "            elif parent == \"p0\":\n",
    "                self.p0_chromatid = chromatid\n",
    "            elif parent == \"p1\":\n",
    "                self.p1_chromatid = chromatid\n",
    "                \n",
    "        return snp_map_overall\n",
    "    \n",
    "    def embryo_population_simulation(self, count_df=None):\n",
    "        \"\"\"\n",
    "        Simulating SNP profile for each embryo across all transcript entries in input_df.\n",
    "        For this simulator, not explicitly generating scRNA-seq reads for each embryo (reduces space)\n",
    "        \"\"\"\n",
    "\n",
    "        # map: idx of transcript entry -> list of snp positions\n",
    "        snp_map = self.global_seeding(heterozygosity)\n",
    "        true_clusters = []\n",
    "        cluster_label = 0\n",
    "        \n",
    "        population_profile = [] # The variant calls for the cells\n",
    "        \n",
    "        p = Pool(NUM_PROC)\n",
    "        \n",
    "        for embryo in range(self.n_embryos):\n",
    "            \n",
    "            # Each entry a list of genotypes for an embryo across all transcripts\n",
    "            snp_profile,gene_locus_map = self.determine_embryo_genotype(snp_map)\n",
    "\n",
    "            # Harvest some number of cells, which will theoretically have identical SNP profiles\n",
    "            n_harvested_cells = round(np.random.normal(self.avg_harvested_cells,self.sd_harvested_cells))\n",
    "            \n",
    "            # Parallelize making the cells\n",
    "            new_cells = list(tqdm(p.imap(sample_dropout_profile, \n",
    "                                    zip([snp_profile]*n_harvested_cells, \n",
    "                                        [gene_locus_map]*n_harvested_cells)), \n",
    "                                  total=n_harvested_cells, desc=f'Embryo {embryo}'))\n",
    "                \n",
    "            population_profile.extend(new_cells)\n",
    "\n",
    "            \n",
    "            # Mark the cluster of the cells we just created\n",
    "            for _ in range(n_harvested_cells):\n",
    "                true_clusters.append(cluster_label)\n",
    "            \n",
    "            cluster_label += 1\n",
    "            \n",
    "        p.close()\n",
    "                \n",
    "        return np.array(population_profile),true_clusters, gene_locus_map\n",
    "        \n",
    "    \n",
    "    def determine_embryo_genotype(self, snp_map):\n",
    "        \"\"\"\n",
    "        Simulate array containing genotypes over all transcripts \n",
    "        (concatenated into single list)\n",
    "        \"\"\"\n",
    "                \n",
    "        # state (genotype) across all transcripts\n",
    "        snp_genotypes,idx = [],0\n",
    "        gene_locus_map = defaultdict(list)\n",
    "                \n",
    "        # map: idx of transcript entry -> sequence after homologous recombination\n",
    "        m_chromatid,p_chromatid = self.simulate_embryo_sequence()\n",
    "        for chrom,genes in snp_map.items():\n",
    "            for gene,snp_positions in genes.items():                \n",
    "                m_sequence = m_chromatid[chrom][gene]\n",
    "                p_sequence = p_chromatid[chrom][gene]\n",
    "                for locus in snp_positions:\n",
    "                    snp_genotype = \"\".join([m_sequence[locus],p_sequence[locus]])\n",
    "                    snp_genotypes.append(genotypes_internal[snp_genotype])\n",
    "                    gene_locus_map[gene].append(idx)\n",
    "                    idx += 1\n",
    "                \n",
    "        return snp_genotypes,gene_locus_map\n",
    "                \n",
    "    def simulate_embryo_sequence(self):\n",
    "        \"\"\"\n",
    "        Given seeded parental chromatids and a map of SNP locations for each transcript,\n",
    "        simulate embryo sequences\n",
    "        \"\"\"\n",
    "        \n",
    "        updated_m0,updated_m1 = defaultdict(dict),defaultdict(dict)\n",
    "        updated_p0,updated_p1 = defaultdict(dict),defaultdict(dict)\n",
    "        \n",
    "        for parent in [\"mother\",\"father\"]:\n",
    "            \n",
    "            # Consider homologous recombination with respect to each chromosome\n",
    "            for chr_num in np.sort(np.unique(df[\"chromosome\"])):\n",
    "                \n",
    "                # Subset df for specific chr, sorted by start position \n",
    "                chr_df = self.input_df[self.input_df[\"chromosome\"] == chr_num].sort_values(by=[\"start\"])\n",
    "                \n",
    "                # Chiasma point chosen over range of transcripts reads\n",
    "                transcript_range = range(chr_df[\"start\"].iloc[0], chr_df[\"start\"].iloc[-1]+len(chr_df[\"sequence\"].iloc[-1])) \n",
    "                chiasma = random.choice(transcript_range)\n",
    "                chiasma_flag = 1 # 1 means chiasma has not been reached; 0 means passed chiasma\n",
    "                for idx,transcript_entry in chr_df.iterrows():\n",
    "                    if parent == \"mother\":\n",
    "                        chiasma_flag = self.homologous_recombination(\n",
    "                            transcript_entry = transcript_entry,\n",
    "                            updated_c0 = updated_m0,\n",
    "                            updated_c1 = updated_m1,\n",
    "                            c0 = self.m0_chromatid,\n",
    "                            c1 = self.m1_chromatid,\n",
    "                            chiasma = chiasma,\n",
    "                            flag = chiasma_flag\n",
    "                        )\n",
    "                    else:\n",
    "                        chiasma_flag = self.homologous_recombination(\n",
    "                            transcript_entry = transcript_entry,\n",
    "                            updated_c0 = updated_p0,\n",
    "                            updated_c1 = updated_p1,\n",
    "                            c0 = self.p0_chromatid,\n",
    "                            c1 = self.p1_chromatid,\n",
    "                            chiasma = chiasma,\n",
    "                            flag = chiasma_flag\n",
    "                        )\n",
    "\n",
    "        m_chromatid = self.chromosome_inheritance(updated_m0, updated_m1)\n",
    "        p_chromatid = self.chromosome_inheritance(updated_p0, updated_p1)\n",
    "        \n",
    "        return m_chromatid,p_chromatid\n",
    "    \n",
    "    def homologous_recombination(self,transcript_entry,updated_c0,updated_c1,c0,c1,chiasma,flag):\n",
    "        \"\"\"\n",
    "        for a given transcript entry, simulate process of homologous recombination, given\n",
    "        a uniformly selected chiasma point. \n",
    "        \"\"\"\n",
    "        \n",
    "        gene,chrom,start,end,direction,sequence = transcript_entry\n",
    "        \n",
    "        # 1 means chiasma has not been reached; 0 means passed chiasma\n",
    "        if flag <= start and flag == 1:\n",
    "            flag = 0\n",
    "            \n",
    "            # Case where chiasma point lies within a gene\n",
    "            if chiasma in range(start,start+len(sequence)):\n",
    "                updated_c0[chrom][gene] = c0[chrom][gene][:chiasma]+c1[chrom][gene][chiasma:]\n",
    "                updated_c1[chrom][gene] = c1[chrom][gene][:chiasma]+c0[chrom][gene][chiasma:]\n",
    "                return flag\n",
    "\n",
    "        if flag == 1: # Before chiasma point has been reached\n",
    "            updated_c0[chrom][gene] = c0[chrom][gene]\n",
    "            updated_c1[chrom][gene] = c1[chrom][gene]\n",
    "        else: # After chiasma point has been reached\n",
    "            updated_c0[chrom][gene] = c1[chrom][gene]\n",
    "            updated_c1[chrom][gene] = c0[chrom][gene]\n",
    "        \n",
    "        return flag\n",
    "    \n",
    "    def chromosome_inheritance(self,c0,c1):\n",
    "        \"\"\"\n",
    "        Given homologous chromosomes, randomly select one to be inherited by embryo\n",
    "        \"\"\"\n",
    "        \n",
    "        chromatid = defaultdict(dict)\n",
    "        for chrom in c0:\n",
    "            chromatid[chrom] = c0[chrom] if random.random() <= 0.5 else c1[chrom]\n",
    "        \n",
    "        return chromatid\n",
    "                  \n",
    "    "
   ]
  },
  {
   "cell_type": "code",
   "execution_count": 5,
   "id": "mediterranean-ireland",
   "metadata": {
    "ExecuteTime": {
     "end_time": "2022-09-08T04:53:21.307325Z",
     "start_time": "2022-09-08T04:53:21.302539Z"
    }
   },
   "outputs": [],
   "source": [
    "n_embryos = 100\n",
    "NUM_PROC = 50"
   ]
  },
  {
   "cell_type": "code",
   "execution_count": 6,
   "id": "according-circular",
   "metadata": {
    "ExecuteTime": {
     "end_time": "2022-09-08T04:53:40.798205Z",
     "start_time": "2022-09-08T04:53:21.308633Z"
    }
   },
   "outputs": [],
   "source": [
    "df = pd.read_csv(INPUT_PATH)\n",
    "df = df.dropna()\n",
    "\n",
    "# Read the full counts without downsampling\n",
    "count_df = pd.read_csv(COUNTS_PATH)\n",
    "count_df = count_df[count_df[\"Lv_name\"] != \"LVA_m28240.t1\"]"
   ]
  },
  {
   "cell_type": "code",
   "execution_count": 7,
   "id": "distributed-briefing",
   "metadata": {
    "ExecuteTime": {
     "end_time": "2022-09-08T04:54:34.667921Z",
     "start_time": "2022-09-08T04:53:40.800335Z"
    }
   },
   "outputs": [
    {
     "data": {
      "application/vnd.jupyter.widget-view+json": {
       "model_id": "3ab035f7b1534b36a5c54e44f2ecbdc3",
       "version_major": 2,
       "version_minor": 0
      },
      "text/plain": [
       "  0%|          | 0/29836 [00:00<?, ?it/s]"
      ]
     },
     "metadata": {},
     "output_type": "display_data"
    }
   ],
   "source": [
    "# Dowsample all sequences to max 150 bp\n",
    "for ind in tqdm(df.index):\n",
    "    start = df.loc[ind, 'start']\n",
    "    end = df.loc[ind, 'end']\n",
    "    sequence = df.loc[ind, 'sequence']\n",
    "    \n",
    "    # If a sequence is longer than 150, trim it\n",
    "    if np.absolute(end-start) > 150:\n",
    "        df.loc[ind, 'end'] = start + 150\n",
    "        df.loc[ind, 'sequence'] = sequence[:150]"
   ]
  },
  {
   "cell_type": "code",
   "execution_count": null,
   "id": "bound-cruise",
   "metadata": {
    "ExecuteTime": {
     "start_time": "2022-09-08T04:53:19.704Z"
    },
    "scrolled": false
   },
   "outputs": [
    {
     "data": {
      "application/vnd.jupyter.widget-view+json": {
       "model_id": "b8bf91f7ca184cf484aa720bbc14813f",
       "version_major": 2,
       "version_minor": 0
      },
      "text/plain": [
       "Embryo 0:   0%|          | 0/23 [00:00<?, ?it/s]"
      ]
     },
     "metadata": {},
     "output_type": "display_data"
    },
    {
     "data": {
      "application/vnd.jupyter.widget-view+json": {
       "model_id": "f072fd36ba584f30ac88e71a5da3afab",
       "version_major": 2,
       "version_minor": 0
      },
      "text/plain": [
       "Embryo 1:   0%|          | 0/21 [00:00<?, ?it/s]"
      ]
     },
     "metadata": {},
     "output_type": "display_data"
    },
    {
     "data": {
      "application/vnd.jupyter.widget-view+json": {
       "model_id": "d63a519177d641a6802ecc7d71c24256",
       "version_major": 2,
       "version_minor": 0
      },
      "text/plain": [
       "Embryo 2:   0%|          | 0/22 [00:00<?, ?it/s]"
      ]
     },
     "metadata": {},
     "output_type": "display_data"
    },
    {
     "data": {
      "application/vnd.jupyter.widget-view+json": {
       "model_id": "7ab076f5c7b44280a75cf108d700bf00",
       "version_major": 2,
       "version_minor": 0
      },
      "text/plain": [
       "Embryo 3:   0%|          | 0/18 [00:00<?, ?it/s]"
      ]
     },
     "metadata": {},
     "output_type": "display_data"
    },
    {
     "data": {
      "application/vnd.jupyter.widget-view+json": {
       "model_id": "16e72650160f4c90a18ee10dfae771e2",
       "version_major": 2,
       "version_minor": 0
      },
      "text/plain": [
       "Embryo 4:   0%|          | 0/16 [00:00<?, ?it/s]"
      ]
     },
     "metadata": {},
     "output_type": "display_data"
    },
    {
     "data": {
      "application/vnd.jupyter.widget-view+json": {
       "model_id": "5b443b316bc44e368f030859e21720e0",
       "version_major": 2,
       "version_minor": 0
      },
      "text/plain": [
       "Embryo 5:   0%|          | 0/21 [00:00<?, ?it/s]"
      ]
     },
     "metadata": {},
     "output_type": "display_data"
    },
    {
     "data": {
      "application/vnd.jupyter.widget-view+json": {
       "model_id": "6accb3a1fcb146fe943f229078bd3341",
       "version_major": 2,
       "version_minor": 0
      },
      "text/plain": [
       "Embryo 6:   0%|          | 0/20 [00:00<?, ?it/s]"
      ]
     },
     "metadata": {},
     "output_type": "display_data"
    },
    {
     "data": {
      "application/vnd.jupyter.widget-view+json": {
       "model_id": "95066f7f2f684d5faa950cca9a3d94ec",
       "version_major": 2,
       "version_minor": 0
      },
      "text/plain": [
       "Embryo 7:   0%|          | 0/21 [00:00<?, ?it/s]"
      ]
     },
     "metadata": {},
     "output_type": "display_data"
    },
    {
     "data": {
      "application/vnd.jupyter.widget-view+json": {
       "model_id": "4e8a72254cb647fb90c6cb18d0ee5e5d",
       "version_major": 2,
       "version_minor": 0
      },
      "text/plain": [
       "Embryo 8:   0%|          | 0/17 [00:00<?, ?it/s]"
      ]
     },
     "metadata": {},
     "output_type": "display_data"
    },
    {
     "data": {
      "application/vnd.jupyter.widget-view+json": {
       "model_id": "974a6b7b1c834737ada935627012d82c",
       "version_major": 2,
       "version_minor": 0
      },
      "text/plain": [
       "Embryo 9:   0%|          | 0/17 [00:00<?, ?it/s]"
      ]
     },
     "metadata": {},
     "output_type": "display_data"
    },
    {
     "data": {
      "application/vnd.jupyter.widget-view+json": {
       "model_id": "3a59e0cebb46483ea3d2d1c39ea29968",
       "version_major": 2,
       "version_minor": 0
      },
      "text/plain": [
       "Embryo 10:   0%|          | 0/23 [00:00<?, ?it/s]"
      ]
     },
     "metadata": {},
     "output_type": "display_data"
    },
    {
     "data": {
      "application/vnd.jupyter.widget-view+json": {
       "model_id": "4a0dca3835cb435ab5c803be7d259424",
       "version_major": 2,
       "version_minor": 0
      },
      "text/plain": [
       "Embryo 11:   0%|          | 0/21 [00:00<?, ?it/s]"
      ]
     },
     "metadata": {},
     "output_type": "display_data"
    },
    {
     "data": {
      "application/vnd.jupyter.widget-view+json": {
       "model_id": "432adba6a0d345c7946fa59e7f6a7615",
       "version_major": 2,
       "version_minor": 0
      },
      "text/plain": [
       "Embryo 12:   0%|          | 0/23 [00:00<?, ?it/s]"
      ]
     },
     "metadata": {},
     "output_type": "display_data"
    },
    {
     "data": {
      "application/vnd.jupyter.widget-view+json": {
       "model_id": "3f660bebf9584a8e9106b0f172c2f6c5",
       "version_major": 2,
       "version_minor": 0
      },
      "text/plain": [
       "Embryo 13:   0%|          | 0/18 [00:00<?, ?it/s]"
      ]
     },
     "metadata": {},
     "output_type": "display_data"
    },
    {
     "data": {
      "application/vnd.jupyter.widget-view+json": {
       "model_id": "e995ac87c5154a2586f85535fdba6850",
       "version_major": 2,
       "version_minor": 0
      },
      "text/plain": [
       "Embryo 14:   0%|          | 0/19 [00:00<?, ?it/s]"
      ]
     },
     "metadata": {},
     "output_type": "display_data"
    },
    {
     "data": {
      "application/vnd.jupyter.widget-view+json": {
       "model_id": "108f85a9f8aa45d492407945cd2fd1c8",
       "version_major": 2,
       "version_minor": 0
      },
      "text/plain": [
       "Embryo 15:   0%|          | 0/18 [00:00<?, ?it/s]"
      ]
     },
     "metadata": {},
     "output_type": "display_data"
    },
    {
     "data": {
      "application/vnd.jupyter.widget-view+json": {
       "model_id": "241bdab7225b4fae96339cd9af43cd96",
       "version_major": 2,
       "version_minor": 0
      },
      "text/plain": [
       "Embryo 16:   0%|          | 0/24 [00:00<?, ?it/s]"
      ]
     },
     "metadata": {},
     "output_type": "display_data"
    },
    {
     "data": {
      "application/vnd.jupyter.widget-view+json": {
       "model_id": "46d8a4202db24204a8a5299410e3a8b1",
       "version_major": 2,
       "version_minor": 0
      },
      "text/plain": [
       "Embryo 17:   0%|          | 0/18 [00:00<?, ?it/s]"
      ]
     },
     "metadata": {},
     "output_type": "display_data"
    },
    {
     "data": {
      "application/vnd.jupyter.widget-view+json": {
       "model_id": "261812118aa6409a8714d87c119d48a0",
       "version_major": 2,
       "version_minor": 0
      },
      "text/plain": [
       "Embryo 18:   0%|          | 0/16 [00:00<?, ?it/s]"
      ]
     },
     "metadata": {},
     "output_type": "display_data"
    },
    {
     "data": {
      "application/vnd.jupyter.widget-view+json": {
       "model_id": "ec9c57e6c74a4ef08702a1e920c7c6b0",
       "version_major": 2,
       "version_minor": 0
      },
      "text/plain": [
       "Embryo 19:   0%|          | 0/22 [00:00<?, ?it/s]"
      ]
     },
     "metadata": {},
     "output_type": "display_data"
    },
    {
     "data": {
      "application/vnd.jupyter.widget-view+json": {
       "model_id": "84beb1bbed44463a9f01de6a08f12f71",
       "version_major": 2,
       "version_minor": 0
      },
      "text/plain": [
       "Embryo 20:   0%|          | 0/21 [00:00<?, ?it/s]"
      ]
     },
     "metadata": {},
     "output_type": "display_data"
    },
    {
     "data": {
      "application/vnd.jupyter.widget-view+json": {
       "model_id": "0f1165d695a945e59ad4fbfe5848bb6d",
       "version_major": 2,
       "version_minor": 0
      },
      "text/plain": [
       "Embryo 21:   0%|          | 0/18 [00:00<?, ?it/s]"
      ]
     },
     "metadata": {},
     "output_type": "display_data"
    },
    {
     "data": {
      "application/vnd.jupyter.widget-view+json": {
       "model_id": "f831a0e3169f492ab816482ab7abec7f",
       "version_major": 2,
       "version_minor": 0
      },
      "text/plain": [
       "Embryo 22:   0%|          | 0/23 [00:00<?, ?it/s]"
      ]
     },
     "metadata": {},
     "output_type": "display_data"
    },
    {
     "data": {
      "application/vnd.jupyter.widget-view+json": {
       "model_id": "60e0d5269ba9416d995e5cd7cae04286",
       "version_major": 2,
       "version_minor": 0
      },
      "text/plain": [
       "Embryo 23:   0%|          | 0/23 [00:00<?, ?it/s]"
      ]
     },
     "metadata": {},
     "output_type": "display_data"
    },
    {
     "data": {
      "application/vnd.jupyter.widget-view+json": {
       "model_id": "bf392a64b6e34ad3b88b242ab027c54a",
       "version_major": 2,
       "version_minor": 0
      },
      "text/plain": [
       "Embryo 24:   0%|          | 0/25 [00:00<?, ?it/s]"
      ]
     },
     "metadata": {},
     "output_type": "display_data"
    },
    {
     "data": {
      "application/vnd.jupyter.widget-view+json": {
       "model_id": "3ec3be5e4b024470b888398f57477149",
       "version_major": 2,
       "version_minor": 0
      },
      "text/plain": [
       "Embryo 25:   0%|          | 0/24 [00:00<?, ?it/s]"
      ]
     },
     "metadata": {},
     "output_type": "display_data"
    },
    {
     "data": {
      "application/vnd.jupyter.widget-view+json": {
       "model_id": "cd5e6d60b3504a778bbffae6a52147a0",
       "version_major": 2,
       "version_minor": 0
      },
      "text/plain": [
       "Embryo 26:   0%|          | 0/24 [00:00<?, ?it/s]"
      ]
     },
     "metadata": {},
     "output_type": "display_data"
    },
    {
     "data": {
      "application/vnd.jupyter.widget-view+json": {
       "model_id": "01b44a7874c14ca780389b6404e50e8c",
       "version_major": 2,
       "version_minor": 0
      },
      "text/plain": [
       "Embryo 27:   0%|          | 0/16 [00:00<?, ?it/s]"
      ]
     },
     "metadata": {},
     "output_type": "display_data"
    },
    {
     "data": {
      "application/vnd.jupyter.widget-view+json": {
       "model_id": "14a6681180c5493cb3d3391d0cea0674",
       "version_major": 2,
       "version_minor": 0
      },
      "text/plain": [
       "Embryo 28:   0%|          | 0/17 [00:00<?, ?it/s]"
      ]
     },
     "metadata": {},
     "output_type": "display_data"
    },
    {
     "data": {
      "application/vnd.jupyter.widget-view+json": {
       "model_id": "f971324fc95a4f77bf4d1b9e9639dedd",
       "version_major": 2,
       "version_minor": 0
      },
      "text/plain": [
       "Embryo 29:   0%|          | 0/18 [00:00<?, ?it/s]"
      ]
     },
     "metadata": {},
     "output_type": "display_data"
    },
    {
     "data": {
      "application/vnd.jupyter.widget-view+json": {
       "model_id": "d043c9e013794c31929267860fc8a91e",
       "version_major": 2,
       "version_minor": 0
      },
      "text/plain": [
       "Embryo 30:   0%|          | 0/17 [00:00<?, ?it/s]"
      ]
     },
     "metadata": {},
     "output_type": "display_data"
    },
    {
     "data": {
      "application/vnd.jupyter.widget-view+json": {
       "model_id": "6c150690b9104faabd490bb6488ff731",
       "version_major": 2,
       "version_minor": 0
      },
      "text/plain": [
       "Embryo 31:   0%|          | 0/20 [00:00<?, ?it/s]"
      ]
     },
     "metadata": {},
     "output_type": "display_data"
    },
    {
     "data": {
      "application/vnd.jupyter.widget-view+json": {
       "model_id": "e7e12705c221476eb02e8748bf456674",
       "version_major": 2,
       "version_minor": 0
      },
      "text/plain": [
       "Embryo 32:   0%|          | 0/24 [00:00<?, ?it/s]"
      ]
     },
     "metadata": {},
     "output_type": "display_data"
    },
    {
     "data": {
      "application/vnd.jupyter.widget-view+json": {
       "model_id": "a9b9bbcbf1f84a11805f953951d427a8",
       "version_major": 2,
       "version_minor": 0
      },
      "text/plain": [
       "Embryo 33:   0%|          | 0/21 [00:00<?, ?it/s]"
      ]
     },
     "metadata": {},
     "output_type": "display_data"
    },
    {
     "data": {
      "application/vnd.jupyter.widget-view+json": {
       "model_id": "1f7ac23c1822443a98dc5e5534255711",
       "version_major": 2,
       "version_minor": 0
      },
      "text/plain": [
       "Embryo 34:   0%|          | 0/21 [00:00<?, ?it/s]"
      ]
     },
     "metadata": {},
     "output_type": "display_data"
    },
    {
     "data": {
      "application/vnd.jupyter.widget-view+json": {
       "model_id": "74e1f0dd71fa4b349159f40a127ea010",
       "version_major": 2,
       "version_minor": 0
      },
      "text/plain": [
       "Embryo 35:   0%|          | 0/22 [00:00<?, ?it/s]"
      ]
     },
     "metadata": {},
     "output_type": "display_data"
    },
    {
     "data": {
      "application/vnd.jupyter.widget-view+json": {
       "model_id": "6dac841fffd2433b8e54fbc4bfd66d41",
       "version_major": 2,
       "version_minor": 0
      },
      "text/plain": [
       "Embryo 36:   0%|          | 0/22 [00:00<?, ?it/s]"
      ]
     },
     "metadata": {},
     "output_type": "display_data"
    },
    {
     "data": {
      "application/vnd.jupyter.widget-view+json": {
       "model_id": "a13ecb42587f46efb272554138727bda",
       "version_major": 2,
       "version_minor": 0
      },
      "text/plain": [
       "Embryo 37:   0%|          | 0/21 [00:00<?, ?it/s]"
      ]
     },
     "metadata": {},
     "output_type": "display_data"
    },
    {
     "data": {
      "application/vnd.jupyter.widget-view+json": {
       "model_id": "8f30772d96c44dfd94062a7e05946c53",
       "version_major": 2,
       "version_minor": 0
      },
      "text/plain": [
       "Embryo 38:   0%|          | 0/17 [00:00<?, ?it/s]"
      ]
     },
     "metadata": {},
     "output_type": "display_data"
    },
    {
     "data": {
      "application/vnd.jupyter.widget-view+json": {
       "model_id": "f5e8f672f90448cb87a7f35b1f6589bf",
       "version_major": 2,
       "version_minor": 0
      },
      "text/plain": [
       "Embryo 39:   0%|          | 0/21 [00:00<?, ?it/s]"
      ]
     },
     "metadata": {},
     "output_type": "display_data"
    },
    {
     "data": {
      "application/vnd.jupyter.widget-view+json": {
       "model_id": "8474fb2a2b9049088e973262831aa409",
       "version_major": 2,
       "version_minor": 0
      },
      "text/plain": [
       "Embryo 40:   0%|          | 0/19 [00:00<?, ?it/s]"
      ]
     },
     "metadata": {},
     "output_type": "display_data"
    },
    {
     "data": {
      "application/vnd.jupyter.widget-view+json": {
       "model_id": "1e488aee0e094b8d8a6b5a77ab0a7d70",
       "version_major": 2,
       "version_minor": 0
      },
      "text/plain": [
       "Embryo 41:   0%|          | 0/18 [00:00<?, ?it/s]"
      ]
     },
     "metadata": {},
     "output_type": "display_data"
    },
    {
     "data": {
      "application/vnd.jupyter.widget-view+json": {
       "model_id": "f6f34bd049e64a5f88259fe0dd6a8817",
       "version_major": 2,
       "version_minor": 0
      },
      "text/plain": [
       "Embryo 42:   0%|          | 0/21 [00:00<?, ?it/s]"
      ]
     },
     "metadata": {},
     "output_type": "display_data"
    },
    {
     "data": {
      "application/vnd.jupyter.widget-view+json": {
       "model_id": "60ce9c37cdc14dc9a05102dadbb6ffb6",
       "version_major": 2,
       "version_minor": 0
      },
      "text/plain": [
       "Embryo 43:   0%|          | 0/19 [00:00<?, ?it/s]"
      ]
     },
     "metadata": {},
     "output_type": "display_data"
    },
    {
     "data": {
      "application/vnd.jupyter.widget-view+json": {
       "model_id": "de84dd43da244186a7bcb00c40613fb6",
       "version_major": 2,
       "version_minor": 0
      },
      "text/plain": [
       "Embryo 44:   0%|          | 0/23 [00:00<?, ?it/s]"
      ]
     },
     "metadata": {},
     "output_type": "display_data"
    },
    {
     "data": {
      "application/vnd.jupyter.widget-view+json": {
       "model_id": "9d1e380e600c44e3a16c46c09c294ab1",
       "version_major": 2,
       "version_minor": 0
      },
      "text/plain": [
       "Embryo 45:   0%|          | 0/22 [00:00<?, ?it/s]"
      ]
     },
     "metadata": {},
     "output_type": "display_data"
    },
    {
     "data": {
      "application/vnd.jupyter.widget-view+json": {
       "model_id": "f4a71573487b4adeabf2b6df01a50a7c",
       "version_major": 2,
       "version_minor": 0
      },
      "text/plain": [
       "Embryo 46:   0%|          | 0/19 [00:00<?, ?it/s]"
      ]
     },
     "metadata": {},
     "output_type": "display_data"
    },
    {
     "data": {
      "application/vnd.jupyter.widget-view+json": {
       "model_id": "294a1caf99d74214a4c0a1b7ad43c782",
       "version_major": 2,
       "version_minor": 0
      },
      "text/plain": [
       "Embryo 47:   0%|          | 0/22 [00:00<?, ?it/s]"
      ]
     },
     "metadata": {},
     "output_type": "display_data"
    },
    {
     "data": {
      "application/vnd.jupyter.widget-view+json": {
       "model_id": "34866cb16ca446e4906417ff922d3940",
       "version_major": 2,
       "version_minor": 0
      },
      "text/plain": [
       "Embryo 48:   0%|          | 0/19 [00:00<?, ?it/s]"
      ]
     },
     "metadata": {},
     "output_type": "display_data"
    },
    {
     "data": {
      "application/vnd.jupyter.widget-view+json": {
       "model_id": "70c068b3087044309ee553a234b808b8",
       "version_major": 2,
       "version_minor": 0
      },
      "text/plain": [
       "Embryo 49:   0%|          | 0/23 [00:00<?, ?it/s]"
      ]
     },
     "metadata": {},
     "output_type": "display_data"
    },
    {
     "data": {
      "application/vnd.jupyter.widget-view+json": {
       "model_id": "eda939d78046449d9a6542d0b0eff99b",
       "version_major": 2,
       "version_minor": 0
      },
      "text/plain": [
       "Embryo 50:   0%|          | 0/16 [00:00<?, ?it/s]"
      ]
     },
     "metadata": {},
     "output_type": "display_data"
    },
    {
     "data": {
      "application/vnd.jupyter.widget-view+json": {
       "model_id": "004800217a9d4d8abd25adbd4ca0acd0",
       "version_major": 2,
       "version_minor": 0
      },
      "text/plain": [
       "Embryo 51:   0%|          | 0/15 [00:00<?, ?it/s]"
      ]
     },
     "metadata": {},
     "output_type": "display_data"
    },
    {
     "data": {
      "application/vnd.jupyter.widget-view+json": {
       "model_id": "e7013a0371bb492697ed338db5791345",
       "version_major": 2,
       "version_minor": 0
      },
      "text/plain": [
       "Embryo 52:   0%|          | 0/24 [00:00<?, ?it/s]"
      ]
     },
     "metadata": {},
     "output_type": "display_data"
    },
    {
     "data": {
      "application/vnd.jupyter.widget-view+json": {
       "model_id": "1e89a0ad836d46c59c391fe186b50430",
       "version_major": 2,
       "version_minor": 0
      },
      "text/plain": [
       "Embryo 53:   0%|          | 0/27 [00:00<?, ?it/s]"
      ]
     },
     "metadata": {},
     "output_type": "display_data"
    },
    {
     "data": {
      "application/vnd.jupyter.widget-view+json": {
       "model_id": "34e863d11e1744fca56913236019755d",
       "version_major": 2,
       "version_minor": 0
      },
      "text/plain": [
       "Embryo 54:   0%|          | 0/16 [00:00<?, ?it/s]"
      ]
     },
     "metadata": {},
     "output_type": "display_data"
    },
    {
     "data": {
      "application/vnd.jupyter.widget-view+json": {
       "model_id": "87cda8afb8c347e2bef6d22bf5fe674a",
       "version_major": 2,
       "version_minor": 0
      },
      "text/plain": [
       "Embryo 55:   0%|          | 0/23 [00:00<?, ?it/s]"
      ]
     },
     "metadata": {},
     "output_type": "display_data"
    },
    {
     "data": {
      "application/vnd.jupyter.widget-view+json": {
       "model_id": "ba7bd7739e004febbbc9350b1b69f3af",
       "version_major": 2,
       "version_minor": 0
      },
      "text/plain": [
       "Embryo 56:   0%|          | 0/22 [00:00<?, ?it/s]"
      ]
     },
     "metadata": {},
     "output_type": "display_data"
    },
    {
     "data": {
      "application/vnd.jupyter.widget-view+json": {
       "model_id": "d6838f384378499887cb4fcadcc3690f",
       "version_major": 2,
       "version_minor": 0
      },
      "text/plain": [
       "Embryo 57:   0%|          | 0/27 [00:00<?, ?it/s]"
      ]
     },
     "metadata": {},
     "output_type": "display_data"
    },
    {
     "data": {
      "application/vnd.jupyter.widget-view+json": {
       "model_id": "494f7ac04d6649288366c05b752cea2a",
       "version_major": 2,
       "version_minor": 0
      },
      "text/plain": [
       "Embryo 58:   0%|          | 0/14 [00:00<?, ?it/s]"
      ]
     },
     "metadata": {},
     "output_type": "display_data"
    },
    {
     "data": {
      "application/vnd.jupyter.widget-view+json": {
       "model_id": "da3e26f163cc4863912f36980428b066",
       "version_major": 2,
       "version_minor": 0
      },
      "text/plain": [
       "Embryo 59:   0%|          | 0/22 [00:00<?, ?it/s]"
      ]
     },
     "metadata": {},
     "output_type": "display_data"
    },
    {
     "data": {
      "application/vnd.jupyter.widget-view+json": {
       "model_id": "4172c92e1df44094a23306bf52c97efc",
       "version_major": 2,
       "version_minor": 0
      },
      "text/plain": [
       "Embryo 60:   0%|          | 0/17 [00:00<?, ?it/s]"
      ]
     },
     "metadata": {},
     "output_type": "display_data"
    },
    {
     "data": {
      "application/vnd.jupyter.widget-view+json": {
       "model_id": "82c4256c09164b6c94707485a80f441b",
       "version_major": 2,
       "version_minor": 0
      },
      "text/plain": [
       "Embryo 61:   0%|          | 0/15 [00:00<?, ?it/s]"
      ]
     },
     "metadata": {},
     "output_type": "display_data"
    },
    {
     "data": {
      "application/vnd.jupyter.widget-view+json": {
       "model_id": "707b6d82c54b48d0b4a2825c7f83fb52",
       "version_major": 2,
       "version_minor": 0
      },
      "text/plain": [
       "Embryo 62:   0%|          | 0/13 [00:00<?, ?it/s]"
      ]
     },
     "metadata": {},
     "output_type": "display_data"
    },
    {
     "data": {
      "application/vnd.jupyter.widget-view+json": {
       "model_id": "99f53f6c85b640e88b5d55edb1ed9cf7",
       "version_major": 2,
       "version_minor": 0
      },
      "text/plain": [
       "Embryo 63:   0%|          | 0/18 [00:00<?, ?it/s]"
      ]
     },
     "metadata": {},
     "output_type": "display_data"
    },
    {
     "data": {
      "application/vnd.jupyter.widget-view+json": {
       "model_id": "0d0c00ff16384678857d07bb3048f2c6",
       "version_major": 2,
       "version_minor": 0
      },
      "text/plain": [
       "Embryo 64:   0%|          | 0/20 [00:00<?, ?it/s]"
      ]
     },
     "metadata": {},
     "output_type": "display_data"
    },
    {
     "data": {
      "application/vnd.jupyter.widget-view+json": {
       "model_id": "39adadb6dd8944d693f2d91d7f3604d2",
       "version_major": 2,
       "version_minor": 0
      },
      "text/plain": [
       "Embryo 65:   0%|          | 0/16 [00:00<?, ?it/s]"
      ]
     },
     "metadata": {},
     "output_type": "display_data"
    },
    {
     "data": {
      "application/vnd.jupyter.widget-view+json": {
       "model_id": "d05e4b4ae5aa45eda80183f1aee27d1b",
       "version_major": 2,
       "version_minor": 0
      },
      "text/plain": [
       "Embryo 66:   0%|          | 0/14 [00:00<?, ?it/s]"
      ]
     },
     "metadata": {},
     "output_type": "display_data"
    },
    {
     "data": {
      "application/vnd.jupyter.widget-view+json": {
       "model_id": "a1aa7236633d4168b8971a76fef57d5f",
       "version_major": 2,
       "version_minor": 0
      },
      "text/plain": [
       "Embryo 67:   0%|          | 0/15 [00:00<?, ?it/s]"
      ]
     },
     "metadata": {},
     "output_type": "display_data"
    },
    {
     "data": {
      "application/vnd.jupyter.widget-view+json": {
       "model_id": "ce49d6d5421b4d5ca72998de55f86d4a",
       "version_major": 2,
       "version_minor": 0
      },
      "text/plain": [
       "Embryo 68:   0%|          | 0/20 [00:00<?, ?it/s]"
      ]
     },
     "metadata": {},
     "output_type": "display_data"
    },
    {
     "data": {
      "application/vnd.jupyter.widget-view+json": {
       "model_id": "465e7c63a23646918452c75fee56bd28",
       "version_major": 2,
       "version_minor": 0
      },
      "text/plain": [
       "Embryo 69:   0%|          | 0/18 [00:00<?, ?it/s]"
      ]
     },
     "metadata": {},
     "output_type": "display_data"
    },
    {
     "data": {
      "application/vnd.jupyter.widget-view+json": {
       "model_id": "d01e2130663546999812b30d1ded2310",
       "version_major": 2,
       "version_minor": 0
      },
      "text/plain": [
       "Embryo 70:   0%|          | 0/19 [00:00<?, ?it/s]"
      ]
     },
     "metadata": {},
     "output_type": "display_data"
    },
    {
     "data": {
      "application/vnd.jupyter.widget-view+json": {
       "model_id": "4b2f977618084d668a4059efb01d9f16",
       "version_major": 2,
       "version_minor": 0
      },
      "text/plain": [
       "Embryo 71:   0%|          | 0/22 [00:00<?, ?it/s]"
      ]
     },
     "metadata": {},
     "output_type": "display_data"
    },
    {
     "data": {
      "application/vnd.jupyter.widget-view+json": {
       "model_id": "69c8525417b7498a802ca4fb02bedc59",
       "version_major": 2,
       "version_minor": 0
      },
      "text/plain": [
       "Embryo 72:   0%|          | 0/20 [00:00<?, ?it/s]"
      ]
     },
     "metadata": {},
     "output_type": "display_data"
    },
    {
     "data": {
      "application/vnd.jupyter.widget-view+json": {
       "model_id": "575f6f51b71141748f29a98fe1bbcfd6",
       "version_major": 2,
       "version_minor": 0
      },
      "text/plain": [
       "Embryo 73:   0%|          | 0/23 [00:00<?, ?it/s]"
      ]
     },
     "metadata": {},
     "output_type": "display_data"
    },
    {
     "data": {
      "application/vnd.jupyter.widget-view+json": {
       "model_id": "c72917ed227d45a297ee584489751d8a",
       "version_major": 2,
       "version_minor": 0
      },
      "text/plain": [
       "Embryo 74:   0%|          | 0/17 [00:00<?, ?it/s]"
      ]
     },
     "metadata": {},
     "output_type": "display_data"
    },
    {
     "data": {
      "application/vnd.jupyter.widget-view+json": {
       "model_id": "e727499a0f324667b00d0a755f78fa88",
       "version_major": 2,
       "version_minor": 0
      },
      "text/plain": [
       "Embryo 75:   0%|          | 0/15 [00:00<?, ?it/s]"
      ]
     },
     "metadata": {},
     "output_type": "display_data"
    }
   ],
   "source": [
    "simulator = EmbryoSequenceSimulator(df, n_embryos)\n",
    "X,true_clusters,gene_locus_map = simulator.embryo_population_simulation(count_df)\n",
    "print(X.shape)\n",
    "print(X)"
   ]
  },
  {
   "cell_type": "code",
   "execution_count": null,
   "id": "elder-definition",
   "metadata": {
    "ExecuteTime": {
     "start_time": "2022-09-08T04:53:19.706Z"
    }
   },
   "outputs": [],
   "source": [
    "n = X.shape[0]\n",
    "\n",
    "def adjustedHamming(g0, g1):\n",
    "# Computes a hamming distance normalized by where we have\n",
    "# data. ie. entries are not -1.\n",
    "    if len(g0) != len(g1):\n",
    "        raise ValueError(\"Sequence lengths unequal.\")\n",
    "    else:\n",
    "        hd,adjlen = 0, 0\n",
    "        for i, j in zip(g0, g1):\n",
    "            if i == -1 or j == -1: \n",
    "                continue\n",
    "            \n",
    "            adjlen += 1\n",
    "            \n",
    "            if i != j: \n",
    "                hd += 1\n",
    "                \n",
    "        if adjlen == 0:\n",
    "            return np.inf\n",
    "        else:\n",
    "            return hd/adjlen\n",
    "\n",
    "def compute_row_ham_dists(i):\n",
    "# Compute a row of hamming dists\n",
    "    row_hd = np.zeros(n-i)\n",
    "    \n",
    "    for j in range(i, n):\n",
    "        hd = adjustedHamming(X[i,:], X[j,:])\n",
    "        row_hd[j-i] = hd\n",
    "        \n",
    "    return row_hd\n",
    "\n",
    "\n",
    "with Pool(NUM_PROC) as p:\n",
    "    ham_dists = list(tqdm(p.imap(compute_row_ham_dists, range(n)), total=n))\n",
    "\n",
    "hd = np.zeros((n, n))\n",
    "\n",
    "for i in range(n):\n",
    "    hd[i, i:] = ham_dists[i]\n",
    "\n",
    "hd = hd + hd.T"
   ]
  },
  {
   "cell_type": "code",
   "execution_count": null,
   "id": "significant-portsmouth",
   "metadata": {
    "ExecuteTime": {
     "start_time": "2022-09-08T04:53:19.707Z"
    }
   },
   "outputs": [],
   "source": [
    "fig,ax = plt.subplots(figsize=(9,7))\n",
    "h1 = ax.imshow(hd, aspect='auto')\n",
    "fig.colorbar(h1, ax=ax)\n",
    "plt.show()"
   ]
  },
  {
   "cell_type": "code",
   "execution_count": null,
   "id": "environmental-wallace",
   "metadata": {
    "ExecuteTime": {
     "start_time": "2022-09-08T04:53:19.709Z"
    }
   },
   "outputs": [],
   "source": [
    "clusters = SpectralClustering(n_clusters=n_embryos,assign_labels=\"discretize\").fit(hd)\n",
    "print(clusters.labels_)"
   ]
  },
  {
   "cell_type": "code",
   "execution_count": null,
   "id": "equipped-tribute",
   "metadata": {
    "ExecuteTime": {
     "start_time": "2022-09-08T04:53:19.711Z"
    }
   },
   "outputs": [],
   "source": [
    "print(adjusted_rand_score(true_clusters,clusters.labels_))"
   ]
  },
  {
   "cell_type": "code",
   "execution_count": null,
   "id": "decimal-calgary",
   "metadata": {},
   "outputs": [],
   "source": []
  }
 ],
 "metadata": {
  "hide_input": false,
  "kernelspec": {
   "display_name": "Python 3",
   "language": "python",
   "name": "python3"
  },
  "language_info": {
   "codemirror_mode": {
    "name": "ipython",
    "version": 3
   },
   "file_extension": ".py",
   "mimetype": "text/x-python",
   "name": "python",
   "nbconvert_exporter": "python",
   "pygments_lexer": "ipython3",
   "version": "3.7.9"
  }
 },
 "nbformat": 4,
 "nbformat_minor": 5
}
